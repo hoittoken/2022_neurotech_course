{
 "cells": [
  {
   "cell_type": "code",
   "execution_count": 13,
   "id": "bf8ee6bc-d31c-4823-a8e8-167a2942dbdc",
   "metadata": {},
   "outputs": [],
   "source": [
    "import serial\n",
    "import numpy as np\n",
    "import time"
   ]
  },
  {
   "cell_type": "code",
   "execution_count": 2,
   "id": "601e05ff-9630-4740-b15f-703e3d6fa20b",
   "metadata": {},
   "outputs": [],
   "source": [
    "ser = serial.Serial('/dev/cu.usbserial-1430', 9600, timeout=1);"
   ]
  },
  {
   "cell_type": "code",
   "execution_count": 10,
   "id": "4e64d17e-d45d-4fcb-9d4f-9c95c81bc3a8",
   "metadata": {},
   "outputs": [],
   "source": [
    "ser.write(bytearray([0]));"
   ]
  },
  {
   "cell_type": "code",
   "execution_count": 12,
   "id": "29416cbb-1057-4249-9dc9-91ff8e79270c",
   "metadata": {},
   "outputs": [],
   "source": [
    "ser.write(bytearray([180]));"
   ]
  },
  {
   "cell_type": "code",
   "execution_count": 15,
   "id": "41f880b3-1535-4edd-9310-9540a9cefd10",
   "metadata": {},
   "outputs": [
    {
     "ename": "KeyboardInterrupt",
     "evalue": "",
     "output_type": "error",
     "traceback": [
      "\u001b[0;31m---------------------------------------------------------------------------\u001b[0m",
      "\u001b[0;31mKeyboardInterrupt\u001b[0m                         Traceback (most recent call last)",
      "Input \u001b[0;32mIn [15]\u001b[0m, in \u001b[0;36m<cell line: 2>\u001b[0;34m()\u001b[0m\n\u001b[1;32m      1\u001b[0m \u001b[38;5;28;01mwhile\u001b[39;00m \u001b[38;5;28;01mTrue\u001b[39;00m:\n\u001b[1;32m      2\u001b[0m     ser\u001b[38;5;241m.\u001b[39mwrite(\u001b[38;5;28mbytearray\u001b[39m([\u001b[38;5;241m0\u001b[39m]));\n\u001b[0;32m----> 3\u001b[0m     \u001b[43mtime\u001b[49m\u001b[38;5;241;43m.\u001b[39;49m\u001b[43msleep\u001b[49m\u001b[43m(\u001b[49m\u001b[38;5;241;43m1\u001b[39;49m\u001b[43m)\u001b[49m;\n\u001b[1;32m      4\u001b[0m     ser\u001b[38;5;241m.\u001b[39mwrite(\u001b[38;5;28mbytearray\u001b[39m([\u001b[38;5;241m180\u001b[39m]));\n\u001b[1;32m      5\u001b[0m     time\u001b[38;5;241m.\u001b[39msleep(\u001b[38;5;241m5\u001b[39m)\n",
      "\u001b[0;31mKeyboardInterrupt\u001b[0m: "
     ]
    }
   ],
   "source": [
    "while True:\n",
    "    ser.write(bytearray([0]));\n",
    "    time.sleep(1);\n",
    "    ser.write(bytearray([180]));\n",
    "    time.sleep(5);"
   ]
  },
  {
   "cell_type": "code",
   "execution_count": null,
   "id": "ae512e1a-c4d4-4582-896b-4b378c4b711d",
   "metadata": {},
   "outputs": [],
   "source": []
  }
 ],
 "metadata": {
  "kernelspec": {
   "display_name": "Python 3",
   "language": "python",
   "name": "python3"
  },
  "language_info": {
   "codemirror_mode": {
    "name": "ipython",
    "version": 3
   },
   "file_extension": ".py",
   "mimetype": "text/x-python",
   "name": "python",
   "nbconvert_exporter": "python",
   "pygments_lexer": "ipython3",
   "version": "3.8.13"
  }
 },
 "nbformat": 4,
 "nbformat_minor": 5
}
