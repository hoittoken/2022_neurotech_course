{
 "cells": [
  {
   "cell_type": "code",
   "execution_count": 6,
   "id": "4708b24b-2caf-4a2a-a29e-6caff8717085",
   "metadata": {},
   "outputs": [],
   "source": [
    "import serial\n",
    "\n",
    "ser = serial.Serial(\"/dev/cu.usbserial-1430\", baudrate=9600, timeout=0.1) # timeout in seconds"
   ]
  },
  {
   "cell_type": "code",
   "execution_count": 7,
   "id": "8dd09eda-1aec-4568-ad82-f9b4c6f9fee5",
   "metadata": {},
   "outputs": [
    {
     "data": {
      "text/plain": [
       "b''"
      ]
     },
     "execution_count": 7,
     "metadata": {},
     "output_type": "execute_result"
    }
   ],
   "source": [
    "ser.read()"
   ]
  },
  {
   "cell_type": "code",
   "execution_count": 8,
   "id": "e3c97387-f801-48fa-9989-733209496a9e",
   "metadata": {},
   "outputs": [
    {
     "data": {
      "text/plain": [
       "3"
      ]
     },
     "execution_count": 8,
     "metadata": {},
     "output_type": "execute_result"
    }
   ],
   "source": [
    "ser.write(b'123')"
   ]
  },
  {
   "cell_type": "code",
   "execution_count": 21,
   "id": "c3dab1c4-aa35-4787-a02b-fc84aa24f4e4",
   "metadata": {},
   "outputs": [
    {
     "data": {
      "text/plain": [
       "b''"
      ]
     },
     "execution_count": 21,
     "metadata": {},
     "output_type": "execute_result"
    }
   ],
   "source": [
    "ser.read()"
   ]
  },
  {
   "cell_type": "code",
   "execution_count": 22,
   "id": "adb4e27c-0757-4c7a-8916-34b1f8bbf544",
   "metadata": {},
   "outputs": [
    {
     "data": {
      "text/plain": [
       "1"
      ]
     },
     "execution_count": 22,
     "metadata": {},
     "output_type": "execute_result"
    }
   ],
   "source": [
    "ser.write(1)"
   ]
  },
  {
   "cell_type": "code",
   "execution_count": 23,
   "id": "411c030f-513e-418d-829b-b368c6c453af",
   "metadata": {},
   "outputs": [
    {
     "data": {
      "text/plain": [
       "b'\\x00'"
      ]
     },
     "execution_count": 23,
     "metadata": {},
     "output_type": "execute_result"
    }
   ],
   "source": [
    "ser.read()"
   ]
  },
  {
   "cell_type": "markdown",
   "id": "76a21899-fdf0-4f4c-accd-d0968875fd44",
   "metadata": {},
   "source": [
    "# Numpy working with buffers"
   ]
  },
  {
   "cell_type": "code",
   "execution_count": 38,
   "id": "0ece4169-12ff-4ee9-b8dd-f33377fcc4cf",
   "metadata": {},
   "outputs": [],
   "source": [
    "for d in range(10):\n",
    "    ser.write(bytearray([d]))"
   ]
  },
  {
   "cell_type": "code",
   "execution_count": 39,
   "id": "0ad70afe-7049-4cea-84a2-2c402755e106",
   "metadata": {},
   "outputs": [
    {
     "data": {
      "text/plain": [
       "b'\\x00\\x01\\x02\\x03\\x04\\x05\\x06\\x07\\x08\\t'"
      ]
     },
     "execution_count": 39,
     "metadata": {},
     "output_type": "execute_result"
    }
   ],
   "source": [
    "ser.read_all()"
   ]
  },
  {
   "cell_type": "code",
   "execution_count": 43,
   "id": "79c98455-562d-4958-a8bc-7ee9974dd429",
   "metadata": {},
   "outputs": [],
   "source": [
    "import numpy as np"
   ]
  },
  {
   "cell_type": "code",
   "execution_count": 40,
   "id": "08ee696c-ddf6-433f-914e-3f7b4c776be8",
   "metadata": {},
   "outputs": [],
   "source": [
    "for d in range(10):\n",
    "    ser.write(bytearray([d]))"
   ]
  },
  {
   "cell_type": "code",
   "execution_count": 41,
   "id": "246e63a0-e9f0-46d2-b487-17ea50ed3133",
   "metadata": {},
   "outputs": [],
   "source": [
    "inp = ser.read_all()"
   ]
  },
  {
   "cell_type": "code",
   "execution_count": 42,
   "id": "dcc62927-3b66-443a-af74-fed31fb002b2",
   "metadata": {},
   "outputs": [
    {
     "data": {
      "text/plain": [
       "b'\\x00\\x01\\x02\\x03\\x04\\x05\\x06\\x07\\x08\\t'"
      ]
     },
     "execution_count": 42,
     "metadata": {},
     "output_type": "execute_result"
    }
   ],
   "source": [
    "inp"
   ]
  },
  {
   "cell_type": "code",
   "execution_count": 45,
   "id": "c78887b2-e050-495e-a11c-d4daefc1727e",
   "metadata": {},
   "outputs": [
    {
     "data": {
      "text/plain": [
       "array([0, 1, 2, 3, 4, 5, 6, 7, 8, 9], dtype=uint8)"
      ]
     },
     "execution_count": 45,
     "metadata": {},
     "output_type": "execute_result"
    }
   ],
   "source": [
    "np.frombuffer(inp, dtype='uint8')"
   ]
  },
  {
   "cell_type": "code",
   "execution_count": null,
   "id": "88268d64-8a7c-4c7f-a21d-9ea5aa29e267",
   "metadata": {},
   "outputs": [],
   "source": []
  }
 ],
 "metadata": {
  "kernelspec": {
   "display_name": "Python 3",
   "language": "python",
   "name": "python3"
  },
  "language_info": {
   "codemirror_mode": {
    "name": "ipython",
    "version": 3
   },
   "file_extension": ".py",
   "mimetype": "text/x-python",
   "name": "python",
   "nbconvert_exporter": "python",
   "pygments_lexer": "ipython3",
   "version": "3.8.13"
  }
 },
 "nbformat": 4,
 "nbformat_minor": 5
}
