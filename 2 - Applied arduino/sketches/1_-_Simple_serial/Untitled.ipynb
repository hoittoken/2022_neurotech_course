{
 "cells": [
  {
   "cell_type": "markdown",
   "id": "c66cf6d6-c7e9-4d36-b20a-10eb2e3f9240",
   "metadata": {},
   "source": [
    "Run to install pyserial  \n",
    "`%pip install pyserial`"
   ]
  },
  {
   "cell_type": "code",
   "execution_count": 1,
   "id": "7c7ecae9-aaa6-412b-b016-d6993305972e",
   "metadata": {},
   "outputs": [],
   "source": [
    "import serial"
   ]
  },
  {
   "cell_type": "code",
   "execution_count": 3,
   "id": "ba52c8ed-eb69-4cc8-ac3a-b3e8ef1a7416",
   "metadata": {},
   "outputs": [],
   "source": [
    "ser = serial.Serial(\"/dev/cu.usbserial-1410\", baudrate=9600)"
   ]
  },
  {
   "cell_type": "code",
   "execution_count": 26,
   "id": "3942176a-8900-4eb9-b71f-3f0f7cffd470",
   "metadata": {},
   "outputs": [
    {
     "data": {
      "text/plain": [
       "b'l'"
      ]
     },
     "execution_count": 26,
     "metadata": {},
     "output_type": "execute_result"
    }
   ],
   "source": [
    "ser.read()"
   ]
  },
  {
   "cell_type": "code",
   "execution_count": 27,
   "id": "0930b9bc-94d1-4df1-a542-b9ac1973d4b1",
   "metadata": {},
   "outputs": [
    {
     "data": {
      "text/plain": [
       "b'd\\r\\nHello World\\r\\nHello World\\r\\nHello World\\r\\nHello World\\r\\nHello World\\r\\nHello World\\r\\nHello World\\r\\nHello World\\r\\n'"
      ]
     },
     "execution_count": 27,
     "metadata": {},
     "output_type": "execute_result"
    }
   ],
   "source": [
    "ser.read_all()"
   ]
  },
  {
   "cell_type": "code",
   "execution_count": 28,
   "id": "021f915c-9d4c-4c56-9568-bc9102aa058a",
   "metadata": {},
   "outputs": [
    {
     "name": "stdout",
     "output_type": "stream",
     "text": [
      "Hello World\n",
      "Hello World\n",
      "Hello World\n",
      "Hello World\n",
      "Hello World\n",
      "Hello World\n",
      "Hello World\n",
      "Hello World\n",
      "Hello World\n",
      "Hello World\n",
      "Hello World\n",
      "Hello World\n",
      "Hello World\n",
      "Hello World\n",
      "Hello World\n",
      "Hello World\n",
      "Hello World\n",
      "Hello World\n",
      "Hello World\n",
      "Hello World\n",
      "Hello World\n",
      "Hello World\n",
      "\n"
     ]
    }
   ],
   "source": [
    "print(ser.read_all().decode('utf-8'))"
   ]
  },
  {
   "cell_type": "code",
   "execution_count": 37,
   "id": "876a6eee-1b0d-4fdb-9af6-a4e278559e33",
   "metadata": {},
   "outputs": [
    {
     "data": {
      "text/plain": [
       "b'Hello World\\r\\n'"
      ]
     },
     "execution_count": 37,
     "metadata": {},
     "output_type": "execute_result"
    }
   ],
   "source": [
    "ser.read_until(b'\\r\\n')"
   ]
  },
  {
   "cell_type": "code",
   "execution_count": null,
   "id": "d69ae50b-1cb1-4825-8124-ead37a3d68bb",
   "metadata": {},
   "outputs": [],
   "source": []
  }
 ],
 "metadata": {
  "kernelspec": {
   "display_name": "Python 3",
   "language": "python",
   "name": "python3"
  },
  "language_info": {
   "codemirror_mode": {
    "name": "ipython",
    "version": 3
   },
   "file_extension": ".py",
   "mimetype": "text/x-python",
   "name": "python",
   "nbconvert_exporter": "python",
   "pygments_lexer": "ipython3",
   "version": "3.8.13"
  }
 },
 "nbformat": 4,
 "nbformat_minor": 5
}
