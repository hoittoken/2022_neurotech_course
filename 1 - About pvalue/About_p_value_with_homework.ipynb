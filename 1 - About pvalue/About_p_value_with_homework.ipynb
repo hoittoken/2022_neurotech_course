{
  "nbformat": 4,
  "nbformat_minor": 0,
  "metadata": {
    "colab": {
      "name": "About p-value",
      "provenance": [],
      "collapsed_sections": []
    },
    "kernelspec": {
      "name": "python3",
      "display_name": "Python 3"
    },
    "language_info": {
      "name": "python"
    }
  },
  "cells": [
    {
      "cell_type": "markdown",
      "metadata": {
        "id": "p1v5j4YhRKwm"
      },
      "source": [
        "# Введение"
      ]
    },
    {
      "cell_type": "markdown",
      "metadata": {
        "id": "mNF7p_T3Qi3p"
      },
      "source": [
        "**Как строится выборка?**\n",
        "\n",
        "Есть Генеральная совокупность объектов (population), из которой путем определенной процедуры выбора (наблюдения, sampling) создается подмножество элементов (sample set).\n",
        "\n",
        "**Как получаются данные?**\n",
        "\n",
        "Данные получаются в результате процедуры измерения каких-либо параметров наблюдаемой выборки.\n",
        "\n",
        "**Пример**\n",
        "\n",
        "Потенциалы электродов в каждый момент времени. Генеральная совокупность — объективный физический потенциал в каждый момент времени в каждой точке пространства. Выборка — потенциал, измеренный с помощью EEG системы, в определенные моменты времени в определенных точках пространства.\n",
        "\n",
        "*Параметр* - величина, характеризующая генеральную совокупность  (популяционное среднее и дисперсия)  \n",
        "*Статистика* - величина, характеризующая выборку (среднее выборки, дисперсия выборки)\n",
        "\n",
        "Пример статистик: $\\overline{x}$ (среднее, mean), $s^2$  (дисперсия, variance)  \n",
        "Пример параметров: $\\mu$, $\\sigma^2$\n",
        "\n",
        "**В чем проблема?**\n",
        "Данные после процедуры измерения (даже с одного и того же объекта) получаются различные, данные варьируются (*семь раз отмерь*). Например, может влиять как процедура измерения (инструментальная, методологическая ошибка), так и неоднозначность самой измеряемой величины (например, температура может варьироваться). Но по одному измерению составить вывод об источнике этих различий нельзя.\n",
        "\n",
        "**Как описать эту *различность*?**  \n",
        "С помощью вероятности -- количественной оценки наступления события, например  \n",
        "- выпадения орла/решки, \n",
        "- выпадения стороны кубика\n",
        "- нахождения измеренного потенциала в диапазоне между 1.32µВ и 1.33µВ.  \n",
        "\n",
        "Частотная вероятность  \n",
        "$p_{event}=\\frac{n_{event}}{N_{events}}$, где $n_{event}$ количество одного событий одного типа, а $N_{events}$ — количество всех события. Крайне желательно, чтобы $N_{events}>>1$, а теоретически необходимо $N_{events} \\rightarrow inf$, чего на практике не встречается.\n",
        "\n",
        "**Почему диапазон?**  \n",
        "Потому что у каждого измерительного прибора есть конечная (дискретная) шкала, точнее которой невозможно измерить, то есть сама процедура измерения накладывает верхнюю и нижнюю границу на измеряемую непрерывную величину. А сам процесс называется *дискретизация*.\n",
        "\n",
        "**Диапазоны АЦП**\n",
        "\n",
        "- *Arduino* Uno/Nano  \n",
        "Диапазон 0..5В, количество бит — 10, количество отсчетов - 1024,   \n",
        "шаг АЦП $\\frac{5В-0В}{1024}\\approx0.005В = 5мВ$\n",
        "\n",
        "- *STM32F103xx*  \n",
        "Диапазон 0..3.3В, количество бит — 12, количество отсчетов - 4096  \n",
        "шаг АЦП $\\frac{3.3В-0В}{4096} \\approx 8\\cdot10^{-4}В \\approx 0.1мВ$\n",
        "\n",
        "- *STM32H743xx*  \n",
        "Диапазон 0..3.3В, количество бит — 16, количество отсчетов — $65536$  \n",
        "шаг АЦП $\\frac{3.3В-0В}{65536} \\approx 5\\cdot10^{-5}В \\approx 50µВ$\n",
        "\n",
        "- Analog Devices ADC *ad7739*  \n",
        "Диапазон 0..3.3В, количество бит — 24, количество отсчетов — 16777216 (16.7 млн)  \n",
        "шаг АЦП $\\frac{3.3В-0В}{16.7млн} \\approx 2\\cdot10^{-7}В \\approx 200нВ$"
      ]
    },
    {
      "cell_type": "markdown",
      "metadata": {
        "id": "ITAoAFxTZzrU"
      },
      "source": [
        "# Как будем ставить эксперименты\n",
        "\n",
        "Будем буквально выбирать элементы из выборки"
      ]
    },
    {
      "cell_type": "code",
      "metadata": {
        "id": "7r-0DoJcZ3jW"
      },
      "source": [
        "import numpy as np\n",
        "from matplotlib import pyplot as plt"
      ],
      "execution_count": null,
      "outputs": []
    },
    {
      "cell_type": "code",
      "metadata": {
        "colab": {
          "base_uri": "https://localhost:8080/"
        },
        "id": "15-U8IDUZ45j",
        "outputId": "fab02137-3f3c-4e6f-a785-d08ae559e8aa"
      },
      "source": [
        "# выбираем - наблюдаем броски кубика\n",
        "np.random.choice([1,2,3,4,5,6])"
      ],
      "execution_count": null,
      "outputs": [
        {
          "output_type": "execute_result",
          "data": {
            "text/plain": [
              "3"
            ]
          },
          "metadata": {},
          "execution_count": 5
        }
      ]
    },
    {
      "cell_type": "code",
      "metadata": {
        "colab": {
          "base_uri": "https://localhost:8080/"
        },
        "id": "SfoGQUhQ4K6c",
        "outputId": "23e36ed5-b284-44f2-b79f-ba24a836f54d"
      },
      "source": [
        "# наблюдаем броски монетки\n",
        "np.random.choice([\"Орел\", \"Решка\"], size=10)"
      ],
      "execution_count": null,
      "outputs": [
        {
          "output_type": "execute_result",
          "data": {
            "text/plain": [
              "array(['Орел', 'Орел', 'Орел', 'Решка', 'Орел', 'Орел', 'Орел', 'Решка',\n",
              "       'Решка', 'Орел'], dtype='<U5')"
            ]
          },
          "metadata": {},
          "execution_count": 6
        }
      ]
    },
    {
      "cell_type": "code",
      "metadata": {
        "colab": {
          "base_uri": "https://localhost:8080/"
        },
        "id": "s2OaFmlGZ_qO",
        "outputId": "cd79156e-638d-4335-b8ce-60cb3eb7e52d"
      },
      "source": [
        "np.random.choice([1,2,3,4,5,6], size=10)"
      ],
      "execution_count": null,
      "outputs": [
        {
          "output_type": "execute_result",
          "data": {
            "text/plain": [
              "array([4, 4, 4, 6, 4, 3, 6, 1, 5, 2])"
            ]
          },
          "metadata": {},
          "execution_count": 7
        }
      ]
    },
    {
      "cell_type": "code",
      "metadata": {
        "id": "EBHdKY8baBit",
        "colab": {
          "base_uri": "https://localhost:8080/",
          "height": 244
        },
        "outputId": "d79ed356-0011-4130-8abe-a9a8f770441b"
      },
      "source": [
        "np.random.choice([1,2,3,4,5,6], \n",
        "                 size=10,\n",
        "                 p = [1,1,1,1,1,5])"
      ],
      "execution_count": null,
      "outputs": [
        {
          "output_type": "error",
          "ename": "ValueError",
          "evalue": "ignored",
          "traceback": [
            "\u001b[0;31m---------------------------------------------------------------------------\u001b[0m",
            "\u001b[0;31mValueError\u001b[0m                                Traceback (most recent call last)",
            "\u001b[0;32m<ipython-input-8-dbf1f44220fd>\u001b[0m in \u001b[0;36m<module>\u001b[0;34m()\u001b[0m\n\u001b[1;32m      1\u001b[0m np.random.choice([1,2,3,4,5,6], \n\u001b[1;32m      2\u001b[0m                  \u001b[0msize\u001b[0m\u001b[0;34m=\u001b[0m\u001b[0;36m10\u001b[0m\u001b[0;34m,\u001b[0m\u001b[0;34m\u001b[0m\u001b[0;34m\u001b[0m\u001b[0m\n\u001b[0;32m----> 3\u001b[0;31m                  p = [1,1,1,1,1,5])\n\u001b[0m",
            "\u001b[0;32mmtrand.pyx\u001b[0m in \u001b[0;36mnumpy.random.mtrand.RandomState.choice\u001b[0;34m()\u001b[0m\n",
            "\u001b[0;31mValueError\u001b[0m: probabilities do not sum to 1"
          ]
        }
      ]
    },
    {
      "cell_type": "code",
      "metadata": {
        "id": "IetxW6SlaRlG",
        "colab": {
          "base_uri": "https://localhost:8080/"
        },
        "outputId": "7d93feb5-d62d-4e6a-d3fe-dc706cc6ffcf"
      },
      "source": [
        "weights = np.array([1,1,1,1,1,5], dtype='double')\n",
        "weights /= weights.sum()\n",
        "np.random.choice([1,2,3,4,5,6], size=10, p = weights)"
      ],
      "execution_count": null,
      "outputs": [
        {
          "output_type": "execute_result",
          "data": {
            "text/plain": [
              "array([1, 2, 6, 1, 6, 1, 6, 6, 6, 3])"
            ]
          },
          "metadata": {},
          "execution_count": 10
        }
      ]
    },
    {
      "cell_type": "code",
      "metadata": {
        "colab": {
          "base_uri": "https://localhost:8080/",
          "height": 393
        },
        "id": "irVvrd9MbE_A",
        "outputId": "ad2fa961-d954-4c49-ec90-439ccf1cd18e"
      },
      "source": [
        "weights = np.array([1,1,1,1,1,5], dtype='double')\n",
        "weights /= weights.sum()\n",
        "X = np.random.choice([1,2,3,4,5,6], size=100, p = weights)\n",
        "\n",
        "plt.figure()\n",
        "plt.hist(X, bins=np.linspace(0.5, 6.5, 3*6+1))"
      ],
      "execution_count": null,
      "outputs": [
        {
          "output_type": "execute_result",
          "data": {
            "text/plain": [
              "(array([ 0.,  7.,  0.,  0., 10.,  0.,  0.,  9.,  0.,  0.,  8.,  0.,  0.,\n",
              "        16.,  0.,  0., 50.,  0.]),\n",
              " array([0.5       , 0.83333333, 1.16666667, 1.5       , 1.83333333,\n",
              "        2.16666667, 2.5       , 2.83333333, 3.16666667, 3.5       ,\n",
              "        3.83333333, 4.16666667, 4.5       , 4.83333333, 5.16666667,\n",
              "        5.5       , 5.83333333, 6.16666667, 6.5       ]),\n",
              " <a list of 18 Patch objects>)"
            ]
          },
          "metadata": {},
          "execution_count": 13
        },
        {
          "output_type": "display_data",
          "data": {
            "image/png": "[encoded data removed]",
            "text/plain": [
              "<Figure size 432x288 with 1 Axes>"
            ]
          },
          "metadata": {
            "needs_background": "light"
          }
        }
      ]
    },
    {
      "cell_type": "markdown",
      "metadata": {
        "id": "ZXBYM5VZcMfd"
      },
      "source": [
        "# Увеличим плостность выборки"
      ]
    },
    {
      "cell_type": "code",
      "metadata": {
        "colab": {
          "base_uri": "https://localhost:8080/",
          "height": 283
        },
        "id": "jhOR35jAcTCK",
        "outputId": "323aef16-04c6-4dc1-8656-eaf05a6ba843"
      },
      "source": [
        "coords = np.linspace(-10, 10, 20) # например, это потенциал от -10µВ до +10µВ\n",
        "dc = np.diff(coords).mean()\n",
        "plt.plot(coords, '.')\n",
        "'Шаг координат', dc"
      ],
      "execution_count": null,
      "outputs": [
        {
          "output_type": "execute_result",
          "data": {
            "text/plain": [
              "('Шаг координат', 1.0526315789473684)"
            ]
          },
          "metadata": {},
          "execution_count": 14
        },
        {
          "output_type": "display_data",
          "data": {
            "image/png": "[encoded data removed]",
            "text/plain": [
              "<Figure size 432x288 with 1 Axes>"
            ]
          },
          "metadata": {
            "needs_background": "light"
          }
        }
      ]
    },
    {
      "cell_type": "code",
      "metadata": {
        "colab": {
          "base_uri": "https://localhost:8080/",
          "height": 283
        },
        "id": "z6_ampW9hLJs",
        "outputId": "767944b0-ac2a-41a4-8d29-38f358855000"
      },
      "source": [
        "# Введем буквально распределение вероятности\n",
        "weights = np.zeros_like(coords)\n",
        "weights[np.abs(coords)<1] = 1\n",
        "weights/= weights.sum()\n",
        "plt.figure()\n",
        "plt.plot(coords, weights, '.')"
      ],
      "execution_count": null,
      "outputs": [
        {
          "output_type": "execute_result",
          "data": {
            "text/plain": [
              "[<matplotlib.lines.Line2D at 0x7f11b673b790>]"
            ]
          },
          "metadata": {},
          "execution_count": 15
        },
        {
          "output_type": "display_data",
          "data": {
            "image/png": "[encoded data removed]",
            "text/plain": [
              "<Figure size 432x288 with 1 Axes>"
            ]
          },
          "metadata": {
            "needs_background": "light"
          }
        }
      ]
    },
    {
      "cell_type": "code",
      "metadata": {
        "id": "rJyAHIxcizJj",
        "colab": {
          "base_uri": "https://localhost:8080/",
          "height": 265
        },
        "outputId": "f78e97a4-38c7-4ed5-c2fa-123c53ede62e"
      },
      "source": [
        "# Генерируем выборку\n",
        "X = np.random.choice(coords, size=10000, p = weights)\n",
        "plt.figure()\n",
        "plt.hist(X, bins=np.linspace(coords.min() - dc/2, coords.max()+dc/2, len(coords)+1));"
      ],
      "execution_count": null,
      "outputs": [
        {
          "output_type": "display_data",
          "data": {
            "image/png": "[encoded data removed]",
            "text/plain": [
              "<Figure size 432x288 with 1 Axes>"
            ]
          },
          "metadata": {
            "needs_background": "light"
          }
        }
      ]
    },
    {
      "cell_type": "code",
      "metadata": {
        "colab": {
          "base_uri": "https://localhost:8080/",
          "height": 830
        },
        "id": "gUsRLpA_7iKJ",
        "outputId": "0cf973f5-e0c9-4e63-811e-e648290ea5cd"
      },
      "source": [
        "coords = np.linspace(-10, 10, 100) # например, это потенциал от -10µВ до +10µВ\n",
        "dc = np.diff(coords).mean()\n",
        "plt.plot(coords, '.')\n",
        "print('Шаг координат', dc)\n",
        "\n",
        "# Введем гауссово распределение вероятности\n",
        "weights = np.exp(-(coords-0)**2/(2*1**2))\n",
        "weights/= weights.sum()\n",
        "plt.figure()\n",
        "plt.plot(coords, weights, '.')\n",
        "plt.title('Распределение вероятности')\n",
        "\n",
        "# Генерируем выборку\n",
        "X = np.random.choice(coords, size=10000, p = weights)\n",
        "plt.figure()\n",
        "plt.hist(X, bins=np.linspace(coords.min() - dc/2, coords.max()+dc/2, len(coords)+1));\n",
        "plt.title('Распределение значений в выборке')"
      ],
      "execution_count": null,
      "outputs": [
        {
          "output_type": "stream",
          "name": "stdout",
          "text": [
            "Шаг координат 0.20202020202020202\n"
          ]
        },
        {
          "output_type": "execute_result",
          "data": {
            "text/plain": [
              "Text(0.5, 1.0, 'Распределение значений в выборке')"
            ]
          },
          "metadata": {},
          "execution_count": 17
        },
        {
          "output_type": "display_data",
          "data": {
            "image/png": "[encoded data removed]",
            "text/plain": [
              "<Figure size 432x288 with 1 Axes>"
            ]
          },
          "metadata": {
            "needs_background": "light"
          }
        },
        {
          "output_type": "display_data",
          "data": {
            "image/png": "[encoded data removed]",
            "text/plain": [
              "<Figure size 432x288 with 1 Axes>"
            ]
          },
          "metadata": {
            "needs_background": "light"
          }
        },
        {
          "output_type": "display_data",
          "data": {
            "image/png": "[encoded data removed]",
            "text/plain": [
              "<Figure size 432x288 with 1 Axes>"
            ]
          },
          "metadata": {
            "needs_background": "light"
          }
        }
      ]
    },
    {
      "cell_type": "code",
      "metadata": {
        "colab": {
          "base_uri": "https://localhost:8080/",
          "height": 299
        },
        "id": "_qOrh9bO8JJY",
        "outputId": "cae7ab6f-8101-4802-920e-8b3d5ae64103"
      },
      "source": [
        "from scipy.stats import norm, uniform\n",
        "X = norm.rvs(loc = 0, scale=1, size=10000)\n",
        "\n",
        "plt.figure()\n",
        "plt.hist(X, bins=np.linspace(coords.min() - dc/2, coords.max()+dc/2, len(coords)+1));\n",
        "plt.title('Распределение значений в выборке с помощью scipy.stats.norm')"
      ],
      "execution_count": null,
      "outputs": [
        {
          "output_type": "execute_result",
          "data": {
            "text/plain": [
              "Text(0.5, 1.0, 'Распределение значений в выборке с помощью scipy.stats.norm')"
            ]
          },
          "metadata": {},
          "execution_count": 21
        },
        {
          "output_type": "display_data",
          "data": {
            "image/png": "[encoded data removed]",
            "text/plain": [
              "<Figure size 432x288 with 1 Axes>"
            ]
          },
          "metadata": {
            "needs_background": "light"
          }
        }
      ]
    },
    {
      "cell_type": "code",
      "source": [
        ""
      ],
      "metadata": {
        "id": "Xw67JeOOkp7a"
      },
      "execution_count": null,
      "outputs": []
    },
    {
      "cell_type": "markdown",
      "source": [
        "# !!!!!!!!!!!!!!!!! Домашнее задание\n",
        "1. Провести _руками_ генерацию пилообразных выборок и сравнить с scipy.triang\n",
        "1. Провести _руками_ генерацию прямоугольных выборок и сравнить с scipy.uniform\n",
        "1. Провести _руками_ генерацию логнормальных выборок и сравнить с scipy.lognorm"
      ],
      "metadata": {
        "id": "s4MR_wv4kufz"
      }
    },
    {
      "cell_type": "markdown",
      "metadata": {
        "id": "K5PxntWZWo82"
      },
      "source": [
        "# Почему мы (чаще всего) работаем в гипотезе нормального распределения?"
      ]
    },
    {
      "cell_type": "markdown",
      "metadata": {
        "id": "XPLZu7RJWwl_"
      },
      "source": [
        "Из-за центральной предельной теоремы"
      ]
    },
    {
      "cell_type": "code",
      "metadata": {
        "id": "-_jRSJPfZSLh",
        "colab": {
          "base_uri": "https://localhost:8080/",
          "height": 283
        },
        "outputId": "38eee517-1843-4ed2-f071-caa50341e92c"
      },
      "source": [
        "coords = np.linspace(-10, 10, 100) # например, это потенциал от -10µВ до +10µВ\n",
        "dc = np.diff(coords).mean()\n",
        "plt.plot(coords, '.')\n",
        "print('Шаг координат', dc)\n"
      ],
      "execution_count": null,
      "outputs": [
        {
          "output_type": "stream",
          "name": "stdout",
          "text": [
            "Шаг координат 0.20202020202020202\n"
          ]
        },
        {
          "output_type": "display_data",
          "data": {
            "image/png": "[encoded data removed]",
            "text/plain": [
              "<Figure size 432x288 with 1 Axes>"
            ]
          },
          "metadata": {
            "needs_background": "light"
          }
        }
      ]
    },
    {
      "cell_type": "code",
      "metadata": {
        "colab": {
          "base_uri": "https://localhost:8080/",
          "height": 563
        },
        "id": "NpRH2gMO9x5E",
        "outputId": "1b88bbf4-86f9-4ba8-d3ab-79070d5917a2"
      },
      "source": [
        "# Введем гауссово распределение вероятности\n",
        "weights = np.exp(-(coords-0)**2/(2*1**2))\n",
        "weights/= weights.sum()\n",
        "plt.figure()\n",
        "plt.plot(coords, weights, '.')\n",
        "plt.title('Распределение вероятности')\n",
        "\n",
        "# Генерируем выборку\n",
        "X = np.random.choice(coords, size=10000, p = weights)\n",
        "plt.figure()\n",
        "plt.hist(X, bins=np.linspace(coords.min() - dc/2, coords.max()+dc/2, len(coords)+1));\n",
        "plt.title('Распределение значений в выборке')"
      ],
      "execution_count": null,
      "outputs": [
        {
          "output_type": "execute_result",
          "data": {
            "text/plain": [
              "Text(0.5, 1.0, 'Распределение значений в выборке')"
            ]
          },
          "metadata": {},
          "execution_count": 23
        },
        {
          "output_type": "display_data",
          "data": {
            "image/png": "[encoded data removed]",
            "text/plain": [
              "<Figure size 432x288 with 1 Axes>"
            ]
          },
          "metadata": {
            "needs_background": "light"
          }
        },
        {
          "output_type": "display_data",
          "data": {
            "image/png": "[encoded data removed]",
            "text/plain": [
              "<Figure size 432x288 with 1 Axes>"
            ]
          },
          "metadata": {
            "needs_background": "light"
          }
        }
      ]
    },
    {
      "cell_type": "code",
      "metadata": {
        "colab": {
          "base_uri": "https://localhost:8080/",
          "height": 563
        },
        "id": "D6j0Op86-Oae",
        "outputId": "cdece32c-d51a-47da-d5fa-3cbce4bc6f30"
      },
      "source": [
        "# Если взять две случайные величины\n",
        "X1 = np.random.choice(coords, size=10000, p = weights)\n",
        "X2 = np.random.choice(coords, size=10000, p = weights)\n",
        "\n",
        "X = X1+X2\n",
        "plt.figure()\n",
        "plt.hist(X, bins=100);\n",
        "plt.title('Распределение суммы двух случайных величин')\n",
        "plt.xlim(coords.min(), coords.max())\n",
        "\n",
        "X = (X1+X2)/2\n",
        "plt.figure()\n",
        "plt.hist(X, bins=100);\n",
        "plt.title('Распределение среднего двух случайных величин')\n",
        "plt.xlim(coords.min(), coords.max())"
      ],
      "execution_count": null,
      "outputs": [
        {
          "output_type": "execute_result",
          "data": {
            "text/plain": [
              "(-10.0, 10.0)"
            ]
          },
          "metadata": {},
          "execution_count": 24
        },
        {
          "output_type": "display_data",
          "data": {
            "image/png": "[encoded data removed]",
            "text/plain": [
              "<Figure size 432x288 with 1 Axes>"
            ]
          },
          "metadata": {
            "needs_background": "light"
          }
        },
        {
          "output_type": "display_data",
          "data": {
            "image/png": "[encoded data removed]",
            "text/plain": [
              "<Figure size 432x288 with 1 Axes>"
            ]
          },
          "metadata": {
            "needs_background": "light"
          }
        }
      ]
    },
    {
      "cell_type": "code",
      "metadata": {
        "colab": {
          "base_uri": "https://localhost:8080/",
          "height": 563
        },
        "id": "oKsRXhvX_XSm",
        "outputId": "cc69c827-83b0-4e5d-8963-03fb4893f87e"
      },
      "source": [
        "# Если взять три случайные величины\n",
        "X1 = np.random.choice(coords, size=10000, p = weights)\n",
        "X2 = np.random.choice(coords, size=10000, p = weights)\n",
        "X3 = np.random.choice(coords, size=10000, p = weights)\n",
        "\n",
        "X = X1+X2+X3\n",
        "plt.figure()\n",
        "plt.hist(X, bins=100);\n",
        "plt.title('Распределение суммы трех случайных величин')\n",
        "plt.xlim(coords.min(), coords.max())\n",
        "\n",
        "X = (X1+X2+X3)/3\n",
        "plt.figure()\n",
        "plt.hist(X, bins=100);\n",
        "plt.title('Распределение среднего трех случайных величин')\n",
        "plt.xlim(coords.min(), coords.max())"
      ],
      "execution_count": null,
      "outputs": [
        {
          "output_type": "execute_result",
          "data": {
            "text/plain": [
              "(-10.0, 10.0)"
            ]
          },
          "metadata": {},
          "execution_count": 25
        },
        {
          "output_type": "display_data",
          "data": {
            "image/png": "[encoded data removed]",
            "text/plain": [
              "<Figure size 432x288 with 1 Axes>"
            ]
          },
          "metadata": {
            "needs_background": "light"
          }
        },
        {
          "output_type": "display_data",
          "data": {
            "image/png": "[encoded data removed]",
            "text/plain": [
              "<Figure size 432x288 with 1 Axes>"
            ]
          },
          "metadata": {
            "needs_background": "light"
          }
        }
      ]
    },
    {
      "cell_type": "code",
      "metadata": {
        "colab": {
          "base_uri": "https://localhost:8080/"
        },
        "id": "GrmCwiUK96Yn",
        "outputId": "2b9f79b2-1555-477d-b3d4-dde413a61874"
      },
      "source": [
        "# Если взять 100 случайных величин\n",
        "XX = np.stack([np.random.choice(coords, size=10000, p = weights) for i in range(100)], axis=0)\n",
        "XX.shape"
      ],
      "execution_count": null,
      "outputs": [
        {
          "output_type": "execute_result",
          "data": {
            "text/plain": [
              "(100, 10000)"
            ]
          },
          "metadata": {},
          "execution_count": 26
        }
      ]
    },
    {
      "cell_type": "code",
      "metadata": {
        "colab": {
          "base_uri": "https://localhost:8080/",
          "height": 563
        },
        "id": "0n-pnIlq_xWg",
        "outputId": "2473bca2-be73-44fe-8d8e-8862b8db8360"
      },
      "source": [
        "X = XX.sum(0)\n",
        "plt.figure()\n",
        "plt.hist(X, bins=100);\n",
        "plt.title('Распределение суммы 100 случайных величин')\n",
        "# plt.xlim(coords.min(), coords.max())\n",
        "\n",
        "X = XX.mean(0)\n",
        "plt.figure()\n",
        "plt.hist(X, bins=100);\n",
        "plt.title('Распределение среднего 100 случайных величин')\n",
        "# plt.xlim(coords.min(), coords.max())"
      ],
      "execution_count": null,
      "outputs": [
        {
          "output_type": "execute_result",
          "data": {
            "text/plain": [
              "Text(0.5, 1.0, 'Распределение среднего 100 случайных величин')"
            ]
          },
          "metadata": {},
          "execution_count": 27
        },
        {
          "output_type": "display_data",
          "data": {
            "image/png": "[encoded data removed]",
            "text/plain": [
              "<Figure size 432x288 with 1 Axes>"
            ]
          },
          "metadata": {
            "needs_background": "light"
          }
        },
        {
          "output_type": "display_data",
          "data": {
            "image/png": "[encoded data removed]",
            "text/plain": [
              "<Figure size 432x288 with 1 Axes>"
            ]
          },
          "metadata": {
            "needs_background": "light"
          }
        }
      ]
    },
    {
      "cell_type": "code",
      "metadata": {
        "colab": {
          "base_uri": "https://localhost:8080/"
        },
        "id": "DyC9nk2eAHX1",
        "outputId": "37ac380d-1ba5-45ef-db22-cd42a250b9f4"
      },
      "source": [
        "# Берем 1000 различных распределений\n",
        "N_sets = 1000\n",
        "\n",
        "mus = np.random.choice(np.linspace(-1,1,20), N_sets) # выбираем средние\n",
        "sigmas = np.random.choice(np.linspace(0.1, 2, 20), N_sets) # выбираем разбросы\n",
        "\n",
        "Weights = np.stack([np.exp(-(coords-mu)**2/(2*(sigma)**2)) for mu, sigma in zip(mus, sigmas)], axis=0)\n",
        "Weights /= Weights.sum(axis=1, keepdims=True)\n",
        "print(Weights.shape)\n"
      ],
      "execution_count": null,
      "outputs": [
        {
          "output_type": "stream",
          "name": "stdout",
          "text": [
            "(1000, 100)\n"
          ]
        }
      ]
    },
    {
      "cell_type": "code",
      "metadata": {
        "colab": {
          "base_uri": "https://localhost:8080/",
          "height": 485
        },
        "id": "VV5nChewDwCo",
        "outputId": "bf3032ba-4f71-45b5-9710-d0a9d288ef73"
      },
      "source": [
        "indeces = np.random.random_integers(0, len(Weights), size=10)\n",
        "\n",
        "plt.figure()\n",
        "plt.plot(coords, Weights[indeces, :].T)"
      ],
      "execution_count": null,
      "outputs": [
        {
          "output_type": "stream",
          "name": "stderr",
          "text": [
            "/usr/local/lib/python3.7/dist-packages/ipykernel_launcher.py:1: DeprecationWarning: This function is deprecated. Please call randint(0, 1000 + 1) instead\n",
            "  \"\"\"Entry point for launching an IPython kernel.\n"
          ]
        },
        {
          "output_type": "execute_result",
          "data": {
            "text/plain": [
              "[<matplotlib.lines.Line2D at 0x7f11a7c40690>,\n",
              " <matplotlib.lines.Line2D at 0x7f11a7c47c10>,\n",
              " <matplotlib.lines.Line2D at 0x7f11a7c47dd0>,\n",
              " <matplotlib.lines.Line2D at 0x7f11a7c47f90>,\n",
              " <matplotlib.lines.Line2D at 0x7f11a7c4f190>,\n",
              " <matplotlib.lines.Line2D at 0x7f11a7c4f350>,\n",
              " <matplotlib.lines.Line2D at 0x7f11a7c4f590>,\n",
              " <matplotlib.lines.Line2D at 0x7f11a7c4f750>,\n",
              " <matplotlib.lines.Line2D at 0x7f11a7c4f910>,\n",
              " <matplotlib.lines.Line2D at 0x7f11a7c4f390>]"
            ]
          },
          "metadata": {},
          "execution_count": 29
        },
        {
          "output_type": "display_data",
          "data": {
            "image/png": "[encoded data removed]",
            "text/plain": [
              "<Figure size 432x288 with 1 Axes>"
            ]
          },
          "metadata": {
            "needs_background": "light"
          }
        }
      ]
    },
    {
      "cell_type": "code",
      "metadata": {
        "colab": {
          "base_uri": "https://localhost:8080/"
        },
        "id": "e7nWb0UnBMyK",
        "outputId": "04c043a0-8b79-49ee-b326-d1f36beaf206"
      },
      "source": [
        "# Генерируем выборки\n",
        "sample_set_size = 10000\n",
        "\n",
        "XX = np.stack([np.random.choice(coords, size=sample_set_size, p = w) for w in Weights])\n",
        "XX.shape"
      ],
      "execution_count": null,
      "outputs": [
        {
          "output_type": "execute_result",
          "data": {
            "text/plain": [
              "(1000, 10000)"
            ]
          },
          "metadata": {},
          "execution_count": 30
        }
      ]
    },
    {
      "cell_type": "code",
      "metadata": {
        "colab": {
          "base_uri": "https://localhost:8080/",
          "height": 299
        },
        "id": "p0sygtHOCQXC",
        "outputId": "13165d81-757c-464f-af3b-effe29d956ee"
      },
      "source": [
        "plt.figure()\n",
        "for x in XX[indeces, :]:\n",
        "  plt.hist(x, bins=np.linspace(coords.min() - dc/2, coords.max()+dc/2, len(coords)+1), histtype='step');\n",
        "plt.title('Распределение значений в выборках')"
      ],
      "execution_count": null,
      "outputs": [
        {
          "output_type": "execute_result",
          "data": {
            "text/plain": [
              "Text(0.5, 1.0, 'Распределение значений в выборках')"
            ]
          },
          "metadata": {},
          "execution_count": 31
        },
        {
          "output_type": "display_data",
          "data": {
            "image/png": "[encoded data removed]",
            "text/plain": [
              "<Figure size 432x288 with 1 Axes>"
            ]
          },
          "metadata": {
            "needs_background": "light"
          }
        }
      ]
    },
    {
      "cell_type": "code",
      "metadata": {
        "colab": {
          "base_uri": "https://localhost:8080/",
          "height": 563
        },
        "id": "EonGlZDzYI9D",
        "outputId": "9c4499a7-6e5c-46ff-bedb-4c645fa2baab"
      },
      "source": [
        "X = XX.sum(0)\n",
        "plt.figure()\n",
        "plt.hist(X, bins=100);\n",
        "plt.title('Распределение суммы 100 случайных величин')\n",
        "# plt.xlim(coords.min(), coords.max())\n",
        "\n",
        "X = XX.mean(0)\n",
        "plt.figure()\n",
        "plt.hist(X, bins=100);\n",
        "plt.title('Распределение сриеднего 100 случайных величин')\n",
        "# plt.xlim(coords.min(), coords.max())"
      ],
      "execution_count": null,
      "outputs": [
        {
          "output_type": "execute_result",
          "data": {
            "text/plain": [
              "Text(0.5, 1.0, 'Распределение сриеднего 100 случайных величин')"
            ]
          },
          "metadata": {},
          "execution_count": 32
        },
        {
          "output_type": "display_data",
          "data": {
            "image/png": "[encoded data removed]",
            "text/plain": [
              "<Figure size 432x288 with 1 Axes>"
            ]
          },
          "metadata": {
            "needs_background": "light"
          }
        },
        {
          "output_type": "display_data",
          "data": {
            "image/png": "[encoded data removed]",
            "text/plain": [
              "<Figure size 432x288 with 1 Axes>"
            ]
          },
          "metadata": {
            "needs_background": "light"
          }
        }
      ]
    },
    {
      "cell_type": "code",
      "metadata": {
        "colab": {
          "base_uri": "https://localhost:8080/",
          "height": 299
        },
        "id": "_uuQoxXDEIp8",
        "outputId": "8cf39c4f-cd7c-4a34-8e71-36a9fd98eb63"
      },
      "source": [
        "# Берем различные типы распределений\n",
        "\n",
        "from scipy.stats import uniform, triang\n",
        "\n",
        "X_uniforms = np.stack([uniform.rvs(loc=np.random.choice(np.linspace(-5, 0, 20)), \n",
        "                                   scale=np.random.choice(np.linspace(1, 5, 20)), \n",
        "                                   size=sample_set_size) for i in range(100)], axis=0)\n",
        "\n",
        "X_triang = np.stack([triang.rvs(np.random.choice(np.linspace(0, 1, 20)), \n",
        "                                loc=np.random.choice(np.linspace(-5, 0, 20)), \n",
        "                                scale=np.random.choice(np.linspace(0, 5, 20)), size=sample_set_size) for i in range(100)], axis=0)\n",
        "\n",
        "plt.hist(X_uniforms[0], bins=100, histtype='step');\n",
        "plt.hist(X_triang[0], bins=100, histtype='step');\n",
        "# plt.xlim(-10, 10)\n",
        "plt.title('Случайные распределения')"
      ],
      "execution_count": null,
      "outputs": [
        {
          "output_type": "execute_result",
          "data": {
            "text/plain": [
              "Text(0.5, 1.0, 'Случайные распределения')"
            ]
          },
          "metadata": {},
          "execution_count": 35
        },
        {
          "output_type": "display_data",
          "data": {
            "image/png": "[encoded data removed]",
            "text/plain": [
              "<Figure size 432x288 with 1 Axes>"
            ]
          },
          "metadata": {
            "needs_background": "light"
          }
        }
      ]
    },
    {
      "cell_type": "code",
      "metadata": {
        "colab": {
          "base_uri": "https://localhost:8080/",
          "height": 563
        },
        "id": "iuROCWJtHD2g",
        "outputId": "a182334b-9c36-4f63-baea-e1ed0644ddfb"
      },
      "source": [
        "XX = np.concatenate([X_uniforms, X_triang], axis=0)\n",
        "\n",
        "X = XX.sum(0)\n",
        "plt.figure()\n",
        "plt.hist(X, bins=100);\n",
        "plt.title('Распределение суммы случайных величин')\n",
        "# plt.xlim(coords.min(), coords.max())\n",
        "\n",
        "X = XX.mean(0)\n",
        "plt.figure()\n",
        "plt.hist(X, bins=100);\n",
        "plt.title('Распределение сриеднего случайных величин')\n",
        "# plt.xlim(coords.min(), coords.max())"
      ],
      "execution_count": null,
      "outputs": [
        {
          "output_type": "execute_result",
          "data": {
            "text/plain": [
              "Text(0.5, 1.0, 'Распределение сриеднего случайных величин')"
            ]
          },
          "metadata": {},
          "execution_count": 36
        },
        {
          "output_type": "display_data",
          "data": {
            "image/png": "[encoded data removed]",
            "text/plain": [
              "<Figure size 432x288 with 1 Axes>"
            ]
          },
          "metadata": {
            "needs_background": "light"
          }
        },
        {
          "output_type": "display_data",
          "data": {
            "image/png": "[encoded data removed]",
            "text/plain": [
              "<Figure size 432x288 with 1 Axes>"
            ]
          },
          "metadata": {
            "needs_background": "light"
          }
        }
      ]
    },
    {
      "cell_type": "code",
      "source": [
        ""
      ],
      "metadata": {
        "id": "FU1U16hxlvuq"
      },
      "execution_count": null,
      "outputs": []
    },
    {
      "cell_type": "markdown",
      "source": [
        "# ДЗ\n",
        "\n",
        "1. Проверить выполнимость ЦПТ при выборе логнормальных выборок"
      ],
      "metadata": {
        "id": "GN1NptoYlxsR"
      }
    },
    {
      "cell_type": "markdown",
      "metadata": {
        "id": "5mglO6KeMu_s"
      },
      "source": [
        "# Зачем нужны большие выборки при анализе? "
      ]
    },
    {
      "cell_type": "markdown",
      "metadata": {
        "id": "ASeW8tHkP6aW"
      },
      "source": [
        "## Закон больших чисел"
      ]
    },
    {
      "cell_type": "code",
      "metadata": {
        "colab": {
          "base_uri": "https://localhost:8080/"
        },
        "id": "LHrofj1LQMKn",
        "outputId": "d2f8fbcf-d8fb-4b2a-c2bd-d6d1b5a6103e"
      },
      "source": [
        "# Допустим, есть одно распределение, и надо составить среднее от выборки длины N\n",
        "N = 10\n",
        "X = norm.rvs(loc=0, scale=1, size=N)\n",
        "X.mean()"
      ],
      "execution_count": null,
      "outputs": [
        {
          "output_type": "execute_result",
          "data": {
            "text/plain": [
              "0.05969580078184074"
            ]
          },
          "metadata": {},
          "execution_count": 38
        }
      ]
    },
    {
      "cell_type": "code",
      "metadata": {
        "colab": {
          "base_uri": "https://localhost:8080/",
          "height": 265
        },
        "id": "JelrAHNJQYM_",
        "outputId": "4e2e3557-1582-4872-a2aa-81a1188fd428"
      },
      "source": [
        "Xavs = [norm.rvs(loc=0, scale=1, size=N).mean() for N in range(1, 1000)]\n",
        "plt.figure()\n",
        "plt.plot(np.arange(1,1000), Xavs)\n",
        "plt.grid(True)\n",
        "# plt.xscale('log')"
      ],
      "execution_count": null,
      "outputs": [
        {
          "output_type": "display_data",
          "data": {
            "image/png": "[encoded data removed]",
            "text/plain": [
              "<Figure size 432x288 with 1 Axes>"
            ]
          },
          "metadata": {
            "needs_background": "light"
          }
        }
      ]
    },
    {
      "cell_type": "markdown",
      "metadata": {
        "id": "P0rCr0LMQCkM"
      },
      "source": [
        "## Стандартная ошибка"
      ]
    },
    {
      "cell_type": "code",
      "metadata": {
        "colab": {
          "base_uri": "https://localhost:8080/",
          "height": 318
        },
        "id": "DWjGBU2YM9G5",
        "outputId": "4d8f3679-cfba-4737-ce68-f23f8805cc82"
      },
      "source": [
        "# Если у нас несколько распределений, как будет распределено их среднее?\n",
        "\n",
        "N_sample_sets = 9\n",
        "\n",
        "from scipy.stats import norm\n",
        "\n",
        "XX = np.stack([norm.rvs(loc=0, scale=1, size=10000) for i in range(N_sample_sets)], axis=0)\n",
        "print(XX.shape)\n",
        "\n",
        "plt.figure()\n",
        "plt.hist(XX[0], bins=100);\n",
        "plt.title('Распределение одного измерения')"
      ],
      "execution_count": null,
      "outputs": [
        {
          "output_type": "stream",
          "name": "stdout",
          "text": [
            "(9, 10000)\n"
          ]
        },
        {
          "output_type": "execute_result",
          "data": {
            "text/plain": [
              "Text(0.5, 1.0, 'Распределение одного измерения')"
            ]
          },
          "metadata": {},
          "execution_count": 40
        },
        {
          "output_type": "display_data",
          "data": {
            "image/png": "[encoded data removed]",
            "text/plain": [
              "<Figure size 432x288 with 1 Axes>"
            ]
          },
          "metadata": {
            "needs_background": "light"
          }
        }
      ]
    },
    {
      "cell_type": "code",
      "source": [
        "dd"
      ],
      "metadata": {
        "id": "asKxvFFFrzdb"
      },
      "execution_count": null,
      "outputs": []
    },
    {
      "cell_type": "code",
      "metadata": {
        "colab": {
          "base_uri": "https://localhost:8080/",
          "height": 299
        },
        "id": "F3iBMU6VN-7d",
        "outputId": "3391c730-e35f-4767-b85b-f887aaa968d9"
      },
      "source": [
        "X = XX.mean(0)\n",
        "plt.figure()\n",
        "plt.hist(XX[0], bins=100, histtype='step');\n",
        "plt.hist(X, bins=100);\n",
        "plt.title(f'Распределение среднего {N_sample_sets} измерений')"
      ],
      "execution_count": null,
      "outputs": [
        {
          "output_type": "execute_result",
          "data": {
            "text/plain": [
              "Text(0.5, 1.0, 'Распределение среднего 9 измерений')"
            ]
          },
          "metadata": {},
          "execution_count": 41
        },
        {
          "output_type": "display_data",
          "data": {
            "image/png": "[encoded data removed]",
            "text/plain": [
              "<Figure size 432x288 with 1 Axes>"
            ]
          },
          "metadata": {
            "needs_background": "light"
          }
        }
      ]
    },
    {
      "cell_type": "markdown",
      "metadata": {
        "id": "z4qz9n8yPALM"
      },
      "source": [
        "**Стандартная ошибка**\n",
        "$\\sigma_{av} = \\frac{\\sigma_{pop}}{\\sqrt{n}}$"
      ]
    },
    {
      "cell_type": "markdown",
      "source": [
        "# !!!!!!!!!!!! ДЗ\n",
        "1. Провести _руками_ вычисление стандартной ошибки для каждой численной колонки ирисов для каждого класса и сравнить ее со scipy.stats.sem\n",
        "\n",
        "Сниппет загрузки ирисов внизу"
      ],
      "metadata": {
        "id": "5fueol8WnCr_"
      }
    },
    {
      "cell_type": "code",
      "source": [
        "      import pandas as pd\n",
        "      csv_url = 'https://archive.ics.uci.edu/ml/machine-learning-databases/iris/iris.data'\n",
        "      # using the attribute information as the column names\n",
        "      col_names = ['Sepal_Length','Sepal_Width','Petal_Length','Petal_Width','Class']\n",
        "      iris =  pd.read_csv(csv_url, names = col_names)\n"
      ],
      "metadata": {
        "id": "rhvG1Au9m0IB"
      },
      "execution_count": 2,
      "outputs": []
    },
    {
      "cell_type": "code",
      "source": [
        "iris"
      ],
      "metadata": {
        "colab": {
          "base_uri": "https://localhost:8080/",
          "height": 424
        },
        "id": "FJlS7feznOUS",
        "outputId": "c234b50e-973e-4ec8-b478-355f102d34de"
      },
      "execution_count": 3,
      "outputs": [
        {
          "output_type": "execute_result",
          "data": {
            "text/plain": [
              "     Sepal_Length  Sepal_Width  Petal_Length  Petal_Width           Class\n",
              "0             5.1          3.5           1.4          0.2     Iris-setosa\n",
              "1             4.9          3.0           1.4          0.2     Iris-setosa\n",
              "2             4.7          3.2           1.3          0.2     Iris-setosa\n",
              "3             4.6          3.1           1.5          0.2     Iris-setosa\n",
              "4             5.0          3.6           1.4          0.2     Iris-setosa\n",
              "..            ...          ...           ...          ...             ...\n",
              "145           6.7          3.0           5.2          2.3  Iris-virginica\n",
              "146           6.3          2.5           5.0          1.9  Iris-virginica\n",
              "147           6.5          3.0           5.2          2.0  Iris-virginica\n",
              "148           6.2          3.4           5.4          2.3  Iris-virginica\n",
              "149           5.9          3.0           5.1          1.8  Iris-virginica\n",
              "\n",
              "[150 rows x 5 columns]"
            ],
            "text/html": [
              "\n",
              "  <div id=\"df-5671ee7c-e1ba-44ba-9f3f-57c861de24c5\">\n",
              "    <div class=\"colab-df-container\">\n",
              "      <div>\n",
              "<style scoped>\n",
              "    .dataframe tbody tr th:only-of-type {\n",
              "        vertical-align: middle;\n",
              "    }\n",
              "\n",
              "    .dataframe tbody tr th {\n",
              "        vertical-align: top;\n",
              "    }\n",
              "\n",
              "    .dataframe thead th {\n",
              "        text-align: right;\n",
              "    }\n",
              "</style>\n",
              "<table border=\"1\" class=\"dataframe\">\n",
              "  <thead>\n",
              "    <tr style=\"text-align: right;\">\n",
              "      <th></th>\n",
              "      <th>Sepal_Length</th>\n",
              "      <th>Sepal_Width</th>\n",
              "      <th>Petal_Length</th>\n",
              "      <th>Petal_Width</th>\n",
              "      <th>Class</th>\n",
              "    </tr>\n",
              "  </thead>\n",
              "  <tbody>\n",
              "    <tr>\n",
              "      <th>0</th>\n",
              "      <td>5.1</td>\n",
              "      <td>3.5</td>\n",
              "      <td>1.4</td>\n",
              "      <td>0.2</td>\n",
              "      <td>Iris-setosa</td>\n",
              "    </tr>\n",
              "    <tr>\n",
              "      <th>1</th>\n",
              "      <td>4.9</td>\n",
              "      <td>3.0</td>\n",
              "      <td>1.4</td>\n",
              "      <td>0.2</td>\n",
              "      <td>Iris-setosa</td>\n",
              "    </tr>\n",
              "    <tr>\n",
              "      <th>2</th>\n",
              "      <td>4.7</td>\n",
              "      <td>3.2</td>\n",
              "      <td>1.3</td>\n",
              "      <td>0.2</td>\n",
              "      <td>Iris-setosa</td>\n",
              "    </tr>\n",
              "    <tr>\n",
              "      <th>3</th>\n",
              "      <td>4.6</td>\n",
              "      <td>3.1</td>\n",
              "      <td>1.5</td>\n",
              "      <td>0.2</td>\n",
              "      <td>Iris-setosa</td>\n",
              "    </tr>\n",
              "    <tr>\n",
              "      <th>4</th>\n",
              "      <td>5.0</td>\n",
              "      <td>3.6</td>\n",
              "      <td>1.4</td>\n",
              "      <td>0.2</td>\n",
              "      <td>Iris-setosa</td>\n",
              "    </tr>\n",
              "    <tr>\n",
              "      <th>...</th>\n",
              "      <td>...</td>\n",
              "      <td>...</td>\n",
              "      <td>...</td>\n",
              "      <td>...</td>\n",
              "      <td>...</td>\n",
              "    </tr>\n",
              "    <tr>\n",
              "      <th>145</th>\n",
              "      <td>6.7</td>\n",
              "      <td>3.0</td>\n",
              "      <td>5.2</td>\n",
              "      <td>2.3</td>\n",
              "      <td>Iris-virginica</td>\n",
              "    </tr>\n",
              "    <tr>\n",
              "      <th>146</th>\n",
              "      <td>6.3</td>\n",
              "      <td>2.5</td>\n",
              "      <td>5.0</td>\n",
              "      <td>1.9</td>\n",
              "      <td>Iris-virginica</td>\n",
              "    </tr>\n",
              "    <tr>\n",
              "      <th>147</th>\n",
              "      <td>6.5</td>\n",
              "      <td>3.0</td>\n",
              "      <td>5.2</td>\n",
              "      <td>2.0</td>\n",
              "      <td>Iris-virginica</td>\n",
              "    </tr>\n",
              "    <tr>\n",
              "      <th>148</th>\n",
              "      <td>6.2</td>\n",
              "      <td>3.4</td>\n",
              "      <td>5.4</td>\n",
              "      <td>2.3</td>\n",
              "      <td>Iris-virginica</td>\n",
              "    </tr>\n",
              "    <tr>\n",
              "      <th>149</th>\n",
              "      <td>5.9</td>\n",
              "      <td>3.0</td>\n",
              "      <td>5.1</td>\n",
              "      <td>1.8</td>\n",
              "      <td>Iris-virginica</td>\n",
              "    </tr>\n",
              "  </tbody>\n",
              "</table>\n",
              "<p>150 rows × 5 columns</p>\n",
              "</div>\n",
              "      <button class=\"colab-df-convert\" onclick=\"convertToInteractive('df-5671ee7c-e1ba-44ba-9f3f-57c861de24c5')\"\n",
              "              title=\"Convert this dataframe to an interactive table.\"\n",
              "              style=\"display:none;\">\n",
              "        \n",
              "  <svg xmlns=\"http://www.w3.org/2000/svg\" height=\"24px\"viewBox=\"0 0 24 24\"\n",
              "       width=\"24px\">\n",
              "    <path d=\"M0 0h24v24H0V0z\" fill=\"none\"/>\n",
              "    <path d=\"M18.56 5.44l.94 2.06.94-2.06 2.06-.94-2.06-.94-.94-2.06-.94 2.06-2.06.94zm-11 1L8.5 8.5l.94-2.06 2.06-.94-2.06-.94L8.5 2.5l-.94 2.06-2.06.94zm10 10l.94 2.06.94-2.06 2.06-.94-2.06-.94-.94-2.06-.94 2.06-2.06.94z\"/><path d=\"M17.41 7.96l-1.37-1.37c-.4-.4-.92-.59-1.43-.59-.52 0-1.04.2-1.43.59L10.3 9.45l-7.72 7.72c-.78.78-.78 2.05 0 2.83L4 21.41c.39.39.9.59 1.41.59.51 0 1.02-.2 1.41-.59l7.78-7.78 2.81-2.81c.8-.78.8-2.07 0-2.86zM5.41 20L4 18.59l7.72-7.72 1.47 1.35L5.41 20z\"/>\n",
              "  </svg>\n",
              "      </button>\n",
              "      \n",
              "  <style>\n",
              "    .colab-df-container {\n",
              "      display:flex;\n",
              "      flex-wrap:wrap;\n",
              "      gap: 12px;\n",
              "    }\n",
              "\n",
              "    .colab-df-convert {\n",
              "      background-color: #E8F0FE;\n",
              "      border: none;\n",
              "      border-radius: 50%;\n",
              "      cursor: pointer;\n",
              "      display: none;\n",
              "      fill: #1967D2;\n",
              "      height: 32px;\n",
              "      padding: 0 0 0 0;\n",
              "      width: 32px;\n",
              "    }\n",
              "\n",
              "    .colab-df-convert:hover {\n",
              "      background-color: #E2EBFA;\n",
              "      box-shadow: 0px 1px 2px rgba(60, 64, 67, 0.3), 0px 1px 3px 1px rgba(60, 64, 67, 0.15);\n",
              "      fill: #174EA6;\n",
              "    }\n",
              "\n",
              "    [theme=dark] .colab-df-convert {\n",
              "      background-color: #3B4455;\n",
              "      fill: #D2E3FC;\n",
              "    }\n",
              "\n",
              "    [theme=dark] .colab-df-convert:hover {\n",
              "      background-color: #434B5C;\n",
              "      box-shadow: 0px 1px 3px 1px rgba(0, 0, 0, 0.15);\n",
              "      filter: drop-shadow(0px 1px 2px rgba(0, 0, 0, 0.3));\n",
              "      fill: #FFFFFF;\n",
              "    }\n",
              "  </style>\n",
              "\n",
              "      <script>\n",
              "        const buttonEl =\n",
              "          document.querySelector('#df-5671ee7c-e1ba-44ba-9f3f-57c861de24c5 button.colab-df-convert');\n",
              "        buttonEl.style.display =\n",
              "          google.colab.kernel.accessAllowed ? 'block' : 'none';\n",
              "\n",
              "        async function convertToInteractive(key) {\n",
              "          const element = document.querySelector('#df-5671ee7c-e1ba-44ba-9f3f-57c861de24c5');\n",
              "          const dataTable =\n",
              "            await google.colab.kernel.invokeFunction('convertToInteractive',\n",
              "                                                     [key], {});\n",
              "          if (!dataTable) return;\n",
              "\n",
              "          const docLinkHtml = 'Like what you see? Visit the ' +\n",
              "            '<a target=\"_blank\" href=https://colab.research.google.com/notebooks/data_table.ipynb>data table notebook</a>'\n",
              "            + ' to learn more about interactive tables.';\n",
              "          element.innerHTML = '';\n",
              "          dataTable['output_type'] = 'display_data';\n",
              "          await google.colab.output.renderOutput(dataTable, element);\n",
              "          const docLink = document.createElement('div');\n",
              "          docLink.innerHTML = docLinkHtml;\n",
              "          element.appendChild(docLink);\n",
              "        }\n",
              "      </script>\n",
              "    </div>\n",
              "  </div>\n",
              "  "
            ]
          },
          "metadata": {},
          "execution_count": 3
        }
      ]
    },
    {
      "cell_type": "markdown",
      "metadata": {
        "id": "PPvjHfP0SmwZ"
      },
      "source": [
        "## Интервалы \n",
        "\n",
        "Пока еще не доверительные интервалы (confidence intervals), но близко"
      ]
    },
    {
      "cell_type": "markdown",
      "metadata": {
        "id": "7UHNMAMlWRKM"
      },
      "source": [
        "### Вопрос — если выбрать величину, то с какой вероятностью она будет лежать в диапазонах [-1,1], [-2,2], [-3,3]?\n"
      ]
    },
    {
      "cell_type": "code",
      "metadata": {
        "colab": {
          "base_uri": "https://localhost:8080/",
          "height": 265
        },
        "id": "Ygwzrq_PWhbq",
        "outputId": "e210516e-8762-473c-f52d-8bc850dde1ee"
      },
      "source": [
        "X = norm.rvs(loc=0, scale=1, size=10000)\n",
        "plt.figure()\n",
        "plt.hist(X, bins=100);"
      ],
      "execution_count": null,
      "outputs": [
        {
          "output_type": "display_data",
          "data": {
            "image/png": "[encoded data removed]",
            "text/plain": [
              "<Figure size 432x288 with 1 Axes>"
            ]
          },
          "metadata": {
            "needs_background": "light"
          }
        }
      ]
    },
    {
      "cell_type": "code",
      "metadata": {
        "colab": {
          "base_uri": "https://localhost:8080/",
          "height": 283
        },
        "id": "kQCnqcL9ZO76",
        "outputId": "16496738-3ea7-4289-d1f3-3b78964926f2"
      },
      "source": [
        "# кумулятивная характеристика - сколько элементов выборки находилось меньше значения m\n",
        "M = np.linspace(-10, 10, 100)\n",
        "cumulative_sum = [np.sum(X<m) for m in M]\n",
        "plt.plot(M, cumulative_sum)"
      ],
      "execution_count": null,
      "outputs": [
        {
          "output_type": "execute_result",
          "data": {
            "text/plain": [
              "[<matplotlib.lines.Line2D at 0x7f11a5668610>]"
            ]
          },
          "metadata": {},
          "execution_count": 43
        },
        {
          "output_type": "display_data",
          "data": {
            "image/png": "[encoded data removed]",
            "text/plain": [
              "<Figure size 432x288 with 1 Axes>"
            ]
          },
          "metadata": {
            "needs_background": "light"
          }
        }
      ]
    },
    {
      "cell_type": "code",
      "metadata": {
        "colab": {
          "base_uri": "https://localhost:8080/",
          "height": 283
        },
        "id": "8J6PLvixa1ul",
        "outputId": "a52b6e69-a69b-476c-9ff7-953643e6f81f"
      },
      "source": [
        "# кумулятивная плотность\n",
        "M = np.linspace(-10, 10, 101)\n",
        "cumulative_density = [np.sum(X<m)/len(X) for m in M]\n",
        "plt.plot(M, cumulative_density)"
      ],
      "execution_count": null,
      "outputs": [
        {
          "output_type": "execute_result",
          "data": {
            "text/plain": [
              "[<matplotlib.lines.Line2D at 0x7f11a55954d0>]"
            ]
          },
          "metadata": {},
          "execution_count": 44
        },
        {
          "output_type": "display_data",
          "data": {
            "image/png": "[encoded data removed]",
            "text/plain": [
              "<Figure size 432x288 with 1 Axes>"
            ]
          },
          "metadata": {
            "needs_background": "light"
          }
        }
      ]
    },
    {
      "cell_type": "markdown",
      "metadata": {
        "id": "a_hAr_NvXrta"
      },
      "source": [
        "Полная вероятность найти элемент в диапазоне от $m_1$ до $m_2$ - разность значений Cumulative Density Functions (CDF)\n",
        "\n",
        "$P(m_1<x<m_2) = CDF(m_2) - CDF(m_1)$\n",
        "\n",
        "Распределение плотности вероятности (PDF, Probability Density Function):\n",
        "\n",
        "$PDF(m) = \\frac{dCDF(m)}{dm}$"
      ]
    },
    {
      "cell_type": "code",
      "source": [
        "np.where(M==3)"
      ],
      "metadata": {
        "colab": {
          "base_uri": "https://localhost:8080/"
        },
        "id": "8XZId-RNtsw5",
        "outputId": "195433ee-8f26-42a0-b9e5-3de88140f0f0"
      },
      "execution_count": null,
      "outputs": [
        {
          "output_type": "execute_result",
          "data": {
            "text/plain": [
              "(array([65]),)"
            ]
          },
          "metadata": {},
          "execution_count": 47
        }
      ]
    },
    {
      "cell_type": "code",
      "metadata": {
        "colab": {
          "base_uri": "https://localhost:8080/"
        },
        "id": "VnRJDRfKec2i",
        "outputId": "65ae2bef-ca67-4106-8274-e34f4ea7f0b1"
      },
      "source": [
        "# найдем индексы границ\n",
        "np.where(M==3)[0][0]"
      ],
      "execution_count": null,
      "outputs": [
        {
          "output_type": "execute_result",
          "data": {
            "text/plain": [
              "65"
            ]
          },
          "metadata": {},
          "execution_count": 45
        }
      ]
    },
    {
      "cell_type": "code",
      "metadata": {
        "colab": {
          "base_uri": "https://localhost:8080/"
        },
        "id": "8bBVCoh6SsF7",
        "outputId": "30881e1c-8205-402e-a55c-8bca7b1fff8c"
      },
      "source": [
        "m1_index = np.where(M==-1)[0][0]\n",
        "m2_index = np.where(M==1)[0][0]\n",
        "cumulative_density[m2_index] - cumulative_density[m1_index]"
      ],
      "execution_count": null,
      "outputs": [
        {
          "output_type": "execute_result",
          "data": {
            "text/plain": [
              "0.6906000000000001"
            ]
          },
          "metadata": {},
          "execution_count": 130
        }
      ]
    },
    {
      "cell_type": "code",
      "metadata": {
        "colab": {
          "base_uri": "https://localhost:8080/"
        },
        "id": "qLKyD-PTT-my",
        "outputId": "6b4e6a51-a455-4b31-9ea0-0fdc850274d0"
      },
      "source": [
        "m1_index = np.where(M==-2)[0][0]\n",
        "m2_index = np.where(M==2)[0][0]\n",
        "cumulative_density[m2_index] - cumulative_density[m1_index]"
      ],
      "execution_count": null,
      "outputs": [
        {
          "output_type": "execute_result",
          "data": {
            "text/plain": [
              "0.9533"
            ]
          },
          "metadata": {},
          "execution_count": 48
        }
      ]
    },
    {
      "cell_type": "code",
      "metadata": {
        "colab": {
          "base_uri": "https://localhost:8080/"
        },
        "id": "xDX4EOhve3r-",
        "outputId": "522979c4-2bfc-432d-fce5-f7b0d70f7fdc"
      },
      "source": [
        "m1_index = np.where(M==-3)[0][0]\n",
        "m2_index = np.where(M==3)[0][0]\n",
        "cumulative_density[m2_index] - cumulative_density[m1_index]"
      ],
      "execution_count": null,
      "outputs": [
        {
          "output_type": "execute_result",
          "data": {
            "text/plain": [
              "0.9966"
            ]
          },
          "metadata": {},
          "execution_count": 132
        }
      ]
    },
    {
      "cell_type": "markdown",
      "metadata": {
        "id": "i6YYqT7KfEe-"
      },
      "source": [
        "### Обратный вопрос — какой диапазон должен быть, чтобы случайно выбранная из выборки величина оказалась в нем с полной вероятностью P?\n"
      ]
    },
    {
      "cell_type": "code",
      "metadata": {
        "colab": {
          "base_uri": "https://localhost:8080/",
          "height": 265
        },
        "id": "M6tG5Qs0fbny",
        "outputId": "99349cbd-103a-419f-da79-bba2f0f2f0e1"
      },
      "source": [
        "N = np.linspace(0.5, 5, 20)\n",
        "P = [cumulative_density[np.abs(M-m).argmin()] - cumulative_density[np.abs(M+m).argmin()] for m in N]\n",
        "\n",
        "plt.figure()\n",
        "plt.plot(N, P)\n",
        " \n",
        "# то же самое средствами scipy.stats\n",
        "plt.plot(N, norm.cdf(N) - norm.cdf(-N))\n",
        "plt.legend(['Calculated', 'Scipy.stats'])\n",
        "\n",
        "for p in [0.65,0.95, 0.99, 0.999]:\n",
        "  plt.axvline(norm.interval(p, loc=0, scale=1)[-1], color='k', ls='--')\n"
      ],
      "execution_count": null,
      "outputs": [
        {
          "output_type": "display_data",
          "data": {
            "image/png": "[encoded data removed]",
            "text/plain": [
              "<Figure size 432x288 with 1 Axes>"
            ]
          },
          "metadata": {
            "needs_background": "light"
          }
        }
      ]
    },
    {
      "cell_type": "code",
      "metadata": {
        "colab": {
          "base_uri": "https://localhost:8080/",
          "height": 265
        },
        "id": "kQNzAm8qhkHB",
        "outputId": "1ceca3ef-58ee-4e01-ba5b-a8c79251af53"
      },
      "source": [
        "# то же самое на общем графике\n",
        "plt.figure()\n",
        "plt.hist(X, bins=100)\n",
        "for p in [0.65, 0.95, 0.99, 0.999]:\n",
        "  plt.axvline(norm.interval(p, loc=0, scale=1)[-1], color='k', ls='--')\n",
        "  plt.axvline(norm.interval(p, loc=0, scale=1)[0], color='k', ls='--')"
      ],
      "execution_count": null,
      "outputs": [
        {
          "output_type": "display_data",
          "data": {
            "image/png": "[encoded data removed]",
            "text/plain": [
              "<Figure size 432x288 with 1 Axes>"
            ]
          },
          "metadata": {
            "needs_background": "light"
          }
        }
      ]
    },
    {
      "cell_type": "markdown",
      "metadata": {
        "id": "1qvozqJaiijj"
      },
      "source": [
        "### А если нужен интервал для среднего?"
      ]
    },
    {
      "cell_type": "code",
      "metadata": {
        "colab": {
          "base_uri": "https://localhost:8080/",
          "height": 285
        },
        "id": "f5LN_aQOi2On",
        "outputId": "8eecc774-3b5a-4c33-e88c-7359fb1bd222"
      },
      "source": [
        "N_averages = 4\n",
        "\n",
        "XX = np.stack([norm.rvs(loc=0, scale=1, size=10000) for i in range(N_averages)], axis=0)\n",
        "X = XX[0]\n",
        "X_av = XX.mean(0)\n",
        "\n",
        "plt.figure()\n",
        "plt.hist(X, bins=np.linspace(-5, 5, 50), histtype='step');\n",
        "plt.hist(X_av, bins=np.linspace(-5, 5, 50), histtype='step');\n",
        "plt.legend(['Одна величина', f'Среднее {N_averages} величин'])"
      ],
      "execution_count": null,
      "outputs": [
        {
          "output_type": "execute_result",
          "data": {
            "text/plain": [
              "<matplotlib.legend.Legend at 0x7f11a55f3790>"
            ]
          },
          "metadata": {},
          "execution_count": 50
        },
        {
          "output_type": "display_data",
          "data": {
            "image/png": "[encoded data removed]",
            "text/plain": [
              "<Figure size 432x288 with 1 Axes>"
            ]
          },
          "metadata": {
            "needs_background": "light"
          }
        }
      ]
    },
    {
      "cell_type": "code",
      "metadata": {
        "colab": {
          "base_uri": "https://localhost:8080/",
          "height": 283
        },
        "id": "X4oiIPElkAAW",
        "outputId": "98101548-20f5-426e-d459-f4758a487d2c"
      },
      "source": [
        "M = np.linspace(-5, 5, 501)\n",
        "cumulative_density_one = [np.sum(X<m)/len(X) for m in M]\n",
        "cumulative_density_av = [np.sum(X_av<m)/len(X_av) for m in M]\n",
        "\n",
        "plt.figure()\n",
        "plt.plot(M, cumulative_density_one)\n",
        "plt.plot(M, cumulative_density_av)\n"
      ],
      "execution_count": null,
      "outputs": [
        {
          "output_type": "execute_result",
          "data": {
            "text/plain": [
              "[<matplotlib.lines.Line2D at 0x7f11a565bfd0>]"
            ]
          },
          "metadata": {},
          "execution_count": 51
        },
        {
          "output_type": "display_data",
          "data": {
            "image/png": "[encoded data removed]",
            "text/plain": [
              "<Figure size 432x288 with 1 Axes>"
            ]
          },
          "metadata": {
            "needs_background": "light"
          }
        }
      ]
    },
    {
      "cell_type": "code",
      "metadata": {
        "colab": {
          "base_uri": "https://localhost:8080/",
          "height": 265
        },
        "id": "6KURKdy8kk6G",
        "outputId": "7f90b511-d3a2-4fee-eea3-38779c9cb7bb"
      },
      "source": [
        "N = M[M>0]\n",
        "P_one = [cumulative_density_one[np.abs(M-m).argmin()] - cumulative_density_one[np.abs(M+m).argmin()] for m in N]\n",
        "P_av  = [cumulative_density_av[np.abs(M-m).argmin()] - cumulative_density_av[np.abs(M+m).argmin()] for m in N]\n",
        "\n",
        "plt.figure()\n",
        "plt.plot(N, P_one)\n",
        "plt.plot(N, P_av)\n",
        "plt.grid(True)"
      ],
      "execution_count": null,
      "outputs": [
        {
          "output_type": "display_data",
          "data": {
            "image/png": "[encoded data removed]",
            "text/plain": [
              "<Figure size 432x288 with 1 Axes>"
            ]
          },
          "metadata": {
            "needs_background": "light"
          }
        }
      ]
    },
    {
      "cell_type": "markdown",
      "metadata": {
        "id": "mHZvyl5Al5E3"
      },
      "source": [
        "Вспомним, что стандартная ошибка $\\sigma_{av} = \\frac{\\sigma_{pop}}{\\sqrt{n}}$"
      ]
    },
    {
      "cell_type": "code",
      "metadata": {
        "colab": {
          "base_uri": "https://localhost:8080/",
          "height": 283
        },
        "id": "D2FFftv6jrVG",
        "outputId": "6d7f9681-5a27-476f-979f-85f27104ab08"
      },
      "source": [
        "# Hint\n",
        "plt.figure()\n",
        "plt.plot(N, P_one)\n",
        "plt.plot(N*np.sqrt(N_averages), P_av)"
      ],
      "execution_count": null,
      "outputs": [
        {
          "output_type": "execute_result",
          "data": {
            "text/plain": [
              "[<matplotlib.lines.Line2D at 0x7ffb503ec590>]"
            ]
          },
          "metadata": {},
          "execution_count": 156
        },
        {
          "output_type": "display_data",
          "data": {
            "image/png": "[encoded data removed]",
            "text/plain": [
              "<Figure size 432x288 with 1 Axes>"
            ]
          },
          "metadata": {
            "needs_background": "light"
          }
        }
      ]
    },
    {
      "cell_type": "markdown",
      "metadata": {
        "id": "otJOKI7xmQPg"
      },
      "source": [
        "Значит, что интервал для среднего нескольких величин из одного нормального распределения $\\approx$ интервал для одиночной величины $/\\sqrt(n)$"
      ]
    },
    {
      "cell_type": "markdown",
      "source": [
        "# !!!!!!!!!!!! ДЗ\n",
        "1. Провести _руками_ вычисление (на самом деле, подбор) интервалов для каждой численной колонки ирисов для каждого класса, для группового распределения и для группового среднего, и сравнить ее со scipy.stats.norm.interval\n",
        "\n",
        "Сниппет загрузки ирисов уже был\n",
        "\n",
        "Сниппет интервала внизу"
      ],
      "metadata": {
        "id": "z0_JeAGnrlG2"
      }
    },
    {
      "cell_type": "code",
      "source": [
        "from scipy.stats import norm\n",
        "import numpy as np\n",
        "samples = np.arange(-10, 11); print(samples)\n",
        "norm.interval(alpha=0.05, \n",
        "              loc=samples.mean(),\n",
        "              scale=samples.std())"
      ],
      "metadata": {
        "colab": {
          "base_uri": "https://localhost:8080/"
        },
        "id": "RlFasfUQsart",
        "outputId": "3bfe28b4-780c-48cb-cb76-ca192efa3ddf"
      },
      "execution_count": 10,
      "outputs": [
        {
          "output_type": "stream",
          "name": "stdout",
          "text": [
            "[-10  -9  -8  -7  -6  -5  -4  -3  -2  -1   0   1   2   3   4   5   6   7\n",
            "   8   9  10]\n"
          ]
        },
        {
          "output_type": "execute_result",
          "data": {
            "text/plain": [
              "(-0.3797083968881684, 0.3797083968881684)"
            ]
          },
          "metadata": {},
          "execution_count": 10
        }
      ]
    },
    {
      "cell_type": "markdown",
      "metadata": {
        "id": "Nl5aM4KQjR1q"
      },
      "source": [
        "# Как оценить параметры распределения?\n",
        "\n",
        "Проблема — во всех экспериментах до этого мы **знали**, какими были параметры популяции, — $\\mu$, $\\sigma$\n",
        "\n",
        "Вопрос — исходя из конкретной реализации, какими будут наилучшие оценки для этих параметров (точечная оценка)?\n",
        "\n",
        "Какие оценки хорошие?\n",
        "- Несмещенные — нет систематического отклонения оценки среднего от истиного значения\n",
        "- Состоятельность — если при увеличении размера выборки $n \\rightarrow inf$ вероятность оценки параметра быть истиным стремится к 1\n",
        "- Эффективность — из всех других оценок обладает наименьшей дисперсией от истиного параметра\n",
        "\n",
        "Для оценки $\\mu$ для нормального распределения:\n",
        "1. Среднее по выборке $\\overline{x}$ — несмещенная, состоятельная, эффективная оценка\n",
        "2. Медиана по выборке $Median(x)$ - несмещенная, состоятельная, но не эффективная оценка, т.е. ее дисперсия выше, чем у среднего $\\overline{x}$\n",
        "\n",
        "Однако оценить $\\sigma^2$ нетривиально:\n",
        "1. Интуитивная оценка дисперсии $\\frac{1}{n}\\sum_{1}^{n}{(x_i - \\overline{x})^2}$ является только лишь *асимптотически* несмещённой, асимптотически эффективной, но состоятельной\n",
        "2. Наилучшей (несмещённой, состоятельной, эффективной) оценкой дисперсии является скорректированная дисперсия $\\frac{1}{n-1}\\sum_{1}^{n}{(x_i - \\overline{x})^2}$"
      ]
    },
    {
      "cell_type": "code",
      "metadata": {
        "id": "xcdYkb8GLIsb"
      },
      "source": [
        "from scipy.stats import norm\n",
        "from matplotlib import pyplot as plt\n",
        "import numpy as np"
      ],
      "execution_count": null,
      "outputs": []
    },
    {
      "cell_type": "code",
      "metadata": {
        "colab": {
          "base_uri": "https://localhost:8080/"
        },
        "id": "7v1rRb4QnKsI",
        "outputId": "ea6cf3c3-fe35-4f78-a2ca-b97f536c45ee"
      },
      "source": [
        "# Демонстрация\n",
        "n_sets = 1000\n",
        "n_samples = 5000\n",
        "XX = norm.rvs(loc=0, scale=1, size=(n_sets, n_samples))\n",
        "XX.shape"
      ],
      "execution_count": null,
      "outputs": [
        {
          "output_type": "execute_result",
          "data": {
            "text/plain": [
              "(1000, 5000)"
            ]
          },
          "metadata": {},
          "execution_count": 55
        }
      ]
    },
    {
      "cell_type": "code",
      "metadata": {
        "id": "be-z3FRGOa8G"
      },
      "source": [
        "def biased(x, axis=-1):\n",
        "  return np.sum((x - x.mean(axis=axis, keepdims=True))**2, axis=axis, keepdims=True)/(x.shape[axis])\n",
        "\n",
        "def unbiased(x, axis=-1):\n",
        "  return np.sum((x - x.mean(axis=axis, keepdims=True))**2, axis=axis, keepdims=True)/(x.shape[axis]-1)  "
      ],
      "execution_count": null,
      "outputs": []
    },
    {
      "cell_type": "code",
      "metadata": {
        "id": "fayiJAkDOfHC"
      },
      "source": [
        "numbers = np.arange(2, n_samples+1)\n",
        "\n",
        "biased_var = np.concatenate([biased(XX[:, :i]) for i in numbers], axis=-1)\n",
        "unbiased_var = np.concatenate([unbiased(XX[:, :i]) for i in numbers], axis=-1)"
      ],
      "execution_count": null,
      "outputs": []
    },
    {
      "cell_type": "code",
      "metadata": {
        "colab": {
          "base_uri": "https://localhost:8080/"
        },
        "id": "k0tBkVnVPI3S",
        "outputId": "0035e871-d571-466e-d20f-8ffed85eef38"
      },
      "source": [
        "biased_var.shape, unbiased_var.shape"
      ],
      "execution_count": null,
      "outputs": [
        {
          "output_type": "execute_result",
          "data": {
            "text/plain": [
              "((1000, 4999), (1000, 4999))"
            ]
          },
          "metadata": {},
          "execution_count": 60
        }
      ]
    },
    {
      "cell_type": "code",
      "metadata": {
        "colab": {
          "base_uri": "https://localhost:8080/",
          "height": 301
        },
        "id": "Q74a8foPu5d0",
        "outputId": "edeec59d-7bb8-484b-d678-8a68315dad1d"
      },
      "source": [
        "plt.figure()\n",
        "plt.plot(numbers, np.mean(biased_var, 0))\n",
        "plt.plot(numbers, np.mean(unbiased_var, 0))\n",
        "plt.legend(['Biased', 'Unbiased'])\n",
        "plt.grid(True)\n",
        "plt.ylim(0.5, 1.5)\n",
        "plt.xscale('log')\n",
        "plt.xlabel('Размер выборки')\n",
        "plt.ylabel('Точечная оценка дисперсии')"
      ],
      "execution_count": null,
      "outputs": [
        {
          "output_type": "execute_result",
          "data": {
            "text/plain": [
              "Text(0, 0.5, 'Точечная оценка дисперсии')"
            ]
          },
          "metadata": {},
          "execution_count": 61
        },
        {
          "output_type": "display_data",
          "data": {
            "image/png": "[encoded data removed]",
            "text/plain": [
              "<Figure size 432x288 with 1 Axes>"
            ]
          },
          "metadata": {
            "needs_background": "light"
          }
        }
      ]
    },
    {
      "cell_type": "markdown",
      "metadata": {
        "id": "-vthb1duUARg"
      },
      "source": [
        "## Интервальные оценки с учетом малой выборки"
      ]
    },
    {
      "cell_type": "markdown",
      "metadata": {
        "id": "RX6gwGZ6S8KY"
      },
      "source": [
        "Если размер выборки большой ($N_{samples}>>1$), то в качестве интервальных оценок могут быть использованы интервалы с оценками среднего и вариацией из точечных оценок по выборке. Но если $N_{samples}=1..10$, то так делать нельзя."
      ]
    },
    {
      "cell_type": "markdown",
      "metadata": {
        "id": "q5pHpIgmZl55"
      },
      "source": [
        "**Почему?**  ~~Потому что матстат~~  \n",
        "Потому что мы _не знаем_ параметров генеральной выборки.\n",
        "Соответственно, интервальная оценка будет зависеть от того, какую форму представляет распределение $\\overline{x}$\n",
        "\n",
        "$\\overline{x} \\text{~Student's t-distribution}(\\mu, \\text{St.err}, N_{samples}-1)$  \n",
        "$\\mu$ — истиное значение среднего генеральной совокупности  \n",
        "$\\text{St.err}$ — стандартная ошибка по выборке  \n",
        "$N_{samples}-1$ — количество степеней свободы выборки\n"
      ]
    },
    {
      "cell_type": "markdown",
      "metadata": {
        "id": "DGuKdgDgcp-8"
      },
      "source": [
        "**А как на практике?**  \n",
        "```scipy.stats.t.interval(alpha, df, loc=0, scale=1)```\n",
        "\n",
        "вот это чаще всего и называется доверительным интервалом"
      ]
    },
    {
      "cell_type": "code",
      "metadata": {
        "colab": {
          "base_uri": "https://localhost:8080/",
          "height": 265
        },
        "id": "JfIRhTdqdYkA",
        "outputId": "11ef656d-7eef-47a8-fd48-54c3d0d47e06"
      },
      "source": [
        "from scipy.stats import t\n",
        "coords = np.linspace(-3, 3, 101)\n",
        "plt.figure()\n",
        "plt.plot(coords, norm.pdf(coords), color='k', lw=3)\n",
        "plt.plot(coords, t.pdf(coords, df=2))\n",
        "plt.plot(coords, t.pdf(coords, df=5))\n",
        "plt.plot(coords, t.pdf(coords, df=10))\n",
        "plt.plot(coords, t.pdf(coords, df=20))\n",
        "plt.legend(['Norm', 't(df=2)', 't(df=5)', 't(df=10)', 't(df=20)'])\n",
        "plt.grid(True)"
      ],
      "execution_count": null,
      "outputs": [
        {
          "output_type": "display_data",
          "data": {
            "image/png": "[encoded data removed]",
            "text/plain": [
              "<Figure size 432x288 with 1 Axes>"
            ]
          },
          "metadata": {
            "needs_background": "light"
          }
        }
      ]
    },
    {
      "cell_type": "code",
      "metadata": {
        "colab": {
          "base_uri": "https://localhost:8080/",
          "height": 299
        },
        "id": "WPeqiKX2c-DI",
        "outputId": "2a873f1c-133e-4bed-8e54-622b87bd4430"
      },
      "source": [
        "from scipy.stats import t, norm\n",
        "from matplotlib import pyplot as plt\n",
        "import numpy as np\n",
        "\n",
        "X = norm.rvs(size=100, loc=0, scale=1)\n",
        "plt.figure()\n",
        "plt.hist(X, bins=10)\n",
        "\n",
        "for x in norm.interval(0.95, loc=0, scale=1/np.sqrt(len(X))):\n",
        "  plt.axvline(x, color='k')\n",
        "\n",
        "for x in t.interval(0.95, loc=0, scale=1/np.sqrt(len(X)), df=len(X)-1):\n",
        "  plt.axvline(x, color='r')\n",
        "\n",
        "plt.legend(['Left Norm', 'Right Norm', 'Left t', 'Right t'])\n",
        "\n",
        "plt.xlim(-3, 3)\n",
        "plt.grid(True)\n",
        "plt.title('Доверительные интервалы')"
      ],
      "execution_count": null,
      "outputs": [
        {
          "output_type": "execute_result",
          "data": {
            "text/plain": [
              "Text(0.5, 1.0, 'Доверительные интервалы')"
            ]
          },
          "metadata": {},
          "execution_count": 65
        },
        {
          "output_type": "display_data",
          "data": {
            "image/png": "[encoded data removed]",
            "text/plain": [
              "<Figure size 432x288 with 1 Axes>"
            ]
          },
          "metadata": {
            "needs_background": "light"
          }
        }
      ]
    },
    {
      "cell_type": "markdown",
      "metadata": {
        "id": "dn_pjFLcROwD"
      },
      "source": [
        "# Различия двух случайных величин (представленных выборками)\n",
        "\n",
        "В эксперименте мы обычно проводим измерения, которые создают данные. Данные могут относится к двум разным условиям проведения эксперимента (Conditions). Похожесть или различие данных может свидетельствовать о наличии эффекта, вызванного изменением условия."
      ]
    },
    {
      "cell_type": "markdown",
      "metadata": {
        "id": "PPXAi1S9foNl"
      },
      "source": [
        "## Но начнем с эффекта различия величины от 0\n",
        "\n",
        "У нас есть данные, и мы хотим узнать, отличаются ли они от нуля? А что значит, отличаются ли от 0?\n",
        "\n",
        "Что значит, что случайная величина $X \\approx 0$?  \n",
        "1. Допустим, все возможные реализации X строго равны 0 - вырожденный случай, т.е. вариация тождественна 0: $S^2==0$\n",
        "2. А если не вырожденный случай ($S^2>0$). Тогда мы _ожидаем_, что _хотя бы_ в среднем $\\overline{x} \\approx 0$\n",
        "\n",
        "Что значит ожидаем? Что с определенной вероятностью, _удобной_ нам, среднее значение случайной величины $X$ попадет в ожидаемый интервал.\n",
        "\n",
        "Тогда отличие случайной величины от 0 $X \\neq 0$, будет означать, что при данном _удобном_ нам уровне вероятности среднее случайной величины $\\overline{x}$ не попало в ожидаемый интервал.\n",
        "\n",
        "\n",
        "\n"
      ]
    },
    {
      "cell_type": "markdown",
      "source": [
        ""
      ],
      "metadata": {
        "id": "DHirWjc-1bHL"
      }
    },
    {
      "cell_type": "markdown",
      "metadata": {
        "id": "a_dYFSfLhy-C"
      },
      "source": [
        "Формулируем Гипотезу:  \n",
        "*Случайная величина $X$, представленная выборкой длины $N_{samples}$, имеет нормальное распределение со средним значением $\\mu \\approx 0$, при этом истиное значение вариации неизвестно*\n"
      ]
    },
    {
      "cell_type": "code",
      "metadata": {
        "colab": {
          "base_uri": "https://localhost:8080/",
          "height": 283
        },
        "id": "fdZh2QK-jXse",
        "outputId": "1c594a67-03b9-4222-f0a6-a7530932f4f8"
      },
      "source": [
        "# сравниваем существующую выборку с 0\n",
        "\n",
        "X = norm.rvs(loc=0, scale=1, size=5)\n",
        "variance = np.sum((X-X.mean())**2)/(len(X)-1)\n",
        "sterr = np.sqrt(variance)/np.sqrt(len(X))\n",
        "\n",
        "plt.figure()\n",
        "plt.hist(X, bins=np.linspace(-3, 3, 31))\n",
        "plt.axvline(0, color = 'r', lw=2)\n",
        "plt.grid(True)\n",
        "plt.axvline(X.mean(), color='k', ls='-', lw=1)\n",
        "for x in t.interval(0.95, scale=sterr, loc=0, df=len(X)-1):\n",
        "  plt.axvline(x, color='k', ls='--', lw=1)\n",
        "plt.legend(['Pop mean', 'Sample mean', 'Left', 'Right'])\n",
        "X.mean(), t.interval(0.95, scale=sterr, loc=0, df=len(X)-1)"
      ],
      "execution_count": null,
      "outputs": [
        {
          "output_type": "execute_result",
          "data": {
            "text/plain": [
              "(-0.10718686887163434, (-0.43464247237689263, 0.43464247237689263))"
            ]
          },
          "metadata": {},
          "execution_count": 70
        },
        {
          "output_type": "display_data",
          "data": {
            "image/png": "[encoded data removed]",
            "text/plain": [
              "<Figure size 432x288 with 1 Axes>"
            ]
          },
          "metadata": {
            "needs_background": "light"
          }
        }
      ]
    },
    {
      "cell_type": "code",
      "metadata": {
        "colab": {
          "base_uri": "https://localhost:8080/",
          "height": 284
        },
        "id": "4Esv0lTpk6qK",
        "outputId": "9078521e-693c-4c2b-cb9d-950193d31a8e"
      },
      "source": [
        "# введем искусственно смещение\n",
        "X = norm.rvs(loc=1, scale=1, size=10)\n",
        "variance = np.sum((X-X.mean())**2)/(len(X)-1)\n",
        "sterr = np.sqrt(variance)/np.sqrt(len(X))\n",
        "\n",
        "plt.figure()\n",
        "plt.hist(X, bins=np.linspace(-3, 3, 31))\n",
        "plt.axvline(0, color = 'r', lw=2)\n",
        "plt.grid(True)\n",
        "plt.axvline(X.mean(), color='k', ls='-', lw=2)\n",
        "for x in t.interval(0.95, scale=sterr, loc=0, df=len(X)-1):\n",
        "  plt.axvline(x, color='k', ls='--', lw=1)\n",
        "plt.legend([ 'Pop mean', 'Sample mean', 'Left', 'Right'])\n",
        "\n",
        "f'Mean {X.mean():.3f} interval {t.interval(0.99, scale=sterr, loc=0, df=len(X)-1)}'"
      ],
      "execution_count": null,
      "outputs": [
        {
          "output_type": "execute_result",
          "data": {
            "application/vnd.google.colaboratory.intrinsic+json": {
              "type": "string"
            },
            "text/plain": [
              "'Mean 1.029 interval (-0.6661997646472259, 0.6661997646472259)'"
            ]
          },
          "metadata": {},
          "execution_count": 74
        },
        {
          "output_type": "display_data",
          "data": {
            "image/png": "[encoded data removed]",
            "text/plain": [
              "<Figure size 432x288 with 1 Axes>"
            ]
          },
          "metadata": {
            "needs_background": "light"
          }
        }
      ]
    },
    {
      "cell_type": "markdown",
      "metadata": {
        "id": "O4AFWS1M_SCt"
      },
      "source": [
        "**Что такое t-test?**"
      ]
    },
    {
      "cell_type": "code",
      "metadata": {
        "id": "J2NB8l3Y-OoJ",
        "colab": {
          "base_uri": "https://localhost:8080/",
          "height": 283
        },
        "outputId": "e43f52cb-e528-40b2-ebf9-8f6fed4718bf"
      },
      "source": [
        "\n",
        "from scipy.stats import ttest_1samp\n",
        "\n",
        "# введем искусственно смещение\n",
        "X = norm.rvs(loc=1, scale=1, size=10)\n",
        "variance = np.sum((X-X.mean())**2)/(len(X)-1)\n",
        "sterr = np.sqrt(variance)/np.sqrt(len(X))\n",
        "\n",
        "plt.figure()\n",
        "plt.hist(X, bins=np.linspace(-3, 3, 31))\n",
        "plt.axvline(0, color = 'r', lw=2)\n",
        "plt.grid(True)\n",
        "plt.axvline(X.mean(), color='k', ls='-', lw=1)\n",
        "\n",
        "t_interval = t.interval(0.95, scale=sterr, loc=0, df=len(X)-1)\n",
        "for x in t_interval:\n",
        "  plt.axvline(x, color='k', ls='--', lw=1)\n",
        "plt.legend(['Hist', 'Pop mean', 'Sample mean', 'Left', 'Right'])\n",
        "\n",
        "print(f'Mean {X.mean():.3f} interval {t_interval[0]:.3f}:{t_interval[1]:.3f}')\n"
      ],
      "execution_count": null,
      "outputs": [
        {
          "output_type": "stream",
          "name": "stdout",
          "text": [
            "Mean 0.850 interval -1.075:1.075\n"
          ]
        },
        {
          "output_type": "display_data",
          "data": {
            "image/png": "[encoded data removed]",
            "text/plain": [
              "<Figure size 432x288 with 1 Axes>"
            ]
          },
          "metadata": {
            "needs_background": "light"
          }
        }
      ]
    },
    {
      "cell_type": "markdown",
      "metadata": {
        "id": "swRYbVBtCPEP"
      },
      "source": [
        "$t_{statistic} = \\frac{\\overline{x} - \\mu}{\\text{St.err}}$"
      ]
    },
    {
      "cell_type": "code",
      "metadata": {
        "colab": {
          "base_uri": "https://localhost:8080/"
        },
        "id": "RlEBNU7fCRPY",
        "outputId": "0ce8a8cd-f069-4edc-8029-4ce699f3642b"
      },
      "source": [
        "tstatistic = (X.mean() - 0)/sterr\n",
        "print(tstatistic)"
      ],
      "execution_count": null,
      "outputs": [
        {
          "output_type": "stream",
          "name": "stdout",
          "text": [
            "1.7876756395601243\n"
          ]
        }
      ]
    },
    {
      "cell_type": "markdown",
      "metadata": {
        "id": "IUgFn36aBYgn"
      },
      "source": [
        "Если бы гипотеза выполнялась, то интервал, расчитанный по границе, приходящейся на точечную оценку среднего по существующей выборке, покрывал бы кумулятивную вероятность..."
      ]
    },
    {
      "cell_type": "code",
      "metadata": {
        "colab": {
          "base_uri": "https://localhost:8080/"
        },
        "id": "cK4114TvA3ua",
        "outputId": "d493f9bf-c6f0-47c7-ed30-02d541202f73"
      },
      "source": [
        "cumulative_probability = t.cdf(tstatistic, df=len(X)-1) - t.cdf(-tstatistic, df=len(X)-1)\n",
        "cumulative_probability"
      ],
      "execution_count": null,
      "outputs": [
        {
          "output_type": "execute_result",
          "data": {
            "text/plain": [
              "0.8925348548027893"
            ]
          },
          "metadata": {},
          "execution_count": 77
        }
      ]
    },
    {
      "cell_type": "markdown",
      "metadata": {
        "id": "HmoVLg8jCaSj"
      },
      "source": [
        "А что осталось за хвостом интервала?"
      ]
    },
    {
      "cell_type": "code",
      "metadata": {
        "colab": {
          "base_uri": "https://localhost:8080/"
        },
        "id": "5eiKnxPwChAl",
        "outputId": "7da4aee7-ec92-4fac-d8ea-c199463125b9"
      },
      "source": [
        "1-cumulative_probability"
      ],
      "execution_count": null,
      "outputs": [
        {
          "output_type": "execute_result",
          "data": {
            "text/plain": [
              "0.10746514519721073"
            ]
          },
          "metadata": {},
          "execution_count": 78
        }
      ]
    },
    {
      "cell_type": "code",
      "metadata": {
        "colab": {
          "base_uri": "https://localhost:8080/"
        },
        "id": "7JSIQ-isAqBm",
        "outputId": "0a8c5897-b905-465b-dc14-4fb40b3153f6"
      },
      "source": [
        "print(ttest_1samp(X, popmean=0))"
      ],
      "execution_count": null,
      "outputs": [
        {
          "output_type": "stream",
          "name": "stdout",
          "text": [
            "Ttest_1sampResult(statistic=1.7876756395601243, pvalue=0.10746514519721072)\n"
          ]
        }
      ]
    },
    {
      "cell_type": "markdown",
      "metadata": {
        "id": "sLGVZWTyDydj"
      },
      "source": [
        "Интерпретация: из-за того, что среднее не попадает в ожидаемый интервал, построенный по _удобному_ значению уровня вероятности (например, 0.95), мы отвергаем гипотезу, что среднее популяции случайной величины равно 0. Уровень значимости\n",
        "\n",
        "$\\text{p-value} = 1-\\text{удобная вероятность} = 1-0.95 = 0.05$ "
      ]
    },
    {
      "cell_type": "markdown",
      "metadata": {
        "id": "WQv5X1eNCz98"
      },
      "source": [
        "![Дабумтсс](https://www.meme-arsenal.com/memes/578c61569acfb16525ccd7b3025319d0.jpg)"
      ]
    },
    {
      "cell_type": "markdown",
      "metadata": {
        "id": "ikhj_UufE9Vf"
      },
      "source": [
        "## Что такое мощность статистического теста?\n",
        "\n",
        "Это false negative rate, или вероятность неправильного отклонения Нуль-гипотезы, хоть она, на самом деле, верна."
      ]
    },
    {
      "cell_type": "code",
      "metadata": {
        "colab": {
          "base_uri": "https://localhost:8080/"
        },
        "id": "OB-IcX9VFPym",
        "outputId": "44803c43-ce19-402f-d596-e29125a29d6a"
      },
      "source": [
        "n_sets = 10000\n",
        "n_samples = 100\n",
        "XX = norm.rvs(loc=0, scale=1, size=(n_sets, n_samples)) # они ВСЕ из одной выборки\n",
        "\n",
        "XX.shape"
      ],
      "execution_count": null,
      "outputs": [
        {
          "output_type": "execute_result",
          "data": {
            "text/plain": [
              "(10000, 100)"
            ]
          },
          "metadata": {},
          "execution_count": 138
        }
      ]
    },
    {
      "cell_type": "code",
      "metadata": {
        "colab": {
          "base_uri": "https://localhost:8080/"
        },
        "id": "dRoRqbDvFZ_7",
        "outputId": "2db2f3a5-63fe-48cb-87ff-7565c5673f5c"
      },
      "source": [
        "pv_thresh = 0.05\n",
        "(ttest_1samp(XX, popmean=0, axis=-1).pvalue<pv_thresh).sum()"
      ],
      "execution_count": null,
      "outputs": [
        {
          "output_type": "execute_result",
          "data": {
            "text/plain": [
              "497"
            ]
          },
          "metadata": {},
          "execution_count": 139
        }
      ]
    },
    {
      "cell_type": "markdown",
      "metadata": {
        "id": "_N9OaMg6G_6D"
      },
      "source": [
        "## Что такое мощность эффекта и при чем тут сигма?\n",
        "\n",
        "$d=\\frac{\\text{Измеренная величина} - \\text{Ожидаемая величина}}{\\text{Разброс величины}}$\n",
        "\n",
        "$d = \\frac{\\overline{x} - \\mu}{\\text{St.err}} = t_{statistic}$\n",
        "\n",
        "Но что если интерпретировать p-values в рамках нормального распределения (агностичного к степеням свободы)?\n",
        "\n",
        "величина эффекта будет называться $z = \\frac{\\overline{x} - \\mu}{\\sigma}$ \n"
      ]
    },
    {
      "cell_type": "code",
      "metadata": {
        "colab": {
          "base_uri": "https://localhost:8080/",
          "height": 1000
        },
        "id": "iEwwPOQvIlH3",
        "outputId": "ced71acd-c6eb-4467-ec04-6e344d9e688d"
      },
      "source": [
        "# положим сигму = 1, а популяционное среднее - 0\n",
        "for effect in [0,1,2,3,4,5,6]:\n",
        "  plt.figure()\n",
        "  plt.hist(norm.rvs(size=1000, loc=effect, scale=1), bins=100, histtype='step')\n",
        "  plt.axvline(0, color='k', lw=2)\n",
        "  plt.title(f'd={effect}, эффективное pvalue={1 - (norm.cdf(effect) - norm.cdf(-effect)):.9f}')\n",
        "  plt.xlim(-10, 10)"
      ],
      "execution_count": null,
      "outputs": [
        {
          "output_type": "display_data",
          "data": {
            "image/png": "[encoded data removed]",
            "text/plain": [
              "<Figure size 432x288 with 1 Axes>"
            ]
          },
          "metadata": {
            "needs_background": "light"
          }
        },
        {
          "output_type": "display_data",
          "data": {
            "image/png": "[encoded data removed]",
            "text/plain": [
              "<Figure size 432x288 with 1 Axes>"
            ]
          },
          "metadata": {
            "needs_background": "light"
          }
        },
        {
          "output_type": "display_data",
          "data": {
            "image/png": "[encoded data removed]",
            "text/plain": [
              "<Figure size 432x288 with 1 Axes>"
            ]
          },
          "metadata": {
            "needs_background": "light"
          }
        },
        {
          "output_type": "display_data",
          "data": {
            "image/png": "[encoded data removed]",
            "text/plain": [
              "<Figure size 432x288 with 1 Axes>"
            ]
          },
          "metadata": {
            "needs_background": "light"
          }
        },
        {
          "output_type": "display_data",
          "data": {
            "image/png": "[encoded data removed]",
            "text/plain": [
              "<Figure size 432x288 with 1 Axes>"
            ]
          },
          "metadata": {
            "needs_background": "light"
          }
        },
        {
          "output_type": "display_data",
          "data": {
            "image/png": "[encoded data removed]",
            "text/plain": [
              "<Figure size 432x288 with 1 Axes>"
            ]
          },
          "metadata": {
            "needs_background": "light"
          }
        },
        {
          "output_type": "display_data",
          "data": {
            "image/png": "[encoded data removed]",
            "text/plain": [
              "<Figure size 432x288 with 1 Axes>"
            ]
          },
          "metadata": {
            "needs_background": "light"
          }
        }
      ]
    },
    {
      "cell_type": "markdown",
      "metadata": {
        "id": "7fnK2lRtDSiB"
      },
      "source": [
        "## А что если теперь у нас две случайные величины, представленные своими выборками?"
      ]
    },
    {
      "cell_type": "markdown",
      "metadata": {
        "id": "e42pZ_Y3DdLr"
      },
      "source": [
        "Гипотеза:\n",
        "\n",
        "Среднее популяции одной случайной величины X1 равно среднему популяции другой случайной величины X2, а их дисперсии одинаковы.\n",
        "\n",
        "$t_{statistic} = \\frac{\\overline{x_1} - \\overline{x_2}}{S_{общее}}$\n",
        "\n",
        "$S_{общее} \\approx \\sigma_1 = \\sigma_2$\n"
      ]
    },
    {
      "cell_type": "code",
      "metadata": {
        "colab": {
          "base_uri": "https://localhost:8080/",
          "height": 1000
        },
        "id": "4LT9UpORR6k3",
        "outputId": "9319b8b8-11ce-4e4b-b5c4-51f3beeaf9c9"
      },
      "source": [
        "\n",
        "from scipy.stats import ttest_ind\n",
        "\n",
        "for effect in [0,1,2,3,4,5,6]:\n",
        "  plt.figure()\n",
        "  X1 = norm.rvs(size=10, loc=-effect/2, scale=1)\n",
        "  X2 = norm.rvs(size=10, loc=effect/2, scale=1)\n",
        "  plt.hist(X1, bins=np.linspace(-5, 10, 31), histtype='step')\n",
        "  plt.hist(X2, bins=np.linspace(-5, 10, 31), histtype='step')\n",
        "  # plt.grid(True)\n",
        "  plt.title(f'd={effect},  ttest_ind pvalue={ttest_ind(X1, X2, equal_var=True).pvalue:.3f}')\n",
        "  plt.xlim(-10, 10)\n"
      ],
      "execution_count": null,
      "outputs": [
        {
          "output_type": "display_data",
          "data": {
            "image/png": "[encoded data removed]",
            "text/plain": [
              "<Figure size 432x288 with 1 Axes>"
            ]
          },
          "metadata": {
            "needs_background": "light"
          }
        },
        {
          "output_type": "display_data",
          "data": {
            "image/png": "[encoded data removed]",
            "text/plain": [
              "<Figure size 432x288 with 1 Axes>"
            ]
          },
          "metadata": {
            "needs_background": "light"
          }
        },
        {
          "output_type": "display_data",
          "data": {
            "image/png": "[encoded data removed]",
            "text/plain": [
              "<Figure size 432x288 with 1 Axes>"
            ]
          },
          "metadata": {
            "needs_background": "light"
          }
        },
        {
          "output_type": "display_data",
          "data": {
            "image/png": "[encoded data removed]",
            "text/plain": [
              "<Figure size 432x288 with 1 Axes>"
            ]
          },
          "metadata": {
            "needs_background": "light"
          }
        },
        {
          "output_type": "display_data",
          "data": {
            "image/png": "[encoded data removed]",
            "text/plain": [
              "<Figure size 432x288 with 1 Axes>"
            ]
          },
          "metadata": {
            "needs_background": "light"
          }
        },
        {
          "output_type": "display_data",
          "data": {
            "image/png": "[encoded data removed]",
            "text/plain": [
              "<Figure size 432x288 with 1 Axes>"
            ]
          },
          "metadata": {
            "needs_background": "light"
          }
        },
        {
          "output_type": "display_data",
          "data": {
            "image/png": "[encoded data removed]",
            "text/plain": [
              "<Figure size 432x288 with 1 Axes>"
            ]
          },
          "metadata": {
            "needs_background": "light"
          }
        }
      ]
    },
    {
      "cell_type": "markdown",
      "metadata": {
        "id": "A9RhDuk-N0NV"
      },
      "source": [
        "А если дисперсии разные, то вместо\n",
        "\n",
        "$S_{общее} = S_{Welch} = \\sqrt{S_1^2+S_2^2}$\n",
        "\n",
        "Интерпретация — эффективно будет изучаться гипотетическая разница $X_1 - X_2$, порожденная генеральными выборками, но с параметрами из точечных оценок по конкретным выборкам.\n",
        "\n",
        "На практике — ставите `equal_var=False`"
      ]
    },
    {
      "cell_type": "code",
      "metadata": {
        "colab": {
          "base_uri": "https://localhost:8080/",
          "height": 299
        },
        "id": "FpSINj7gOW20",
        "outputId": "9002a082-02cb-47e8-a39c-a68b63c21474"
      },
      "source": [
        "plt.figure()\n",
        "X1 = norm.rvs(size=10, loc=0, scale=1)\n",
        "X2 = norm.rvs(size=10, loc=1, scale=2)\n",
        "plt.hist(X1, bins=np.linspace(-5, 10, 31), histtype='step')\n",
        "plt.hist(X2, bins=np.linspace(-5, 10, 31), histtype='step')\n",
        "# plt.grid(True)\n",
        "plt.title(f'd={effect},  ttest_ind pvalue={ttest_ind(X1, X2, equal_var=False).pvalue:.3f}')\n",
        "plt.xlim(-10, 10)"
      ],
      "execution_count": null,
      "outputs": [
        {
          "output_type": "execute_result",
          "data": {
            "text/plain": [
              "(-10.0, 10.0)"
            ]
          },
          "metadata": {},
          "execution_count": 173
        },
        {
          "output_type": "display_data",
          "data": {
            "image/png": "[encoded data removed]",
            "text/plain": [
              "<Figure size 432x288 with 1 Axes>"
            ]
          },
          "metadata": {
            "needs_background": "light"
          }
        }
      ]
    },
    {
      "cell_type": "markdown",
      "metadata": {
        "id": "Jr7-rxzUfcqe"
      },
      "source": [
        "## Что такое парные измерения? \n",
        "\n",
        "Когда одно измерение порождает два значения\n",
        "\n",
        "Например, значения ЭЭГ потенциала до и после стимула\n",
        "\n",
        "Тогда случайная величина $X = X_1 - X_2$ и дальше работать как с одной величиной"
      ]
    },
    {
      "cell_type": "markdown",
      "metadata": {
        "id": "HAu-aputh50u"
      },
      "source": [
        "# Что такое проблема множественных сравнений и зачем корректировать p-value? (False discovery rate correction)\n"
      ]
    },
    {
      "cell_type": "markdown",
      "metadata": {
        "id": "wdarWGlRiCfL"
      },
      "source": [
        "Примеры:\n",
        "- Если мы измеряем потенциал по электродам, а потом производим попарные сравнения выборок между собой. Тогда каждый из электродов будет участвовать в сравнении несколько раз.\n",
        "- Если мы производим измерения различных параметров, а потом сравниваем их друг с другом == \"абсолютное значение второй производной через 350 мс после начала максимального наклона потенциала ERP, отфильтрованного в диапазоне 1-24 Гц\"\n",
        "\n",
        "!!! Чем больше похожих сравнений, тем выше вероятность получить достоверное отклонение"
      ]
    },
    {
      "cell_type": "code",
      "metadata": {
        "colab": {
          "base_uri": "https://localhost:8080/"
        },
        "id": "4aG-iPJgj9ew",
        "outputId": "18075f67-7637-46e0-c8e4-e4a91c89812a"
      },
      "source": [
        "n_samples=10\n",
        "n_sets = 32\n",
        "XX = norm.rvs(size=(n_sets, n_samples), random_state=44)\n",
        "\n",
        "XX.shape"
      ],
      "execution_count": null,
      "outputs": [
        {
          "output_type": "execute_result",
          "data": {
            "text/plain": [
              "(32, 10)"
            ]
          },
          "metadata": {},
          "execution_count": 208
        }
      ]
    },
    {
      "cell_type": "code",
      "metadata": {
        "colab": {
          "base_uri": "https://localhost:8080/",
          "height": 284
        },
        "id": "UTd-_HrxkK0o",
        "outputId": "53a2c084-be84-4bc8-e5d9-9f40bf48409e"
      },
      "source": [
        "pvals = np.array([[ttest_ind(X1, X2).pvalue for X1 in XX] for X2 in XX])\n",
        "plt.imshow(pvals<0.05, cmap='bwr')"
      ],
      "execution_count": null,
      "outputs": [
        {
          "output_type": "execute_result",
          "data": {
            "text/plain": [
              "<matplotlib.image.AxesImage at 0x7f0ab6358a50>"
            ]
          },
          "metadata": {},
          "execution_count": 209
        },
        {
          "output_type": "display_data",
          "data": {
            "image/png": "[encoded data removed]",
            "text/plain": [
              "<Figure size 432x288 with 1 Axes>"
            ]
          },
          "metadata": {
            "needs_background": "light"
          }
        }
      ]
    },
    {
      "cell_type": "code",
      "metadata": {
        "colab": {
          "base_uri": "https://localhost:8080/",
          "height": 284
        },
        "id": "cSJAa95zlJ7s",
        "outputId": "2e4127b4-83f4-4bd7-a273-88e2b517434d"
      },
      "source": [
        "# Корректировка по Бенферрони\n",
        "\n",
        "# p_thresh = 0.05/32\n",
        "pvals = np.array([mne.stats.bonferroni_correction([ttest_ind(X1, X2).pvalue \n",
        "                                                  for X1 in XX], alpha=0.05)[1]\n",
        "                  for X2 in XX])\n",
        "plt.imshow(pvals<0.05, cmap='bwr')"
      ],
      "execution_count": null,
      "outputs": [
        {
          "output_type": "execute_result",
          "data": {
            "text/plain": [
              "<matplotlib.image.AxesImage at 0x7f0ab6b4db10>"
            ]
          },
          "metadata": {},
          "execution_count": 210
        },
        {
          "output_type": "display_data",
          "data": {
            "image/png": "[encoded data removed]",
            "text/plain": [
              "<Figure size 432x288 with 1 Axes>"
            ]
          },
          "metadata": {
            "needs_background": "light"
          }
        }
      ]
    },
    {
      "cell_type": "code",
      "metadata": {
        "colab": {
          "base_uri": "https://localhost:8080/",
          "height": 284
        },
        "id": "drAfCBluoptw",
        "outputId": "30bab447-425a-448d-c775-9cd1fbca6b13"
      },
      "source": [
        "# Корректировка False Discovery Rate Бенджамини-Хокберга\n",
        "pvals = np.array([mne.stats.fdr_correction([ttest_ind(X1, X2).pvalue \n",
        "                                                  for X1 in XX], alpha=0.05)[1]\n",
        "                  for X2 in XX])\n",
        "plt.imshow(pvals<0.05, cmap='bwr')"
      ],
      "execution_count": null,
      "outputs": [
        {
          "output_type": "execute_result",
          "data": {
            "text/plain": [
              "<matplotlib.image.AxesImage at 0x7f0ab627ded0>"
            ]
          },
          "metadata": {},
          "execution_count": 211
        },
        {
          "output_type": "display_data",
          "data": {
            "image/png": "[encoded data removed]",
            "text/plain": [
              "<Figure size 432x288 with 1 Axes>"
            ]
          },
          "metadata": {
            "needs_background": "light"
          }
        }
      ]
    },
    {
      "cell_type": "markdown",
      "metadata": {
        "id": "x-NwaNzTq6GN"
      },
      "source": [
        "# Непараметрические тесты"
      ]
    },
    {
      "cell_type": "markdown",
      "metadata": {
        "id": "wS8dvyvNq8-H"
      },
      "source": [
        "## Wilcoxon signed rank\n",
        "\n",
        "Гипотеза: случайная величина X (или парная разница X1-X2) распределена симметрично относительно 0 \n",
        "\n",
        "Статистика: сумма знаков отсортированных по модулю величин"
      ]
    },
    {
      "cell_type": "code",
      "metadata": {
        "colab": {
          "base_uri": "https://localhost:8080/",
          "height": 283
        },
        "id": "BYTNMOFurvUJ",
        "outputId": "0aa4c6ff-0095-4755-b323-2851d26f44d7"
      },
      "source": [
        "from scipy.stats import uniform\n",
        "X = uniform.rvs(loc=-1, scale=2.5, size=100)\n",
        "plt.hist(X, bins=100);\n"
      ],
      "execution_count": null,
      "outputs": [
        {
          "output_type": "execute_result",
          "data": {
            "text/plain": [
              "WilcoxonResult(statistic=1633.0, pvalue=0.002162291575214179)"
            ]
          },
          "metadata": {},
          "execution_count": 217
        },
        {
          "output_type": "display_data",
          "data": {
            "image/png": "[encoded data removed]",
            "text/plain": [
              "<Figure size 432x288 with 1 Axes>"
            ]
          },
          "metadata": {
            "needs_background": "light"
          }
        }
      ]
    },
    {
      "cell_type": "code",
      "metadata": {
        "colab": {
          "base_uri": "https://localhost:8080/"
        },
        "id": "uYEdLn77swy4",
        "outputId": "b0e5d689-67fe-45cf-a9ab-242d2100c893"
      },
      "source": [
        "from scipy.stats import wilcoxon\n",
        "wilcoxon(X/1100)"
      ],
      "execution_count": null,
      "outputs": [
        {
          "output_type": "execute_result",
          "data": {
            "text/plain": [
              "WilcoxonResult(statistic=1633.0, pvalue=0.002162291575214179)"
            ]
          },
          "metadata": {},
          "execution_count": 221
        }
      ]
    },
    {
      "cell_type": "markdown",
      "metadata": {
        "id": "us7mC3RftfvC"
      },
      "source": [
        "## Mann-Whitney U-test (Rank sum test)\n",
        "\n",
        "Если две случайных величины X1 и X2 независимы \n",
        "\n",
        "Гипотеза — распределения X1 и X2 таковы, что P(x1>x2)==P(x2>x1)\n",
        "\n",
        "Статистика — сравнение разниц всех комбинаций пар из X1 и X2\n",
        "\n",
        "Например, для грубых оценок психометрических эффектов\n",
        "\n"
      ]
    },
    {
      "cell_type": "code",
      "metadata": {
        "colab": {
          "base_uri": "https://localhost:8080/"
        },
        "id": "yHgKCBV6ubes",
        "outputId": "12d439f4-1d6e-4a5a-f6bb-bbc31e6572f4"
      },
      "source": [
        "from scipy.stats import mannwhitneyu\n",
        "\n",
        "no_drug_group   = np.random.choice(np.arange(3,8), size=100)\n",
        "with_drug_group = np.random.choice(np.arange(4,9), size=5)\n",
        "\n",
        "mannwhitneyu(no_drug_group, with_drug_group)"
      ],
      "execution_count": null,
      "outputs": [
        {
          "output_type": "execute_result",
          "data": {
            "text/plain": [
              "MannwhitneyuResult(statistic=191.0, pvalue=0.1835411384807799)"
            ]
          },
          "metadata": {},
          "execution_count": 230
        }
      ]
    },
    {
      "cell_type": "markdown",
      "metadata": {
        "id": "CNDxlbHbwTCp"
      },
      "source": [
        "# Корреляционные тесты"
      ]
    },
    {
      "cell_type": "markdown",
      "metadata": {
        "id": "F147Y2qTwWRC"
      },
      "source": [
        "## Корреляционный тест Пирсона\n",
        "\n",
        "Тест параметрический\n",
        "\n",
        "Гипотеза — коэффициент корреляции между случайными нормально-распределенными величинами X1 и X2 равен 0\n",
        "\n",
        "Статистика — коэффициент корреляции"
      ]
    },
    {
      "cell_type": "code",
      "metadata": {
        "colab": {
          "base_uri": "https://localhost:8080/",
          "height": 283
        },
        "id": "W_gQCI8zxcSJ",
        "outputId": "597bd2fd-e73e-4670-957b-8a79e3e2536b"
      },
      "source": [
        "X1 = norm.rvs(size=(100), random_state=42)\n",
        "X2 = (X1*0.15) + norm.rvs(size=X1.shape, random_state=51)\n",
        "plt.figure()\n",
        "plt.plot(X1, X2, '.')\n",
        "\n",
        "from scipy.stats import pearsonr\n",
        "c, pv = pearsonr(X1, X2)\n",
        "print('Коэф. корреляции', c, 'pvalue=', pv)\n",
        "\n",
        "plt.plot(X1, c*X1, '-', color='k');\n"
      ],
      "execution_count": null,
      "outputs": [
        {
          "output_type": "stream",
          "name": "stdout",
          "text": [
            "Коэф. корреляции 0.20270332202709515 pvalue= 0.04311470408888646\n"
          ]
        },
        {
          "output_type": "display_data",
          "data": {
            "image/png": "[encoded data removed]",
            "text/plain": [
              "<Figure size 432x288 with 1 Axes>"
            ]
          },
          "metadata": {
            "needs_background": "light"
          }
        }
      ]
    },
    {
      "cell_type": "markdown",
      "metadata": {
        "id": "3B6joyy9yE8X"
      },
      "source": [
        "## Корреляционный тест Спирмана\n",
        "\n",
        "Непараметрический корреляционный тест \n",
        "\n",
        "Гипотеза — непараметрический ранговый коэффициент корреляции между двумя случайныйми величинами X1 и X2 = 0\n",
        "\n",
        "Статистика — взвешенная сумма разниц рангов пар X1 и X2\n",
        "\n",
        "Интерпретация: зависимость между X1 и X2 — монотонная"
      ]
    },
    {
      "cell_type": "code",
      "metadata": {
        "colab": {
          "base_uri": "https://localhost:8080/",
          "height": 283
        },
        "id": "9cC9eSChyD_v",
        "outputId": "18796ed6-89f6-409a-8f36-6cf2d278979a"
      },
      "source": [
        "X1 = norm.rvs(size=(100), random_state=42)\n",
        "X2 = (X1*0.15) + norm.rvs(size=X1.shape, random_state=51)\n",
        "plt.figure()\n",
        "plt.plot(X1, X2, '.')\n",
        "\n",
        "from scipy.stats import spearmanr\n",
        "c, pv = spearmanr(X1, X2)\n",
        "print('Коэф. корреляции', c, 'pvalue=', pv)\n",
        "\n",
        "plt.plot(X1, c*X1, '-', color='k');\n"
      ],
      "execution_count": null,
      "outputs": [
        {
          "output_type": "stream",
          "name": "stdout",
          "text": [
            "Коэф. корреляции 0.23081908190819078 pvalue= 0.02086249536911837\n"
          ]
        },
        {
          "output_type": "display_data",
          "data": {
            "image/png": "[encoded data removed]",
            "text/plain": [
              "<Figure size 432x288 with 1 Axes>"
            ]
          },
          "metadata": {
            "needs_background": "light"
          }
        }
      ]
    },
    {
      "cell_type": "markdown",
      "metadata": {
        "id": "yN_Ge3caNYek"
      },
      "source": [
        "# Куда дальше?\n",
        "\n",
        "- Изучить python и поиграть с scipy.stats \n",
        "- Statsmodels https://www.statsmodels.org/\n"
      ]
    },
    {
      "cell_type": "code",
      "source": [
        "\n"
      ],
      "metadata": {
        "id": "Qnsvt0tutPBj"
      },
      "execution_count": null,
      "outputs": []
    },
    {
      "cell_type": "code",
      "metadata": {
        "id": "KQtDVWeB0T4i"
      },
      "source": [
        ""
      ],
      "execution_count": null,
      "outputs": []
    },
    {
      "cell_type": "markdown",
      "source": [
        "# !!!!!!!!!!!! Последнее ДЗ\n",
        "1. Провести _руками_ вычисление pvalue по t-test проверки гипотезы о различии каждой пары групп ирисов для каждой численной колонки\n",
        "\n",
        "Всего будет 3*4=12 сравнений\n",
        "\n",
        "Сниппет загрузки ирисов уже был"
      ],
      "metadata": {
        "id": "30l7CgPStR7I"
      }
    },
    {
      "cell_type": "code",
      "source": [
        ""
      ],
      "metadata": {
        "id": "sdwUHmSXtP2L"
      },
      "execution_count": null,
      "outputs": []
    }
  ]
}