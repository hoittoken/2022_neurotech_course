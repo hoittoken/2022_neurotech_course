{
 "cells": [
  {
   "cell_type": "markdown",
   "metadata": {
    "id": "p1v5j4YhRKwm"
   },
   "source": [
    "# Введение"
   ]
  },
  {
   "cell_type": "markdown",
   "metadata": {
    "id": "mNF7p_T3Qi3p"
   },
   "source": [
    "**Как строится выборка?**\n",
    "\n",
    "Существует Генеральная Совокупность изучаемых объектов (population), из которой путем определенной процедуры случайного выбора (измерения, наблюдения, sampling) создается подмножество элементов (sample set).\n",
    "\n",
    "**Как получаются данные?**\n",
    "\n",
    "Данные получаются в результате процедуры измерения каких-либо параметров наблюдаемой выборки.\n",
    "\n",
    "**Пример**\n",
    "\n",
    "Потенциалы электродов в каждый момент времени. Генеральная совокупность — объективный физический потенциал в каждый момент времени в каждой точке пространства. Выборка — потенциал, измеренный с помощью EEG системы, в определенные моменты времени в определенных точках пространства.\n",
    "\n",
    "*Параметр* - величина, характеризующая генеральную совокупность  (популяционное среднее и дисперсия)  \n",
    "*Статистика* - величина, характеризующая выборку (среднее выборки, дисперсия выборки)\n",
    "\n",
    "Пример статистик: $\\overline{x}$ (среднее, mean), $s^2$  (дисперсия, variance)  \n",
    "Пример параметров: $\\mu$, $\\sigma^2$\n",
    "\n",
    "**В чем проблема?**\n",
    "Данные после процедуры измерения (даже с одного и того же объекта) получаются различные, данные варьируются (*семь раз отмерь*). Например, может влиять как процедура измерения (инструментальная, методологическая ошибка), так и неоднозначность самой измеряемой величины (например, температура может варьироваться). Но по одному измерению составить вывод об источнике этих различий нельзя.\n",
    "\n",
    "**Как описать эту *различность*?**  \n",
    "С помощью вероятности -- количественной оценки наступления события, например  \n",
    "- выпадения орла/решки, \n",
    "- выпадения стороны кубика\n",
    "- нахождения измеренного потенциала в диапазоне между 1.32мВ и 1.33мВ.  \n",
    "\n",
    "Частотная вероятность  \n",
    "$p_{event}=\\frac{n_{event}}{N_{events}}$, где $n_{event}$ количество одного событий одного типа, а $N_{events}$ — количество всех события. Крайне желательно, чтобы $N_{events}>>1$, а теоретически необходимо $N_{events} \\rightarrow inf$, чего на практике не встречается.\n",
    "\n",
    "**Почему диапазон?**  \n",
    "Потому что у каждого измерительного прибора есть конечная (дискретная) шкала, точнее которой невозможно измерить, то есть сама процедура измерения накладывает верхнюю и нижнюю границу на измеряемую непрерывную величину. А сам процесс называется *дискретизация*.\n",
    "\n",
    "**Диапазоны АЦП**\n",
    "\n",
    "- *Arduino* Uno/Nano  \n",
    "Диапазон 0..5В, количество бит — 10, количество отсчетов - 1024,   \n",
    "шаг АЦП $\\frac{5В-0В}{1024}\\approx0.005В = 5мВ$\n",
    "\n",
    "- *STM32F103xx*  \n",
    "Диапазон 0..3.3В, количество бит — 12, количество отсчетов - 4096  \n",
    "шаг АЦП $\\frac{3.3В-0В}{4096} \\approx 8\\cdot10^{-4}В \\approx 0.1мВ$\n",
    "\n",
    "- *STM32H743xx*  \n",
    "Диапазон 0..3.3В, количество бит — 16, количество отсчетов — $65536$  \n",
    "шаг АЦП $\\frac{3.3В-0В}{65536} \\approx 5\\cdot10^{-5}В \\approx 50µВ$\n",
    "\n",
    "- Analog Devices ADC *ad7739*  \n",
    "Диапазон 0..3.3В, количество бит — 24, количество отсчетов — 16777216 (16.7 млн)  \n",
    "шаг АЦП $\\frac{3.3В-0В}{16.7млн} \\approx 2\\cdot10^{-7}В \\approx 200нВ$"
   ]
  },
  {
   "cell_type": "markdown",
   "metadata": {
    "id": "ITAoAFxTZzrU"
   },
   "source": [
    "# Как будем ставить эксперименты\n",
    "\n",
    "Будем буквально выбирать элементы из выборки"
   ]
  },
  {
   "cell_type": "code",
   "execution_count": 115,
   "metadata": {
    "id": "7r-0DoJcZ3jW"
   },
   "outputs": [],
   "source": [
    "import numpy as np\n",
    "from matplotlib import pyplot as plt"
   ]
  },
  {
   "cell_type": "code",
   "execution_count": 146,
   "metadata": {
    "colab": {
     "base_uri": "https://localhost:8080/"
    },
    "id": "15-U8IDUZ45j",
    "outputId": "fab02137-3f3c-4e6f-a785-d08ae559e8aa"
   },
   "outputs": [
    {
     "data": {
      "text/plain": [
       "3"
      ]
     },
     "execution_count": 146,
     "metadata": {},
     "output_type": "execute_result"
    }
   ],
   "source": [
    "# выбираем - наблюдаем броски кубика\n",
    "np.random.choice([1,2,3,4,5,6])"
   ]
  },
  {
   "cell_type": "code",
   "execution_count": 154,
   "metadata": {
    "colab": {
     "base_uri": "https://localhost:8080/"
    },
    "id": "SfoGQUhQ4K6c",
    "outputId": "23e36ed5-b284-44f2-b79f-ba24a836f54d"
   },
   "outputs": [
    {
     "data": {
      "text/plain": [
       "array(['Решка', 'Решка', 'Орел', 'Решка', 'Орел', 'Решка', 'Орел',\n",
       "       'Решка', 'Решка', 'Решка'], dtype='<U5')"
      ]
     },
     "execution_count": 154,
     "metadata": {},
     "output_type": "execute_result"
    }
   ],
   "source": [
    "# наблюдаем броски монетки\n",
    "np.random.choice([\"Орел\", \"Решка\"], size=10)"
   ]
  },
  {
   "cell_type": "code",
   "execution_count": 155,
   "metadata": {
    "colab": {
     "base_uri": "https://localhost:8080/"
    },
    "id": "s2OaFmlGZ_qO",
    "outputId": "cd79156e-638d-4335-b8ce-60cb3eb7e52d"
   },
   "outputs": [
    {
     "data": {
      "text/plain": [
       "array([6, 3, 4, 2, 1, 1, 4, 5, 1, 1])"
      ]
     },
     "execution_count": 155,
     "metadata": {},
     "output_type": "execute_result"
    }
   ],
   "source": [
    "np.random.choice([1,2,3,4,5,6], size=10)"
   ]
  },
  {
   "cell_type": "code",
   "execution_count": 156,
   "metadata": {
    "colab": {
     "base_uri": "https://localhost:8080/",
     "height": 244
    },
    "id": "EBHdKY8baBit",
    "outputId": "d79ed356-0011-4130-8abe-a9a8f770441b"
   },
   "outputs": [
    {
     "ename": "ValueError",
     "evalue": "probabilities do not sum to 1",
     "output_type": "error",
     "traceback": [
      "\u001b[0;31m---------------------------------------------------------------------------\u001b[0m",
      "\u001b[0;31mValueError\u001b[0m                                Traceback (most recent call last)",
      "Input \u001b[0;32mIn [156]\u001b[0m, in \u001b[0;36m<cell line: 1>\u001b[0;34m()\u001b[0m\n\u001b[0;32m----> 1\u001b[0m \u001b[43mnp\u001b[49m\u001b[38;5;241;43m.\u001b[39;49m\u001b[43mrandom\u001b[49m\u001b[38;5;241;43m.\u001b[39;49m\u001b[43mchoice\u001b[49m\u001b[43m(\u001b[49m\u001b[43m[\u001b[49m\u001b[38;5;241;43m1\u001b[39;49m\u001b[43m,\u001b[49m\u001b[38;5;241;43m2\u001b[39;49m\u001b[43m,\u001b[49m\u001b[38;5;241;43m3\u001b[39;49m\u001b[43m,\u001b[49m\u001b[38;5;241;43m4\u001b[39;49m\u001b[43m,\u001b[49m\u001b[38;5;241;43m5\u001b[39;49m\u001b[43m,\u001b[49m\u001b[38;5;241;43m6\u001b[39;49m\u001b[43m]\u001b[49m\u001b[43m,\u001b[49m\u001b[43m \u001b[49m\n\u001b[1;32m      2\u001b[0m \u001b[43m                 \u001b[49m\u001b[43msize\u001b[49m\u001b[38;5;241;43m=\u001b[39;49m\u001b[38;5;241;43m10\u001b[39;49m\u001b[43m,\u001b[49m\n\u001b[1;32m      3\u001b[0m \u001b[43m                 \u001b[49m\u001b[43mp\u001b[49m\u001b[43m \u001b[49m\u001b[38;5;241;43m=\u001b[39;49m\u001b[43m \u001b[49m\u001b[43m[\u001b[49m\u001b[38;5;241;43m1\u001b[39;49m\u001b[43m,\u001b[49m\u001b[38;5;241;43m1\u001b[39;49m\u001b[43m,\u001b[49m\u001b[38;5;241;43m1\u001b[39;49m\u001b[43m,\u001b[49m\u001b[38;5;241;43m1\u001b[39;49m\u001b[43m,\u001b[49m\u001b[38;5;241;43m1\u001b[39;49m\u001b[43m,\u001b[49m\u001b[38;5;241;43m5\u001b[39;49m\u001b[43m]\u001b[49m\u001b[43m)\u001b[49m\n",
      "File \u001b[0;32mmtrand.pyx:933\u001b[0m, in \u001b[0;36mnumpy.random.mtrand.RandomState.choice\u001b[0;34m()\u001b[0m\n",
      "\u001b[0;31mValueError\u001b[0m: probabilities do not sum to 1"
     ]
    }
   ],
   "source": [
    "np.random.choice([1,2,3,4,5,6], \n",
    "                 size=10,\n",
    "                 p = [1,1,1,1,1,5])"
   ]
  },
  {
   "cell_type": "code",
   "execution_count": 173,
   "metadata": {
    "colab": {
     "base_uri": "https://localhost:8080/"
    },
    "id": "IetxW6SlaRlG",
    "outputId": "7d93feb5-d62d-4e6a-d3fe-dc706cc6ffcf"
   },
   "outputs": [
    {
     "data": {
      "text/plain": [
       "array([6, 6, 2, 6, 5, 6, 2, 3, 6, 4])"
      ]
     },
     "execution_count": 173,
     "metadata": {},
     "output_type": "execute_result"
    }
   ],
   "source": [
    "weights = np.array([1,1,1,1,1,5], dtype='double')\n",
    "weights /= weights.sum()\n",
    "np.random.choice([1,2,3,4,5,6], size=10, p = weights)"
   ]
  },
  {
   "cell_type": "code",
   "execution_count": 176,
   "metadata": {
    "colab": {
     "base_uri": "https://localhost:8080/",
     "height": 393
    },
    "id": "irVvrd9MbE_A",
    "outputId": "ad2fa961-d954-4c49-ec90-439ccf1cd18e"
   },
   "outputs": [
    {
     "data": {
      "text/plain": [
       "(array([   0.,  482.,    0.,    0.,  529.,    0.,    0.,  507.,    0.,\n",
       "           0.,  483.,    0.,    0.,  488.,    0.,    0., 2511.,    0.]),\n",
       " array([0.5       , 0.83333333, 1.16666667, 1.5       , 1.83333333,\n",
       "        2.16666667, 2.5       , 2.83333333, 3.16666667, 3.5       ,\n",
       "        3.83333333, 4.16666667, 4.5       , 4.83333333, 5.16666667,\n",
       "        5.5       , 5.83333333, 6.16666667, 6.5       ]),\n",
       " <BarContainer object of 18 artists>)"
      ]
     },
     "execution_count": 176,
     "metadata": {},
     "output_type": "execute_result"
    },
    {
     "data": {
      "image/png": "[encoded data removed]",
      "text/plain": [
       "<Figure size 432x288 with 1 Axes>"
      ]
     },
     "metadata": {
      "needs_background": "light"
     },
     "output_type": "display_data"
    }
   ],
   "source": [
    "weights = np.array([1,1,1,1,1,5], dtype='double')\n",
    "weights /= weights.sum()\n",
    "X = np.random.choice([1,2,3,4,5,6], size=5000, p = weights)\n",
    "\n",
    "plt.figure()\n",
    "plt.hist(X, bins=np.linspace(0.5, 6.5, 3*6+1))"
   ]
  },
  {
   "cell_type": "markdown",
   "metadata": {
    "id": "ZXBYM5VZcMfd"
   },
   "source": [
    "# Увеличим плостность выборки"
   ]
  },
  {
   "cell_type": "code",
   "execution_count": 177,
   "metadata": {
    "colab": {
     "base_uri": "https://localhost:8080/",
     "height": 283
    },
    "id": "jhOR35jAcTCK",
    "outputId": "323aef16-04c6-4dc1-8656-eaf05a6ba843"
   },
   "outputs": [
    {
     "data": {
      "text/plain": [
       "('Шаг координат', 1.0526315789473684)"
      ]
     },
     "execution_count": 177,
     "metadata": {},
     "output_type": "execute_result"
    },
    {
     "data": {
      "image/png": "[encoded data removed]",
      "text/plain": [
       "<Figure size 432x288 with 1 Axes>"
      ]
     },
     "metadata": {
      "needs_background": "light"
     },
     "output_type": "display_data"
    }
   ],
   "source": [
    "coords = np.linspace(-10, 10, 20) # например, это потенциал от -10mВ до +10mВ\n",
    "dc = np.diff(coords).mean()\n",
    "plt.plot(coords, '.')\n",
    "'Шаг координат', dc"
   ]
  },
  {
   "cell_type": "code",
   "execution_count": 178,
   "metadata": {
    "colab": {
     "base_uri": "https://localhost:8080/",
     "height": 283
    },
    "id": "z6_ampW9hLJs",
    "outputId": "767944b0-ac2a-41a4-8d29-38f358855000"
   },
   "outputs": [
    {
     "data": {
      "text/plain": [
       "[<matplotlib.lines.Line2D at 0x7f90f0a3ee50>]"
      ]
     },
     "execution_count": 178,
     "metadata": {},
     "output_type": "execute_result"
    },
    {
     "data": {
      "image/png": "[encoded data removed]",
      "text/plain": [
       "<Figure size 432x288 with 1 Axes>"
      ]
     },
     "metadata": {
      "needs_background": "light"
     },
     "output_type": "display_data"
    }
   ],
   "source": [
    "# Введем буквально распределение вероятности\n",
    "weights = np.zeros_like(coords)\n",
    "weights[np.abs(coords)<1] = 1\n",
    "weights/= weights.sum()\n",
    "plt.figure()\n",
    "plt.plot(coords, weights, '.')"
   ]
  },
  {
   "cell_type": "code",
   "execution_count": 180,
   "metadata": {
    "colab": {
     "base_uri": "https://localhost:8080/",
     "height": 265
    },
    "id": "rJyAHIxcizJj",
    "outputId": "f78e97a4-38c7-4ed5-c2fa-123c53ede62e"
   },
   "outputs": [
    {
     "data": {
      "image/png": "[encoded data removed]",
      "text/plain": [
       "<Figure size 432x288 with 1 Axes>"
      ]
     },
     "metadata": {
      "needs_background": "light"
     },
     "output_type": "display_data"
    }
   ],
   "source": [
    "# Генерируем выборку\n",
    "X = np.random.choice(coords, size=100, p = weights)\n",
    "plt.figure()\n",
    "plt.hist(X, bins=np.linspace(coords.min() - dc/2, coords.max()+dc/2, len(coords)+1));"
   ]
  },
  {
   "cell_type": "code",
   "execution_count": 181,
   "metadata": {
    "colab": {
     "base_uri": "https://localhost:8080/",
     "height": 830
    },
    "id": "gUsRLpA_7iKJ",
    "outputId": "0cf973f5-e0c9-4e63-811e-e648290ea5cd"
   },
   "outputs": [
    {
     "name": "stdout",
     "output_type": "stream",
     "text": [
      "Шаг координат 0.20202020202020202\n"
     ]
    },
    {
     "data": {
      "text/plain": [
       "Text(0.5, 1.0, 'Распределение значений в выборке')"
      ]
     },
     "execution_count": 181,
     "metadata": {},
     "output_type": "execute_result"
    },
    {
     "data": {
      "image/png": "[encoded data removed]",
      "text/plain": [
       "<Figure size 432x288 with 1 Axes>"
      ]
     },
     "metadata": {
      "needs_background": "light"
     },
     "output_type": "display_data"
    },
    {
     "data": {
      "image/png": "[encoded data removed]",
      "text/plain": [
       "<Figure size 432x288 with 1 Axes>"
      ]
     },
     "metadata": {
      "needs_background": "light"
     },
     "output_type": "display_data"
    },
    {
     "data": {
      "image/png": "[encoded data removed]",
      "text/plain": [
       "<Figure size 432x288 with 1 Axes>"
      ]
     },
     "metadata": {
      "needs_background": "light"
     },
     "output_type": "display_data"
    }
   ],
   "source": [
    "coords = np.linspace(-10, 10, 100) # например, это потенциал от -10µВ до +10µВ\n",
    "dc = np.diff(coords).mean()\n",
    "plt.plot(coords, '.')\n",
    "print('Шаг координат', dc)\n",
    "\n",
    "# Введем гауссово распределение вероятности\n",
    "weights = np.exp(-(coords-0)**2/(2*1**2))\n",
    "weights/= weights.sum()\n",
    "plt.figure()\n",
    "plt.plot(coords, weights, '.')\n",
    "plt.title('Распределение вероятности')\n",
    "\n",
    "# Генерируем выборку\n",
    "X = np.random.choice(coords, size=10000, p = weights)\n",
    "plt.figure()\n",
    "plt.hist(X, bins=np.linspace(coords.min() - dc/2, coords.max()+dc/2, len(coords)+1));\n",
    "plt.title('Распределение значений в выборке')"
   ]
  },
  {
   "cell_type": "code",
   "execution_count": 182,
   "metadata": {
    "colab": {
     "base_uri": "https://localhost:8080/",
     "height": 299
    },
    "id": "_qOrh9bO8JJY",
    "outputId": "cae7ab6f-8101-4802-920e-8b3d5ae64103"
   },
   "outputs": [
    {
     "data": {
      "text/plain": [
       "Text(0.5, 1.0, 'Распределение значений в выборке с помощью scipy.stats.norm')"
      ]
     },
     "execution_count": 182,
     "metadata": {},
     "output_type": "execute_result"
    },
    {
     "data": {
      "image/png": "[encoded data removed]",
      "text/plain": [
       "<Figure size 432x288 with 1 Axes>"
      ]
     },
     "metadata": {
      "needs_background": "light"
     },
     "output_type": "display_data"
    }
   ],
   "source": [
    "from scipy.stats import norm, uniform\n",
    "X = norm.rvs(loc = 0, scale=1, size=10000)\n",
    "\n",
    "plt.figure()\n",
    "plt.hist(X, bins=np.linspace(coords.min() - dc/2, coords.max()+dc/2, len(coords)+1));\n",
    "plt.title('Распределение значений в выборке с помощью scipy.stats.norm')"
   ]
  },
  {
   "cell_type": "markdown",
   "metadata": {
    "id": "s4MR_wv4kufz"
   },
   "source": [
    "# !!!!!!!!!!!!!!!!! Домашнее задание 1\n",
    "1. Провести _руками_ генерацию пилообразных выборок и сравнить с `scipy.stats.triang`\n",
    "1. Провести _руками_ генерацию прямоугольных выборок и сравнить с `scipy.stats.uniform`\n",
    "1. Провести _руками_ генерацию логнормальных выборок и сравнить с `scipy.stats.lognorm`"
   ]
  },
  {
   "cell_type": "markdown",
   "metadata": {
    "id": "K5PxntWZWo82"
   },
   "source": [
    "# Почему мы (чаще всего) работаем в гипотезе нормального распределения?"
   ]
  },
  {
   "cell_type": "markdown",
   "metadata": {
    "id": "XPLZu7RJWwl_"
   },
   "source": [
    "Из-за центральной предельной теоремы\n",
    "Неформально: Распределение среднего выборок \"хороших распределений\" будет распределено нормально"
   ]
  },
  {
   "cell_type": "code",
   "execution_count": 183,
   "metadata": {
    "colab": {
     "base_uri": "https://localhost:8080/",
     "height": 283
    },
    "id": "-_jRSJPfZSLh",
    "outputId": "38eee517-1843-4ed2-f071-caa50341e92c"
   },
   "outputs": [
    {
     "name": "stdout",
     "output_type": "stream",
     "text": [
      "Шаг координат 0.20202020202020202\n"
     ]
    },
    {
     "data": {
      "image/png": "[encoded data removed]",
      "text/plain": [
       "<Figure size 432x288 with 1 Axes>"
      ]
     },
     "metadata": {
      "needs_background": "light"
     },
     "output_type": "display_data"
    }
   ],
   "source": [
    "coords = np.linspace(-10, 10, 100) # например, это потенциал от -10µВ до +10µВ\n",
    "dc = np.diff(coords).mean()\n",
    "plt.plot(coords, '.')\n",
    "print('Шаг координат', dc)\n"
   ]
  },
  {
   "cell_type": "code",
   "execution_count": 184,
   "metadata": {
    "colab": {
     "base_uri": "https://localhost:8080/",
     "height": 563
    },
    "id": "NpRH2gMO9x5E",
    "outputId": "1b88bbf4-86f9-4ba8-d3ab-79070d5917a2"
   },
   "outputs": [
    {
     "data": {
      "text/plain": [
       "Text(0.5, 1.0, 'Распределение значений в выборке')"
      ]
     },
     "execution_count": 184,
     "metadata": {},
     "output_type": "execute_result"
    },
    {
     "data": {
      "image/png": "[encoded data removed]",
      "text/plain": [
       "<Figure size 432x288 with 1 Axes>"
      ]
     },
     "metadata": {
      "needs_background": "light"
     },
     "output_type": "display_data"
    },
    {
     "data": {
      "image/png": "[encoded data removed]",
      "text/plain": [
       "<Figure size 432x288 with 1 Axes>"
      ]
     },
     "metadata": {
      "needs_background": "light"
     },
     "output_type": "display_data"
    }
   ],
   "source": [
    "# Введем гауссово распределение вероятности\n",
    "weights = np.exp(-(coords-0)**2/(2*1**2))\n",
    "weights/= weights.sum()\n",
    "plt.figure()\n",
    "plt.plot(coords, weights, '.')\n",
    "plt.title('Распределение вероятности')\n",
    "\n",
    "# Генерируем выборку\n",
    "X = np.random.choice(coords, size=10000, p = weights)\n",
    "plt.figure()\n",
    "plt.hist(X, bins=np.linspace(coords.min() - dc/2, coords.max()+dc/2, len(coords)+1));\n",
    "plt.title('Распределение значений в выборке')"
   ]
  },
  {
   "cell_type": "code",
   "execution_count": 186,
   "metadata": {
    "colab": {
     "base_uri": "https://localhost:8080/",
     "height": 563
    },
    "id": "D6j0Op86-Oae",
    "outputId": "cdece32c-d51a-47da-d5fa-3cbce4bc6f30"
   },
   "outputs": [
    {
     "data": {
      "text/plain": [
       "(-10.0, 10.0)"
      ]
     },
     "execution_count": 186,
     "metadata": {},
     "output_type": "execute_result"
    },
    {
     "data": {
      "image/png": "[encoded data removed]",
      "text/plain": [
       "<Figure size 432x288 with 1 Axes>"
      ]
     },
     "metadata": {
      "needs_background": "light"
     },
     "output_type": "display_data"
    },
    {
     "data": {
      "image/png": "[encoded data removed]",
      "text/plain": [
       "<Figure size 432x288 with 1 Axes>"
      ]
     },
     "metadata": {
      "needs_background": "light"
     },
     "output_type": "display_data"
    }
   ],
   "source": [
    "# Если взять две случайные величины\n",
    "X1 = np.random.choice(coords, size=10000, p = weights)\n",
    "X2 = np.random.choice(coords, size=10000, p = weights)\n",
    "\n",
    "X = X1+X2\n",
    "plt.figure()\n",
    "plt.hist(X, bins=100);\n",
    "plt.title('Распределение суммы двух случайных величин')\n",
    "plt.xlim(coords.min(), coords.max())\n",
    "\n",
    "X = (X1+X2)/2\n",
    "plt.figure()\n",
    "plt.hist(X, bins=100);\n",
    "plt.title('Распределение среднего двух случайных величин')\n",
    "plt.xlim(coords.min(), coords.max())"
   ]
  },
  {
   "cell_type": "code",
   "execution_count": 187,
   "metadata": {
    "colab": {
     "base_uri": "https://localhost:8080/",
     "height": 563
    },
    "id": "oKsRXhvX_XSm",
    "outputId": "cc69c827-83b0-4e5d-8963-03fb4893f87e"
   },
   "outputs": [
    {
     "data": {
      "text/plain": [
       "(-10.0, 10.0)"
      ]
     },
     "execution_count": 187,
     "metadata": {},
     "output_type": "execute_result"
    },
    {
     "data": {
      "image/png": "[encoded data removed]",
      "text/plain": [
       "<Figure size 432x288 with 1 Axes>"
      ]
     },
     "metadata": {
      "needs_background": "light"
     },
     "output_type": "display_data"
    },
    {
     "data": {
      "image/png": "[encoded data removed]",
      "text/plain": [
       "<Figure size 432x288 with 1 Axes>"
      ]
     },
     "metadata": {
      "needs_background": "light"
     },
     "output_type": "display_data"
    }
   ],
   "source": [
    "# Если взять три случайные величины\n",
    "X1 = np.random.choice(coords, size=10000, p = weights)\n",
    "X2 = np.random.choice(coords, size=10000, p = weights)\n",
    "X3 = np.random.choice(coords, size=10000, p = weights)\n",
    "\n",
    "X = X1+X2+X3\n",
    "plt.figure()\n",
    "plt.hist(X, bins=100);\n",
    "plt.title('Распределение суммы трех случайных величин')\n",
    "plt.xlim(coords.min(), coords.max())\n",
    "\n",
    "X = (X1+X2+X3)/3\n",
    "plt.figure()\n",
    "plt.hist(X, bins=100);\n",
    "plt.title('Распределение среднего трех случайных величин')\n",
    "plt.xlim(coords.min(), coords.max())"
   ]
  },
  {
   "cell_type": "code",
   "execution_count": 188,
   "metadata": {
    "colab": {
     "base_uri": "https://localhost:8080/"
    },
    "id": "GrmCwiUK96Yn",
    "outputId": "2b9f79b2-1555-477d-b3d4-dde413a61874"
   },
   "outputs": [
    {
     "data": {
      "text/plain": [
       "(100, 10000)"
      ]
     },
     "execution_count": 188,
     "metadata": {},
     "output_type": "execute_result"
    }
   ],
   "source": [
    "# Если взять 100 случайных величин\n",
    "XX = np.stack([np.random.choice(coords, size=10000, p = weights) for i in range(100)], axis=0)\n",
    "XX.shape"
   ]
  },
  {
   "cell_type": "code",
   "execution_count": 189,
   "metadata": {
    "colab": {
     "base_uri": "https://localhost:8080/",
     "height": 563
    },
    "id": "0n-pnIlq_xWg",
    "outputId": "2473bca2-be73-44fe-8d8e-8862b8db8360"
   },
   "outputs": [
    {
     "data": {
      "text/plain": [
       "Text(0.5, 1.0, 'Распределение среднего 100 случайных величин')"
      ]
     },
     "execution_count": 189,
     "metadata": {},
     "output_type": "execute_result"
    },
    {
     "data": {
      "image/png": "[encoded data removed]",
      "text/plain": [
       "<Figure size 432x288 with 1 Axes>"
      ]
     },
     "metadata": {
      "needs_background": "light"
     },
     "output_type": "display_data"
    },
    {
     "data": {
      "image/png": "[encoded data removed]",
      "text/plain": [
       "<Figure size 432x288 with 1 Axes>"
      ]
     },
     "metadata": {
      "needs_background": "light"
     },
     "output_type": "display_data"
    }
   ],
   "source": [
    "X = XX.sum(0)\n",
    "plt.figure()\n",
    "plt.hist(X, bins=100);\n",
    "plt.title('Распределение суммы 100 случайных величин')\n",
    "# plt.xlim(coords.min(), coords.max())\n",
    "\n",
    "X = XX.mean(0)\n",
    "plt.figure()\n",
    "plt.hist(X, bins=100);\n",
    "plt.title('Распределение среднего 100 случайных величин')\n",
    "# plt.xlim(coords.min(), coords.max())"
   ]
  },
  {
   "cell_type": "code",
   "execution_count": 190,
   "metadata": {
    "colab": {
     "base_uri": "https://localhost:8080/"
    },
    "id": "DyC9nk2eAHX1",
    "outputId": "37ac380d-1ba5-45ef-db22-cd42a250b9f4"
   },
   "outputs": [
    {
     "name": "stdout",
     "output_type": "stream",
     "text": [
      "(1000, 100)\n"
     ]
    }
   ],
   "source": [
    "# Берем 1000 различных распределений\n",
    "N_sets = 1000\n",
    "\n",
    "mus = np.random.choice(np.linspace(-1,1,20), N_sets) # выбираем средние\n",
    "sigmas = np.random.choice(np.linspace(0.1, 2, 20), N_sets) # выбираем разбросы\n",
    "\n",
    "Weights = np.stack([np.exp(-(coords-mu)**2/(2*(sigma)**2)) for mu, sigma in zip(mus, sigmas)], axis=0)\n",
    "Weights /= Weights.sum(axis=1, keepdims=True)\n",
    "print(Weights.shape)\n"
   ]
  },
  {
   "cell_type": "code",
   "execution_count": 191,
   "metadata": {
    "colab": {
     "base_uri": "https://localhost:8080/",
     "height": 485
    },
    "id": "VV5nChewDwCo",
    "outputId": "bf3032ba-4f71-45b5-9710-d0a9d288ef73"
   },
   "outputs": [
    {
     "name": "stderr",
     "output_type": "stream",
     "text": [
      "<ipython-input-191-cee943a34716>:1: DeprecationWarning: This function is deprecated. Please call randint(0, 1000 + 1) instead\n",
      "  indeces = np.random.random_integers(0, len(Weights), size=10)\n"
     ]
    },
    {
     "data": {
      "text/plain": [
       "[<matplotlib.lines.Line2D at 0x7f90f0aaee20>,\n",
       " <matplotlib.lines.Line2D at 0x7f9117a5e8e0>,\n",
       " <matplotlib.lines.Line2D at 0x7f9117a5e5e0>,\n",
       " <matplotlib.lines.Line2D at 0x7f90f0aae910>,\n",
       " <matplotlib.lines.Line2D at 0x7f90f0aae040>,\n",
       " <matplotlib.lines.Line2D at 0x7f90f0aae070>,\n",
       " <matplotlib.lines.Line2D at 0x7f90f0aae550>,\n",
       " <matplotlib.lines.Line2D at 0x7f9117b8d100>,\n",
       " <matplotlib.lines.Line2D at 0x7f9117b8de20>,\n",
       " <matplotlib.lines.Line2D at 0x7f9117b8d160>]"
      ]
     },
     "execution_count": 191,
     "metadata": {},
     "output_type": "execute_result"
    },
    {
     "data": {
      "image/png": "[encoded data removed]",
      "text/plain": [
       "<Figure size 432x288 with 1 Axes>"
      ]
     },
     "metadata": {
      "needs_background": "light"
     },
     "output_type": "display_data"
    }
   ],
   "source": [
    "indeces = np.random.random_integers(0, len(Weights), size=10)\n",
    "\n",
    "plt.figure()\n",
    "plt.plot(coords, Weights[indeces, :].T)"
   ]
  },
  {
   "cell_type": "code",
   "execution_count": 192,
   "metadata": {
    "colab": {
     "base_uri": "https://localhost:8080/"
    },
    "id": "e7nWb0UnBMyK",
    "outputId": "04c043a0-8b79-49ee-b326-d1f36beaf206"
   },
   "outputs": [
    {
     "data": {
      "text/plain": [
       "(1000, 10000)"
      ]
     },
     "execution_count": 192,
     "metadata": {},
     "output_type": "execute_result"
    }
   ],
   "source": [
    "# Генерируем выборки\n",
    "sample_set_size = 10000\n",
    "\n",
    "XX = np.stack([np.random.choice(coords, size=sample_set_size, p = w) for w in Weights])\n",
    "XX.shape"
   ]
  },
  {
   "cell_type": "code",
   "execution_count": 193,
   "metadata": {
    "colab": {
     "base_uri": "https://localhost:8080/",
     "height": 299
    },
    "id": "p0sygtHOCQXC",
    "outputId": "13165d81-757c-464f-af3b-effe29d956ee"
   },
   "outputs": [
    {
     "data": {
      "text/plain": [
       "Text(0.5, 1.0, 'Распределение значений в выборках')"
      ]
     },
     "execution_count": 193,
     "metadata": {},
     "output_type": "execute_result"
    },
    {
     "data": {
      "image/png": "[encoded data removed]",
      "text/plain": [
       "<Figure size 432x288 with 1 Axes>"
      ]
     },
     "metadata": {
      "needs_background": "light"
     },
     "output_type": "display_data"
    }
   ],
   "source": [
    "plt.figure()\n",
    "for x in XX[indeces, :]:\n",
    "    plt.hist(x, bins=np.linspace(coords.min() - dc/2, coords.max()+dc/2, len(coords)+1), histtype='step');\n",
    "plt.title('Распределение значений в выборках')"
   ]
  },
  {
   "cell_type": "code",
   "execution_count": 194,
   "metadata": {
    "colab": {
     "base_uri": "https://localhost:8080/",
     "height": 563
    },
    "id": "EonGlZDzYI9D",
    "outputId": "9c4499a7-6e5c-46ff-bedb-4c645fa2baab"
   },
   "outputs": [
    {
     "data": {
      "text/plain": [
       "Text(0.5, 1.0, 'Распределение сриеднего 100 случайных величин')"
      ]
     },
     "execution_count": 194,
     "metadata": {},
     "output_type": "execute_result"
    },
    {
     "data": {
      "image/png": "[encoded data removed]",
      "text/plain": [
       "<Figure size 432x288 with 1 Axes>"
      ]
     },
     "metadata": {
      "needs_background": "light"
     },
     "output_type": "display_data"
    },
    {
     "data": {
      "image/png": "[encoded data removed]",
      "text/plain": [
       "<Figure size 432x288 with 1 Axes>"
      ]
     },
     "metadata": {
      "needs_background": "light"
     },
     "output_type": "display_data"
    }
   ],
   "source": [
    "X = XX.sum(0)\n",
    "plt.figure()\n",
    "plt.hist(X, bins=100);\n",
    "plt.title('Распределение суммы 100 случайных величин')\n",
    "# plt.xlim(coords.min(), coords.max())\n",
    "\n",
    "X = XX.mean(0)\n",
    "plt.figure()\n",
    "plt.hist(X, bins=100);\n",
    "plt.title('Распределение сриеднего 100 случайных величин')\n",
    "# plt.xlim(coords.min(), coords.max())"
   ]
  },
  {
   "cell_type": "code",
   "execution_count": 195,
   "metadata": {
    "colab": {
     "base_uri": "https://localhost:8080/",
     "height": 299
    },
    "id": "_uuQoxXDEIp8",
    "outputId": "8cf39c4f-cd7c-4a34-8e71-36a9fd98eb63"
   },
   "outputs": [
    {
     "data": {
      "text/plain": [
       "Text(0.5, 1.0, 'Случайные распределения')"
      ]
     },
     "execution_count": 195,
     "metadata": {},
     "output_type": "execute_result"
    },
    {
     "data": {
      "image/png": "[encoded data removed]",
      "text/plain": [
       "<Figure size 432x288 with 1 Axes>"
      ]
     },
     "metadata": {
      "needs_background": "light"
     },
     "output_type": "display_data"
    }
   ],
   "source": [
    "# Берем различные типы распределений\n",
    "\n",
    "from scipy.stats import uniform, triang\n",
    "\n",
    "X_uniforms = np.stack([uniform.rvs(loc=np.random.choice(np.linspace(-5, 0, 20)), \n",
    "                                   scale=np.random.choice(np.linspace(1, 5, 20)), \n",
    "                                   size=sample_set_size) for i in range(100)], axis=0)\n",
    "\n",
    "X_triang = np.stack([triang.rvs(np.random.choice(np.linspace(0, 1, 20)), \n",
    "                                loc=np.random.choice(np.linspace(-5, 0, 20)), \n",
    "                                scale=np.random.choice(np.linspace(0, 5, 20)), size=sample_set_size) for i in range(100)], axis=0)\n",
    "\n",
    "plt.hist(X_uniforms[0], bins=100, histtype='step');\n",
    "plt.hist(X_triang[0], bins=100, histtype='step');\n",
    "# plt.xlim(-10, 10)\n",
    "plt.title('Случайные распределения')"
   ]
  },
  {
   "cell_type": "code",
   "execution_count": 196,
   "metadata": {
    "colab": {
     "base_uri": "https://localhost:8080/",
     "height": 563
    },
    "id": "iuROCWJtHD2g",
    "outputId": "a182334b-9c36-4f63-baea-e1ed0644ddfb"
   },
   "outputs": [
    {
     "data": {
      "text/plain": [
       "Text(0.5, 1.0, 'Распределение сриеднего случайных величин')"
      ]
     },
     "execution_count": 196,
     "metadata": {},
     "output_type": "execute_result"
    },
    {
     "data": {
      "image/png": "[encoded data removed]",
      "text/plain": [
       "<Figure size 432x288 with 1 Axes>"
      ]
     },
     "metadata": {
      "needs_background": "light"
     },
     "output_type": "display_data"
    },
    {
     "data": {
      "image/png": "[encoded data removed]",
      "text/plain": [
       "<Figure size 432x288 with 1 Axes>"
      ]
     },
     "metadata": {
      "needs_background": "light"
     },
     "output_type": "display_data"
    }
   ],
   "source": [
    "XX = np.concatenate([X_uniforms, X_triang], axis=0)\n",
    "\n",
    "X = XX.sum(0)\n",
    "plt.figure()\n",
    "plt.hist(X, bins=100);\n",
    "plt.title('Распределение суммы случайных величин')\n",
    "# plt.xlim(coords.min(), coords.max())\n",
    "\n",
    "X = XX.mean(0)\n",
    "plt.figure()\n",
    "plt.hist(X, bins=100);\n",
    "plt.title('Распределение сриеднего случайных величин')\n",
    "# plt.xlim(coords.min(), coords.max())"
   ]
  },
  {
   "cell_type": "markdown",
   "metadata": {
    "id": "GN1NptoYlxsR"
   },
   "source": [
    "# !!!!!!!!!!! ДЗ 2\n",
    "\n",
    "1. Проверить выполнимость ЦПТ при выборе логнормальных выборок `scipy.stats.lognorm`"
   ]
  },
  {
   "cell_type": "markdown",
   "metadata": {
    "id": "5mglO6KeMu_s"
   },
   "source": [
    "# Зачем нужны большие выборки при анализе? "
   ]
  },
  {
   "cell_type": "markdown",
   "metadata": {
    "id": "ASeW8tHkP6aW"
   },
   "source": [
    "## Закон больших чисел"
   ]
  },
  {
   "cell_type": "code",
   "execution_count": 213,
   "metadata": {
    "colab": {
     "base_uri": "https://localhost:8080/"
    },
    "id": "LHrofj1LQMKn",
    "outputId": "d2f8fbcf-d8fb-4b2a-c2bd-d6d1b5a6103e"
   },
   "outputs": [
    {
     "data": {
      "text/plain": [
       "0.005641201158468796"
      ]
     },
     "execution_count": 213,
     "metadata": {},
     "output_type": "execute_result"
    }
   ],
   "source": [
    "# Допустим, есть одно распределение, и надо составить среднее от выборки длины N, запускаем несколько раз и видимо, что...\n",
    "N = 10000\n",
    "X = norm.rvs(loc=0, scale=1, size=N)\n",
    "X.mean()"
   ]
  },
  {
   "cell_type": "code",
   "execution_count": 214,
   "metadata": {
    "colab": {
     "base_uri": "https://localhost:8080/",
     "height": 265
    },
    "id": "JelrAHNJQYM_",
    "outputId": "4e2e3557-1582-4872-a2aa-81a1188fd428"
   },
   "outputs": [
    {
     "data": {
      "image/png": "[encoded data removed]",
      "text/plain": [
       "<Figure size 432x288 with 1 Axes>"
      ]
     },
     "metadata": {
      "needs_background": "light"
     },
     "output_type": "display_data"
    }
   ],
   "source": [
    "# А если посмотреть в зависимости от размера N?\n",
    "Xavs = [norm.rvs(loc=0, scale=1, size=N).mean() \n",
    "        for N in range(1, 1000)]\n",
    "plt.figure()\n",
    "plt.plot(np.arange(1,1000), Xavs)\n",
    "plt.grid(True)\n",
    "# plt.xscale('log')"
   ]
  },
  {
   "cell_type": "markdown",
   "metadata": {
    "id": "P0rCr0LMQCkM"
   },
   "source": [
    "## Стандартная ошибка"
   ]
  },
  {
   "cell_type": "code",
   "execution_count": 219,
   "metadata": {
    "colab": {
     "base_uri": "https://localhost:8080/",
     "height": 318
    },
    "id": "DWjGBU2YM9G5",
    "outputId": "4d8f3679-cfba-4737-ce68-f23f8805cc82"
   },
   "outputs": [
    {
     "name": "stdout",
     "output_type": "stream",
     "text": [
      "(4, 10000)\n"
     ]
    },
    {
     "data": {
      "text/plain": [
       "Text(0.5, 1.0, 'Распределение одного измерения')"
      ]
     },
     "execution_count": 219,
     "metadata": {},
     "output_type": "execute_result"
    },
    {
     "data": {
      "image/png": "[encoded data removed]",
      "text/plain": [
       "<Figure size 432x288 with 1 Axes>"
      ]
     },
     "metadata": {
      "needs_background": "light"
     },
     "output_type": "display_data"
    }
   ],
   "source": [
    "# Если у нас несколько распределений, как будет распределено их среднее?\n",
    "# Dim XX = [Distributions, Samples]\n",
    "\n",
    "N_sample_sets = 4\n",
    "\n",
    "from scipy.stats import norm\n",
    "\n",
    "XX = np.stack([norm.rvs(loc=0, scale=1, size=10000) \n",
    "               for i in range(N_sample_sets)], axis=0)\n",
    "print(XX.shape)\n",
    "\n",
    "plt.figure()\n",
    "plt.hist(XX[0], bins=100);\n",
    "plt.title('Распределение одного измерения')"
   ]
  },
  {
   "cell_type": "code",
   "execution_count": 220,
   "metadata": {
    "colab": {
     "base_uri": "https://localhost:8080/",
     "height": 299
    },
    "id": "F3iBMU6VN-7d",
    "outputId": "3391c730-e35f-4767-b85b-f887aaa968d9"
   },
   "outputs": [
    {
     "data": {
      "text/plain": [
       "Text(0.5, 1.0, 'Распределение среднего 4 измерений')"
      ]
     },
     "execution_count": 220,
     "metadata": {},
     "output_type": "execute_result"
    },
    {
     "data": {
      "image/png": "[encoded data removed]",
      "text/plain": [
       "<Figure size 432x288 with 1 Axes>"
      ]
     },
     "metadata": {
      "needs_background": "light"
     },
     "output_type": "display_data"
    }
   ],
   "source": [
    "# А распределение многих средних?\n",
    "X = XX.mean(0)\n",
    "plt.figure()\n",
    "plt.hist(XX[0], bins=100, histtype='step');\n",
    "plt.hist(X, bins=100);\n",
    "plt.title(f'Распределение среднего {N_sample_sets} измерений')"
   ]
  },
  {
   "cell_type": "markdown",
   "metadata": {
    "id": "z4qz9n8yPALM"
   },
   "source": [
    "**Стандартная ошибка**\n",
    "$\\sigma_{av} = \\frac{\\sigma_{pop}}{\\sqrt{n}}$"
   ]
  },
  {
   "cell_type": "markdown",
   "metadata": {
    "id": "5fueol8WnCr_"
   },
   "source": [
    "# !!!!!!!!!!!! ДЗ 3\n",
    "1. Провести _руками_ вычисление стандартной ошибки для каждой численной колонки ирисов для каждого класса и сравнить ее со scipy.stats.sem\n",
    "\n",
    "Сниппет загрузки ирисов внизу"
   ]
  },
  {
   "cell_type": "code",
   "execution_count": 221,
   "metadata": {
    "id": "rhvG1Au9m0IB"
   },
   "outputs": [],
   "source": [
    "import pandas as pd\n",
    "csv_url = 'https://archive.ics.uci.edu/ml/machine-learning-databases/iris/iris.data'\n",
    "# using the attribute information as the column names\n",
    "col_names = ['Sepal_Length','Sepal_Width','Petal_Length','Petal_Width','Class']\n",
    "iris =  pd.read_csv(csv_url, names = col_names)"
   ]
  },
  {
   "cell_type": "code",
   "execution_count": 222,
   "metadata": {
    "colab": {
     "base_uri": "https://localhost:8080/",
     "height": 424
    },
    "id": "FJlS7feznOUS",
    "outputId": "c234b50e-973e-4ec8-b478-355f102d34de"
   },
   "outputs": [
    {
     "data": {
      "text/html": [
       "<div>\n",
       "<style scoped>\n",
       "    .dataframe tbody tr th:only-of-type {\n",
       "        vertical-align: middle;\n",
       "    }\n",
       "\n",
       "    .dataframe tbody tr th {\n",
       "        vertical-align: top;\n",
       "    }\n",
       "\n",
       "    .dataframe thead th {\n",
       "        text-align: right;\n",
       "    }\n",
       "</style>\n",
       "<table border=\"1\" class=\"dataframe\">\n",
       "  <thead>\n",
       "    <tr style=\"text-align: right;\">\n",
       "      <th></th>\n",
       "      <th>Sepal_Length</th>\n",
       "      <th>Sepal_Width</th>\n",
       "      <th>Petal_Length</th>\n",
       "      <th>Petal_Width</th>\n",
       "      <th>Class</th>\n",
       "    </tr>\n",
       "  </thead>\n",
       "  <tbody>\n",
       "    <tr>\n",
       "      <th>0</th>\n",
       "      <td>5.1</td>\n",
       "      <td>3.5</td>\n",
       "      <td>1.4</td>\n",
       "      <td>0.2</td>\n",
       "      <td>Iris-setosa</td>\n",
       "    </tr>\n",
       "    <tr>\n",
       "      <th>1</th>\n",
       "      <td>4.9</td>\n",
       "      <td>3.0</td>\n",
       "      <td>1.4</td>\n",
       "      <td>0.2</td>\n",
       "      <td>Iris-setosa</td>\n",
       "    </tr>\n",
       "    <tr>\n",
       "      <th>2</th>\n",
       "      <td>4.7</td>\n",
       "      <td>3.2</td>\n",
       "      <td>1.3</td>\n",
       "      <td>0.2</td>\n",
       "      <td>Iris-setosa</td>\n",
       "    </tr>\n",
       "    <tr>\n",
       "      <th>3</th>\n",
       "      <td>4.6</td>\n",
       "      <td>3.1</td>\n",
       "      <td>1.5</td>\n",
       "      <td>0.2</td>\n",
       "      <td>Iris-setosa</td>\n",
       "    </tr>\n",
       "    <tr>\n",
       "      <th>4</th>\n",
       "      <td>5.0</td>\n",
       "      <td>3.6</td>\n",
       "      <td>1.4</td>\n",
       "      <td>0.2</td>\n",
       "      <td>Iris-setosa</td>\n",
       "    </tr>\n",
       "  </tbody>\n",
       "</table>\n",
       "</div>"
      ],
      "text/plain": [
       "   Sepal_Length  Sepal_Width  Petal_Length  Petal_Width        Class\n",
       "0           5.1          3.5           1.4          0.2  Iris-setosa\n",
       "1           4.9          3.0           1.4          0.2  Iris-setosa\n",
       "2           4.7          3.2           1.3          0.2  Iris-setosa\n",
       "3           4.6          3.1           1.5          0.2  Iris-setosa\n",
       "4           5.0          3.6           1.4          0.2  Iris-setosa"
      ]
     },
     "execution_count": 222,
     "metadata": {},
     "output_type": "execute_result"
    }
   ],
   "source": [
    "iris.head()"
   ]
  },
  {
   "cell_type": "code",
   "execution_count": 223,
   "metadata": {},
   "outputs": [
    {
     "data": {
      "text/html": [
       "<div>\n",
       "<style scoped>\n",
       "    .dataframe tbody tr th:only-of-type {\n",
       "        vertical-align: middle;\n",
       "    }\n",
       "\n",
       "    .dataframe tbody tr th {\n",
       "        vertical-align: top;\n",
       "    }\n",
       "\n",
       "    .dataframe thead th {\n",
       "        text-align: right;\n",
       "    }\n",
       "</style>\n",
       "<table border=\"1\" class=\"dataframe\">\n",
       "  <thead>\n",
       "    <tr style=\"text-align: right;\">\n",
       "      <th></th>\n",
       "      <th>Sepal_Length</th>\n",
       "      <th>Sepal_Width</th>\n",
       "      <th>Petal_Length</th>\n",
       "      <th>Petal_Width</th>\n",
       "    </tr>\n",
       "    <tr>\n",
       "      <th>Class</th>\n",
       "      <th></th>\n",
       "      <th></th>\n",
       "      <th></th>\n",
       "      <th></th>\n",
       "    </tr>\n",
       "  </thead>\n",
       "  <tbody>\n",
       "    <tr>\n",
       "      <th>Iris-setosa</th>\n",
       "      <td>0.049850</td>\n",
       "      <td>0.053885</td>\n",
       "      <td>0.024538</td>\n",
       "      <td>0.015162</td>\n",
       "    </tr>\n",
       "    <tr>\n",
       "      <th>Iris-versicolor</th>\n",
       "      <td>0.072998</td>\n",
       "      <td>0.044378</td>\n",
       "      <td>0.066455</td>\n",
       "      <td>0.027966</td>\n",
       "    </tr>\n",
       "    <tr>\n",
       "      <th>Iris-virginica</th>\n",
       "      <td>0.089927</td>\n",
       "      <td>0.045608</td>\n",
       "      <td>0.078050</td>\n",
       "      <td>0.038841</td>\n",
       "    </tr>\n",
       "  </tbody>\n",
       "</table>\n",
       "</div>"
      ],
      "text/plain": [
       "                 Sepal_Length  Sepal_Width  Petal_Length  Petal_Width\n",
       "Class                                                                \n",
       "Iris-setosa          0.049850     0.053885      0.024538     0.015162\n",
       "Iris-versicolor      0.072998     0.044378      0.066455     0.027966\n",
       "Iris-virginica       0.089927     0.045608      0.078050     0.038841"
      ]
     },
     "execution_count": 223,
     "metadata": {},
     "output_type": "execute_result"
    }
   ],
   "source": [
    "# Должно получиться\n",
    "iris.groupby('Class').sem()"
   ]
  },
  {
   "cell_type": "markdown",
   "metadata": {
    "id": "PPvjHfP0SmwZ"
   },
   "source": [
    "## Статистические Интервалы \n",
    "\n",
    "Пока еще **не** _доверительные_ интервалы (confidence intervals), но скоро к ним перейдем"
   ]
  },
  {
   "cell_type": "markdown",
   "metadata": {
    "id": "7UHNMAMlWRKM"
   },
   "source": [
    "### Вопрос — если выбрать величину, то с какой вероятностью она будет лежать в диапазонах [-1,1], [-2,2], [-3,3]?\n"
   ]
  },
  {
   "cell_type": "code",
   "execution_count": 224,
   "metadata": {
    "colab": {
     "base_uri": "https://localhost:8080/",
     "height": 265
    },
    "id": "Ygwzrq_PWhbq",
    "outputId": "e210516e-8762-473c-f52d-8bc850dde1ee"
   },
   "outputs": [
    {
     "data": {
      "image/png": "[encoded data removed]",
      "text/plain": [
       "<Figure size 432x288 with 1 Axes>"
      ]
     },
     "metadata": {
      "needs_background": "light"
     },
     "output_type": "display_data"
    }
   ],
   "source": [
    "X = norm.rvs(loc=0, scale=1, size=10000)\n",
    "plt.figure()\n",
    "plt.hist(X, bins=100);"
   ]
  },
  {
   "cell_type": "code",
   "execution_count": 225,
   "metadata": {
    "colab": {
     "base_uri": "https://localhost:8080/",
     "height": 283
    },
    "id": "kQCnqcL9ZO76",
    "outputId": "16496738-3ea7-4289-d1f3-3b78964926f2"
   },
   "outputs": [
    {
     "data": {
      "text/plain": [
       "[<matplotlib.lines.Line2D at 0x7f90e956aa60>]"
      ]
     },
     "execution_count": 225,
     "metadata": {},
     "output_type": "execute_result"
    },
    {
     "data": {
      "image/png": "[encoded data removed]",
      "text/plain": [
       "<Figure size 432x288 with 1 Axes>"
      ]
     },
     "metadata": {
      "needs_background": "light"
     },
     "output_type": "display_data"
    }
   ],
   "source": [
    "# кумулятивная характеристика - сколько элементов выборки находилось меньше значения m\n",
    "M = np.linspace(-10, 10, 100)\n",
    "cumulative_sum = [np.sum(X<m) for m in M]\n",
    "plt.plot(M, cumulative_sum)"
   ]
  },
  {
   "cell_type": "code",
   "execution_count": 226,
   "metadata": {
    "colab": {
     "base_uri": "https://localhost:8080/",
     "height": 283
    },
    "id": "8J6PLvixa1ul",
    "outputId": "a52b6e69-a69b-476c-9ff7-953643e6f81f"
   },
   "outputs": [
    {
     "data": {
      "text/plain": [
       "[<matplotlib.lines.Line2D at 0x7f90e94e2d30>]"
      ]
     },
     "execution_count": 226,
     "metadata": {},
     "output_type": "execute_result"
    },
    {
     "data": {
      "image/png": "[encoded data removed]",
      "text/plain": [
       "<Figure size 432x288 with 1 Axes>"
      ]
     },
     "metadata": {
      "needs_background": "light"
     },
     "output_type": "display_data"
    }
   ],
   "source": [
    "# кумулятивная плотность\n",
    "M = np.linspace(-10, 10, 101)\n",
    "cumulative_density = [np.sum(X<m)/len(X) for m in M]\n",
    "plt.plot(M, cumulative_density)"
   ]
  },
  {
   "cell_type": "markdown",
   "metadata": {
    "id": "a_hAr_NvXrta"
   },
   "source": [
    "Полная вероятность найти элемент в диапазоне от $m_1$ до $m_2$ - разность значений Cumulative Density Functions (CDF)\n",
    "\n",
    "$P(m_1<x<m_2) = CDF(m_2) - CDF(m_1)$\n",
    "\n",
    "Распределение плотности вероятности (PDF, Probability Density Function):\n",
    "\n",
    "$PDF(m) = \\frac{dCDF(m)}{dm}$"
   ]
  },
  {
   "cell_type": "code",
   "execution_count": 228,
   "metadata": {
    "colab": {
     "base_uri": "https://localhost:8080/"
    },
    "id": "8XZId-RNtsw5",
    "outputId": "195433ee-8f26-42a0-b9e5-3de88140f0f0"
   },
   "outputs": [
    {
     "data": {
      "text/plain": [
       "([(0, False),\n",
       "  (1, False),\n",
       "  (2, False),\n",
       "  (3, False),\n",
       "  (4, False),\n",
       "  (5, False),\n",
       "  (6, False),\n",
       "  (7, False),\n",
       "  (8, False),\n",
       "  (9, False),\n",
       "  (10, False),\n",
       "  (11, False),\n",
       "  (12, False),\n",
       "  (13, False),\n",
       "  (14, False),\n",
       "  (15, False),\n",
       "  (16, False),\n",
       "  (17, False),\n",
       "  (18, False),\n",
       "  (19, False),\n",
       "  (20, False),\n",
       "  (21, False),\n",
       "  (22, False),\n",
       "  (23, False),\n",
       "  (24, False),\n",
       "  (25, False),\n",
       "  (26, False),\n",
       "  (27, False),\n",
       "  (28, False),\n",
       "  (29, False),\n",
       "  (30, False),\n",
       "  (31, False),\n",
       "  (32, False),\n",
       "  (33, False),\n",
       "  (34, False),\n",
       "  (35, False),\n",
       "  (36, False),\n",
       "  (37, False),\n",
       "  (38, False),\n",
       "  (39, False),\n",
       "  (40, False),\n",
       "  (41, False),\n",
       "  (42, False),\n",
       "  (43, False),\n",
       "  (44, False),\n",
       "  (45, False),\n",
       "  (46, False),\n",
       "  (47, False),\n",
       "  (48, False),\n",
       "  (49, False),\n",
       "  (50, False),\n",
       "  (51, False),\n",
       "  (52, False),\n",
       "  (53, False),\n",
       "  (54, False),\n",
       "  (55, False),\n",
       "  (56, False),\n",
       "  (57, False),\n",
       "  (58, False),\n",
       "  (59, False),\n",
       "  (60, True),\n",
       "  (61, False),\n",
       "  (62, False),\n",
       "  (63, False),\n",
       "  (64, False),\n",
       "  (65, False),\n",
       "  (66, False),\n",
       "  (67, False),\n",
       "  (68, False),\n",
       "  (69, False),\n",
       "  (70, False),\n",
       "  (71, False),\n",
       "  (72, False),\n",
       "  (73, False),\n",
       "  (74, False),\n",
       "  (75, False),\n",
       "  (76, False),\n",
       "  (77, False),\n",
       "  (78, False),\n",
       "  (79, False),\n",
       "  (80, False),\n",
       "  (81, False),\n",
       "  (82, False),\n",
       "  (83, False),\n",
       "  (84, False),\n",
       "  (85, False),\n",
       "  (86, False),\n",
       "  (87, False),\n",
       "  (88, False),\n",
       "  (89, False),\n",
       "  (90, False),\n",
       "  (91, False),\n",
       "  (92, False),\n",
       "  (93, False),\n",
       "  (94, False),\n",
       "  (95, False),\n",
       "  (96, False),\n",
       "  (97, False),\n",
       "  (98, False),\n",
       "  (99, False),\n",
       "  (100, False)],\n",
       " (array([60]),))"
      ]
     },
     "execution_count": 228,
     "metadata": {},
     "output_type": "execute_result"
    }
   ],
   "source": [
    "# будем работать с интерфейсом поиска индекса по маске\n",
    "\n",
    "list(enumerate(M==2)), np.where(M==2)"
   ]
  },
  {
   "cell_type": "code",
   "execution_count": 234,
   "metadata": {
    "colab": {
     "base_uri": "https://localhost:8080/"
    },
    "id": "VnRJDRfKec2i",
    "outputId": "65ae2bef-ca67-4106-8274-e34f4ea7f0b1"
   },
   "outputs": [
    {
     "data": {
      "text/plain": [
       "45"
      ]
     },
     "execution_count": 234,
     "metadata": {},
     "output_type": "execute_result"
    }
   ],
   "source": [
    "# найдем индексы границ\n",
    "np.where(M==-1)[0][0]"
   ]
  },
  {
   "cell_type": "code",
   "execution_count": 236,
   "metadata": {
    "colab": {
     "base_uri": "https://localhost:8080/"
    },
    "id": "8bBVCoh6SsF7",
    "outputId": "30881e1c-8205-402e-a55c-8bca7b1fff8c"
   },
   "outputs": [
    {
     "data": {
      "text/plain": [
       "0.6791"
      ]
     },
     "execution_count": 236,
     "metadata": {},
     "output_type": "execute_result"
    }
   ],
   "source": [
    "m1_index = np.where(M==-1)[0][0]\n",
    "m2_index = np.where(M==1)[0][0]\n",
    "cumulative_density[m2_index] - cumulative_density[m1_index]"
   ]
  },
  {
   "cell_type": "code",
   "execution_count": 237,
   "metadata": {
    "colab": {
     "base_uri": "https://localhost:8080/"
    },
    "id": "qLKyD-PTT-my",
    "outputId": "6b4e6a51-a455-4b31-9ea0-0fdc850274d0"
   },
   "outputs": [
    {
     "data": {
      "text/plain": [
       "0.9546"
      ]
     },
     "execution_count": 237,
     "metadata": {},
     "output_type": "execute_result"
    }
   ],
   "source": [
    "m1_index = np.where(M==-2)[0][0]\n",
    "m2_index = np.where(M==2)[0][0]\n",
    "cumulative_density[m2_index] - cumulative_density[m1_index]"
   ]
  },
  {
   "cell_type": "code",
   "execution_count": 238,
   "metadata": {
    "colab": {
     "base_uri": "https://localhost:8080/"
    },
    "id": "xDX4EOhve3r-",
    "outputId": "522979c4-2bfc-432d-fce5-f7b0d70f7fdc"
   },
   "outputs": [
    {
     "data": {
      "text/plain": [
       "0.9968"
      ]
     },
     "execution_count": 238,
     "metadata": {},
     "output_type": "execute_result"
    }
   ],
   "source": [
    "m1_index = np.where(M==-3)[0][0]\n",
    "m2_index = np.where(M==3)[0][0]\n",
    "cumulative_density[m2_index] - cumulative_density[m1_index]"
   ]
  },
  {
   "cell_type": "markdown",
   "metadata": {
    "id": "i6YYqT7KfEe-"
   },
   "source": [
    "### Обратный вопрос — какой диапазон должен быть, чтобы случайно выбранная из выборки величина оказалась в нем с полной вероятностью P?\n"
   ]
  },
  {
   "cell_type": "code",
   "execution_count": 239,
   "metadata": {
    "colab": {
     "base_uri": "https://localhost:8080/",
     "height": 265
    },
    "id": "M6tG5Qs0fbny",
    "outputId": "99349cbd-103a-419f-da79-bba2f0f2f0e1"
   },
   "outputs": [
    {
     "data": {
      "text/plain": [
       "Text(0, 0.5, 'Покрываемая вероятность')"
      ]
     },
     "execution_count": 239,
     "metadata": {},
     "output_type": "execute_result"
    },
    {
     "data": {
      "image/png": "[encoded data removed]",
      "text/plain": [
       "<Figure size 432x288 with 1 Axes>"
      ]
     },
     "metadata": {
      "needs_background": "light"
     },
     "output_type": "display_data"
    }
   ],
   "source": [
    "N = np.linspace(0.5, 5, 20)\n",
    "P = [cumulative_density[np.abs(M-m).argmin()] - cumulative_density[np.abs(M+m).argmin()] \n",
    "     for m in N]\n",
    "\n",
    "plt.figure()\n",
    "plt.plot(N, P)\n",
    "\n",
    "plt.xlabel('Границы интервала')\n",
    "plt.ylabel('Покрываемая вероятность')\n",
    " "
   ]
  },
  {
   "cell_type": "code",
   "execution_count": 240,
   "metadata": {
    "colab": {
     "base_uri": "https://localhost:8080/",
     "height": 265
    },
    "id": "M6tG5Qs0fbny",
    "outputId": "99349cbd-103a-419f-da79-bba2f0f2f0e1"
   },
   "outputs": [
    {
     "name": "stdout",
     "output_type": "stream",
     "text": [
      "0.65 0.93458929107348\n",
      "0.95 1.959963984540054\n",
      "0.99 2.5758293035489004\n",
      "0.999 3.2905267314919255\n"
     ]
    },
    {
     "data": {
      "text/plain": [
       "Text(0, 0.5, 'Покрываемая вероятность')"
      ]
     },
     "execution_count": 240,
     "metadata": {},
     "output_type": "execute_result"
    },
    {
     "data": {
      "image/png": "[encoded data removed]",
      "text/plain": [
       "<Figure size 432x288 with 1 Axes>"
      ]
     },
     "metadata": {
      "needs_background": "light"
     },
     "output_type": "display_data"
    }
   ],
   "source": [
    "N = np.linspace(0.5, 5, 20)\n",
    "P = [cumulative_density[np.abs(M-m).argmin()] - cumulative_density[np.abs(M+m).argmin()] \n",
    "     for m in N]\n",
    "\n",
    "plt.figure()\n",
    "plt.plot(N, P)\n",
    " \n",
    "\n",
    "# то же самое средствами scipy.stats\n",
    "plt.plot(N, norm.cdf(N) - norm.cdf(-N))\n",
    "plt.legend(['Calculated', 'Scipy.stats'])\n",
    "\n",
    "for p in [0.65,0.95, 0.99, 0.999]:\n",
    "    interval = norm.interval(p, loc=0, scale=1)[-1]\n",
    "    plt.axvline(interval, color='k', ls='--')\n",
    "    print(p, interval)\n",
    "    \n",
    "plt.xlabel('Границы интервала')\n",
    "plt.ylabel('Покрываемая вероятность')"
   ]
  },
  {
   "cell_type": "code",
   "execution_count": 247,
   "metadata": {},
   "outputs": [],
   "source": [
    "from scipy.stats import norm"
   ]
  },
  {
   "cell_type": "code",
   "execution_count": 251,
   "metadata": {},
   "outputs": [
    {
     "name": "stderr",
     "output_type": "stream",
     "text": [
      "<ipython-input-251-c33e3d0cea45>:1: DeprecationWarning: Use of keyword argument `alpha` for method `interval` is deprecated. Use first positional argument or keyword argument `confidence` instead.\n",
      "  norm.interval(alpha=1-0.05)\n"
     ]
    },
    {
     "data": {
      "text/plain": [
       "(-1.959963984540054, 1.959963984540054)"
      ]
     },
     "execution_count": 251,
     "metadata": {},
     "output_type": "execute_result"
    }
   ],
   "source": [
    "norm.interval(alpha=1-0.05)"
   ]
  },
  {
   "cell_type": "code",
   "execution_count": 241,
   "metadata": {
    "colab": {
     "base_uri": "https://localhost:8080/",
     "height": 265
    },
    "id": "kQNzAm8qhkHB",
    "outputId": "1ceca3ef-58ee-4e01-ba5b-a8c79251af53"
   },
   "outputs": [
    {
     "data": {
      "image/png": "[encoded data removed]",
      "text/plain": [
       "<Figure size 432x288 with 1 Axes>"
      ]
     },
     "metadata": {
      "needs_background": "light"
     },
     "output_type": "display_data"
    }
   ],
   "source": [
    "# то же самое на общем графике\n",
    "plt.figure()\n",
    "plt.hist(X, bins=100)\n",
    "for p in [0.65, 0.95, 0.99, 0.999]:\n",
    "    plt.axvline(norm.interval(p, loc=0, scale=1)[-1], color='k', ls='--')\n",
    "    plt.axvline(norm.interval(p, loc=0, scale=1)[0], color='k', ls='--')"
   ]
  },
  {
   "cell_type": "markdown",
   "metadata": {
    "id": "1qvozqJaiijj"
   },
   "source": [
    "### А если нужен интервал для среднего?"
   ]
  },
  {
   "cell_type": "code",
   "execution_count": 242,
   "metadata": {
    "colab": {
     "base_uri": "https://localhost:8080/",
     "height": 285
    },
    "id": "f5LN_aQOi2On",
    "outputId": "8eecc774-3b5a-4c33-e88c-7359fb1bd222"
   },
   "outputs": [
    {
     "data": {
      "text/plain": [
       "<matplotlib.legend.Legend at 0x7f90e9b6ce80>"
      ]
     },
     "execution_count": 242,
     "metadata": {},
     "output_type": "execute_result"
    },
    {
     "data": {
      "image/png": "[encoded data removed]",
      "text/plain": [
       "<Figure size 432x288 with 1 Axes>"
      ]
     },
     "metadata": {
      "needs_background": "light"
     },
     "output_type": "display_data"
    }
   ],
   "source": [
    "N_averages = 4\n",
    "\n",
    "XX = np.stack([norm.rvs(loc=0, scale=1, size=10000) for i in range(N_averages)], axis=0)\n",
    "X = XX[0]\n",
    "X_av = XX.mean(0)\n",
    "\n",
    "plt.figure()\n",
    "plt.hist(X, bins=np.linspace(-5, 5, 50), histtype='step');\n",
    "plt.hist(X_av, bins=np.linspace(-5, 5, 50), histtype='step');\n",
    "plt.legend(['Одна величина', f'Среднее {N_averages} величин'])"
   ]
  },
  {
   "cell_type": "code",
   "execution_count": 243,
   "metadata": {
    "colab": {
     "base_uri": "https://localhost:8080/",
     "height": 283
    },
    "id": "X4oiIPElkAAW",
    "outputId": "98101548-20f5-426e-d459-f4758a487d2c"
   },
   "outputs": [
    {
     "data": {
      "text/plain": [
       "[<matplotlib.lines.Line2D at 0x7f90e990af10>]"
      ]
     },
     "execution_count": 243,
     "metadata": {},
     "output_type": "execute_result"
    },
    {
     "data": {
      "image/png": "[encoded data removed]",
      "text/plain": [
       "<Figure size 432x288 with 1 Axes>"
      ]
     },
     "metadata": {
      "needs_background": "light"
     },
     "output_type": "display_data"
    }
   ],
   "source": [
    "M = np.linspace(-5, 5, 501)\n",
    "cumulative_density_one = [np.sum(X<m)/len(X) for m in M]\n",
    "cumulative_density_av = [np.sum(X_av<m)/len(X_av) for m in M]\n",
    "\n",
    "plt.figure()\n",
    "plt.plot(M, cumulative_density_one)\n",
    "plt.plot(M, cumulative_density_av)\n"
   ]
  },
  {
   "cell_type": "code",
   "execution_count": 244,
   "metadata": {
    "colab": {
     "base_uri": "https://localhost:8080/",
     "height": 265
    },
    "id": "6KURKdy8kk6G",
    "outputId": "7f90b511-d3a2-4fee-eea3-38779c9cb7bb"
   },
   "outputs": [
    {
     "data": {
      "image/png": "[encoded data removed]",
      "text/plain": [
       "<Figure size 432x288 with 1 Axes>"
      ]
     },
     "metadata": {
      "needs_background": "light"
     },
     "output_type": "display_data"
    }
   ],
   "source": [
    "N = M[M>0]\n",
    "P_one = [cumulative_density_one[np.abs(M-m).argmin()] - cumulative_density_one[np.abs(M+m).argmin()] for m in N]\n",
    "P_av  = [cumulative_density_av[np.abs(M-m).argmin()] - cumulative_density_av[np.abs(M+m).argmin()] for m in N]\n",
    "\n",
    "plt.figure()\n",
    "plt.plot(N, P_one)\n",
    "plt.plot(N, P_av)\n",
    "plt.grid(True)"
   ]
  },
  {
   "cell_type": "markdown",
   "metadata": {
    "id": "mHZvyl5Al5E3"
   },
   "source": [
    "Вспомним, что стандартная ошибка $\\sigma_{av} = \\frac{\\sigma_{pop}}{\\sqrt{n}}$"
   ]
  },
  {
   "cell_type": "code",
   "execution_count": 245,
   "metadata": {
    "colab": {
     "base_uri": "https://localhost:8080/",
     "height": 283
    },
    "id": "D2FFftv6jrVG",
    "outputId": "6d7f9681-5a27-476f-979f-85f27104ab08"
   },
   "outputs": [
    {
     "data": {
      "text/plain": [
       "[<matplotlib.lines.Line2D at 0x7f90edea5f70>]"
      ]
     },
     "execution_count": 245,
     "metadata": {},
     "output_type": "execute_result"
    },
    {
     "data": {
      "image/png": "[encoded data removed]",
      "text/plain": [
       "<Figure size 432x288 with 1 Axes>"
      ]
     },
     "metadata": {
      "needs_background": "light"
     },
     "output_type": "display_data"
    }
   ],
   "source": [
    "# Проверяем с учетом стандартной ошибки\n",
    "plt.figure()\n",
    "plt.plot(N, P_one)\n",
    "plt.plot(N*np.sqrt(N_averages), P_av)"
   ]
  },
  {
   "cell_type": "markdown",
   "metadata": {
    "id": "otJOKI7xmQPg"
   },
   "source": [
    "Значит, что интервал для среднего нескольких величин из одного нормального распределения $\\approx$ интервал для одиночной величины $/\\sqrt(n)$"
   ]
  },
  {
   "cell_type": "markdown",
   "metadata": {
    "id": "z0_JeAGnrlG2"
   },
   "source": [
    "# !!!!!!!!!!!! ДЗ 4\n",
    "1. Провести _руками_ вычисление (на самом деле, подбор) интервалов для каждой численной колонки ирисов для каждого класса, для группового распределения и для группового среднего, и сравнить ее со scipy.stats.norm.interval для полной вероятности 0.95, или для полной вероятности не вошедших точек 0.05\n",
    "\n",
    "Сниппет загрузки ирисов уже был\n",
    "\n",
    "Сниппет интервала для scipy внизу"
   ]
  },
  {
   "cell_type": "code",
   "execution_count": 253,
   "metadata": {
    "colab": {
     "base_uri": "https://localhost:8080/"
    },
    "id": "RlFasfUQsart",
    "outputId": "3bfe28b4-780c-48cb-cb76-ca192efa3ddf"
   },
   "outputs": [
    {
     "name": "stdout",
     "output_type": "stream",
     "text": [
      "[-10  -9  -8  -7  -6  -5  -4  -3  -2  -1   0   1   2   3   4   5   6   7\n",
      "   8   9  10]\n"
     ]
    },
    {
     "name": "stderr",
     "output_type": "stream",
     "text": [
      "<ipython-input-253-5e3e4a573eb7>:6: DeprecationWarning: Use of keyword argument `alpha` for method `interval` is deprecated. Use first positional argument or keyword argument `confidence` instead.\n",
      "  norm.interval(alpha=0.95,\n"
     ]
    },
    {
     "data": {
      "text/plain": [
       "(-11.86817130362205, 11.86817130362205)"
      ]
     },
     "execution_count": 253,
     "metadata": {},
     "output_type": "execute_result"
    }
   ],
   "source": [
    "# допустим, есть такая выборка\n",
    "\n",
    "from scipy.stats import norm\n",
    "import numpy as np\n",
    "samples = np.arange(-10, 11); print(samples)\n",
    "norm.interval(alpha=0.95, \n",
    "              loc=samples.mean(),\n",
    "              scale=samples.std())"
   ]
  },
  {
   "cell_type": "code",
   "execution_count": 255,
   "metadata": {},
   "outputs": [
    {
     "data": {
      "text/plain": [
       "array([ 1.7126836 ,  0.82715797, -0.09578215,  1.91287931,  0.93040446,\n",
       "        1.3178985 ,  0.07673369,  2.43574081, -0.20222737,  0.64488676])"
      ]
     },
     "execution_count": 255,
     "metadata": {},
     "output_type": "execute_result"
    }
   ],
   "source": [
    "norm.rvs(loc=1, scale=1, size=10)"
   ]
  },
  {
   "cell_type": "markdown",
   "metadata": {
    "id": "Nl5aM4KQjR1q"
   },
   "source": [
    "# Как оценить параметры распределения?\n",
    "\n",
    "Проблема — во всех экспериментах до этого мы **знали**, какими были параметры популяции, — $\\mu$, $\\sigma$\n",
    "\n",
    "Вопрос — исходя из конкретной реализации, какими будут наилучшие оценки для этих параметров (точечная оценка)?\n",
    "\n",
    "Какие оценки хорошие?\n",
    "- Несмещенные — нет систематического отклонения оценки среднего от истиного значения\n",
    "- Состоятельность — если при увеличении размера выборки $n \\rightarrow inf$ вероятность оценки параметра быть истиным стремится к 1\n",
    "- Эффективность — из всех других оценок обладает наименьшей дисперсией от истиного параметра\n",
    "\n",
    "Для оценки $\\mu$ для нормального распределения:\n",
    "1. Среднее по выборке $\\overline{x}$ — несмещенная, состоятельная, эффективная оценка\n",
    "2. Медиана по выборке $Median(x)$ - несмещенная, состоятельная, но не эффективная оценка, т.е. ее дисперсия выше, чем у среднего $\\overline{x}$\n",
    "\n",
    "Однако оценить $\\sigma^2$ нетривиально:\n",
    "1. Интуитивная оценка дисперсии $\\frac{1}{n}\\sum_{1}^{n}{(x_i - \\overline{x})^2}$ является только лишь *асимптотически* несмещённой, асимптотически эффективной, но состоятельной\n",
    "2. Наилучшей (несмещённой, состоятельной, эффективной) оценкой дисперсии является скорректированная дисперсия $\\frac{1}{n-1}\\sum_{1}^{n}{(x_i - \\overline{x})^2}$"
   ]
  },
  {
   "cell_type": "code",
   "execution_count": 82,
   "metadata": {
    "id": "xcdYkb8GLIsb"
   },
   "outputs": [],
   "source": [
    "from scipy.stats import norm\n",
    "from matplotlib import pyplot as plt\n",
    "import numpy as np"
   ]
  },
  {
   "cell_type": "code",
   "execution_count": 256,
   "metadata": {
    "colab": {
     "base_uri": "https://localhost:8080/"
    },
    "id": "7v1rRb4QnKsI",
    "outputId": "ea6cf3c3-fe35-4f78-a2ca-b97f536c45ee"
   },
   "outputs": [
    {
     "data": {
      "text/plain": [
       "(1000, 5000)"
      ]
     },
     "execution_count": 256,
     "metadata": {},
     "output_type": "execute_result"
    }
   ],
   "source": [
    "# Демонстрация смещенности оценки\n",
    "n_sets = 1000\n",
    "n_samples = 5000\n",
    "XX = norm.rvs(loc=0, scale=1, size=(n_sets, n_samples))\n",
    "XX.shape"
   ]
  },
  {
   "cell_type": "code",
   "execution_count": 85,
   "metadata": {
    "id": "be-z3FRGOa8G"
   },
   "outputs": [],
   "source": [
    "def biased(x, axis=-1):\n",
    "    return np.sum((x - x.mean(axis=axis, keepdims=True))**2, axis=axis, keepdims=True)/(x.shape[axis])\n",
    "\n",
    "def unbiased(x, axis=-1):\n",
    "    return np.sum((x - x.mean(axis=axis, keepdims=True))**2, axis=axis, keepdims=True)/(x.shape[axis]-1)  "
   ]
  },
  {
   "cell_type": "code",
   "execution_count": 86,
   "metadata": {
    "id": "fayiJAkDOfHC"
   },
   "outputs": [],
   "source": [
    "%%time\n",
    "# считается долго для хорошей картинки\n",
    "\n",
    "numbers = np.arange(2, n_samples+1)\n",
    "\n",
    "biased_var = np.concatenate([biased(XX[:, :i]) for i in numbers], axis=-1)\n",
    "unbiased_var = np.concatenate([unbiased(XX[:, :i]) for i in numbers], axis=-1)"
   ]
  },
  {
   "cell_type": "code",
   "execution_count": 87,
   "metadata": {
    "colab": {
     "base_uri": "https://localhost:8080/"
    },
    "id": "k0tBkVnVPI3S",
    "outputId": "0035e871-d571-466e-d20f-8ffed85eef38"
   },
   "outputs": [
    {
     "data": {
      "text/plain": [
       "((1000, 4999), (1000, 4999))"
      ]
     },
     "execution_count": 87,
     "metadata": {},
     "output_type": "execute_result"
    }
   ],
   "source": [
    "biased_var.shape, unbiased_var.shape"
   ]
  },
  {
   "cell_type": "code",
   "execution_count": 89,
   "metadata": {
    "colab": {
     "base_uri": "https://localhost:8080/",
     "height": 301
    },
    "id": "Q74a8foPu5d0",
    "outputId": "edeec59d-7bb8-484b-d678-8a68315dad1d"
   },
   "outputs": [
    {
     "data": {
      "text/plain": [
       "Text(0, 0.5, 'Точечная оценка дисперсии')"
      ]
     },
     "execution_count": 89,
     "metadata": {},
     "output_type": "execute_result"
    },
    {
     "data": {
      "image/png": "[encoded data removed]",
      "text/plain": [
       "<Figure size 432x288 with 1 Axes>"
      ]
     },
     "metadata": {
      "needs_background": "light"
     },
     "output_type": "display_data"
    }
   ],
   "source": [
    "plt.figure()\n",
    "plt.plot(numbers, np.mean(biased_var, 0))\n",
    "plt.plot(numbers, np.mean(unbiased_var, 0))\n",
    "plt.legend(['Biased', 'Unbiased'])\n",
    "plt.grid(True)\n",
    "plt.ylim(0.5, 1.5)\n",
    "plt.xscale('log')\n",
    "plt.xlabel('Размер выборки')\n",
    "plt.ylabel('Точечная оценка дисперсии')"
   ]
  },
  {
   "cell_type": "markdown",
   "metadata": {
    "id": "-vthb1duUARg"
   },
   "source": [
    "## Интервальные оценки с учетом малой выборки и доверительные интервалы"
   ]
  },
  {
   "cell_type": "markdown",
   "metadata": {
    "id": "RX6gwGZ6S8KY"
   },
   "source": [
    "Доверительные интервалы — стат. оценка того, где могло бы находиться истиное значение параметра распределения (обычно, это истиное среднее) с учетом работы с конкретной выборкой\n",
    "\n",
    "Если размер выборки большой ($N_{samples}>>1$), то в качестве интервальных оценок могут быть использованы интервалы с оценками среднего и вариацией из точечных оценок по выборке. Но если $N_{samples}=1..10$, то так делать нельзя."
   ]
  },
  {
   "cell_type": "markdown",
   "metadata": {
    "id": "q5pHpIgmZl55"
   },
   "source": [
    "**Почему?**  ~~Потому что матстат~~  \n",
    "Потому что мы _не знаем_ параметров генеральной выборки.\n",
    "Соответственно, интервальная оценка будет зависеть от того, какую форму представляет распределение $\\overline{x}$\n",
    "\n",
    "$\\overline{x} \\text{~Student's t-distribution}(\\mu, \\text{St.err}, N_{samples}-1)$  \n",
    "$\\mu$ — истиное значение среднего генеральной совокупности  \n",
    "$\\text{St.err}$ — стандартная ошибка по выборке  \n",
    "$N_{samples}-1$ — количество степеней свободы выборки\n"
   ]
  },
  {
   "cell_type": "markdown",
   "metadata": {
    "id": "DGuKdgDgcp-8"
   },
   "source": [
    "**А как на практике?**  \n",
    "Например, для расчета интервалов, надо будет использовать: ```scipy.stats.t.interval(alpha, df, loc=0, scale=1)```\n",
    "\n",
    "вот это чаще всего и называется доверительным интервалом"
   ]
  },
  {
   "cell_type": "code",
   "execution_count": 257,
   "metadata": {
    "colab": {
     "base_uri": "https://localhost:8080/",
     "height": 265
    },
    "id": "JfIRhTdqdYkA",
    "outputId": "11ef656d-7eef-47a8-fd48-54c3d0d47e06"
   },
   "outputs": [
    {
     "data": {
      "image/png": "[encoded data removed]",
      "text/plain": [
       "<Figure size 432x288 with 1 Axes>"
      ]
     },
     "metadata": {
      "needs_background": "light"
     },
     "output_type": "display_data"
    }
   ],
   "source": [
    "from scipy.stats import t\n",
    "coords = np.linspace(-3, 3, 101)\n",
    "plt.figure()\n",
    "plt.plot(coords, norm.pdf(coords), color='k', lw=3)\n",
    "plt.plot(coords, t.pdf(coords, df=2))\n",
    "plt.plot(coords, t.pdf(coords, df=5))\n",
    "plt.plot(coords, t.pdf(coords, df=10))\n",
    "plt.plot(coords, t.pdf(coords, df=20))\n",
    "plt.legend(['Norm', 't(df=2)', 't(df=5)', 't(df=10)', 't(df=20)'])\n",
    "plt.grid(True)"
   ]
  },
  {
   "cell_type": "code",
   "execution_count": 260,
   "metadata": {
    "colab": {
     "base_uri": "https://localhost:8080/",
     "height": 299
    },
    "id": "WPeqiKX2c-DI",
    "outputId": "2a873f1c-133e-4bed-8e54-622b87bd4430"
   },
   "outputs": [
    {
     "data": {
      "text/plain": [
       "Text(0.5, 1.0, 'Доверительные интервалы')"
      ]
     },
     "execution_count": 260,
     "metadata": {},
     "output_type": "execute_result"
    },
    {
     "data": {
      "image/png": "[encoded data removed]",
      "text/plain": [
       "<Figure size 432x288 with 1 Axes>"
      ]
     },
     "metadata": {
      "needs_background": "light"
     },
     "output_type": "display_data"
    }
   ],
   "source": [
    "from scipy.stats import t, norm\n",
    "from matplotlib import pyplot as plt\n",
    "import numpy as np\n",
    "\n",
    "X = norm.rvs(size=5, loc=0, scale=1) # для большого количества size будет сходиться, для малого - расходиться\n",
    "plt.figure()\n",
    "plt.hist(X, bins=10)\n",
    "\n",
    "for x in norm.interval(0.95, loc=0, scale=1/np.sqrt(len(X))):\n",
    "  plt.axvline(x, color='k')\n",
    "\n",
    "for x in t.interval(0.95, loc=0, scale=1/np.sqrt(len(X)), df=len(X)-1):\n",
    "  plt.axvline(x, color='r')\n",
    "\n",
    "plt.legend(['Left Norm', 'Right Norm', 'Left t', 'Right t'])\n",
    "\n",
    "plt.xlim(-3, 3)\n",
    "plt.grid(True)\n",
    "plt.title('Доверительные интервалы')"
   ]
  },
  {
   "cell_type": "markdown",
   "metadata": {},
   "source": [
    "# Переходим, наконец, к p-value"
   ]
  },
  {
   "cell_type": "markdown",
   "metadata": {
    "id": "dn_pjFLcROwD"
   },
   "source": [
    "# Каковы различия параметров распределений двух случайных величин (представленных выборками)\n",
    "\n",
    "В эксперименте мы обычно проводим измерения, которые создают данные. Данные могут относится к двум разным условиям проведения эксперимента (Conditions). Похожесть или различие данных может свидетельствовать о наличии эффекта, вызванного изменением условия."
   ]
  },
  {
   "cell_type": "markdown",
   "metadata": {
    "id": "PPXAi1S9foNl"
   },
   "source": [
    "## Но начнем с эффекта различия величины от 0\n",
    "\n",
    "У нас есть данные, и мы хотим узнать, отличаются ли они от нуля? А что значит, отличаются ли от 0?\n",
    "\n",
    "Что значит, что случайная величина $X \\approx 0$?  \n",
    "1. Допустим, все возможные реализации X строго равны 0 - вырожденный случай, т.е. вариация тождественна 0: $S^2==0$\n",
    "2. А если не вырожденный случай ($S^2>0$). Тогда мы _ожидаем_, что _хотя бы_ в среднем $\\overline{x} \\approx 0$\n",
    "\n",
    "Что значит ожидаем? Что с определенной вероятностью, _удобной_ нам, среднее значение случайной величины $X$ попадет в ожидаемый интервал.\n",
    "\n",
    "Тогда отличие случайной величины от 0 $X \\neq 0$, будет означать, что при данном _удобном_ нам уровне вероятности среднее случайной величины $\\overline{x}$ не попало в ожидаемый интервал.\n",
    "\n",
    "\n",
    "\n"
   ]
  },
  {
   "cell_type": "markdown",
   "metadata": {
    "id": "DHirWjc-1bHL"
   },
   "source": []
  },
  {
   "cell_type": "markdown",
   "metadata": {
    "id": "a_dYFSfLhy-C"
   },
   "source": [
    "Формулируем Гипотезу:  \n",
    "*Случайная величина $X$, представленная выборкой длины $N_{samples}$, имеет нормальное распределение со средним значением $\\mu \\approx 0$, при этом истиное значение вариации неизвестно*\n"
   ]
  },
  {
   "cell_type": "code",
   "execution_count": 270,
   "metadata": {
    "colab": {
     "base_uri": "https://localhost:8080/",
     "height": 283
    },
    "id": "fdZh2QK-jXse",
    "outputId": "1c594a67-03b9-4222-f0a6-a7530932f4f8"
   },
   "outputs": [],
   "source": [
    "# сравниваем существующую выборку с 0\n",
    "\n",
    "X = norm.rvs(loc=0, scale=1, size=5)\n",
    "variance = np.sum((X-X.mean())**2)/(len(X)-1)\n",
    "sterr = np.sqrt(variance)/np.sqrt(len(X))"
   ]
  },
  {
   "cell_type": "code",
   "execution_count": 281,
   "metadata": {
    "colab": {
     "base_uri": "https://localhost:8080/",
     "height": 283
    },
    "id": "fdZh2QK-jXse",
    "outputId": "1c594a67-03b9-4222-f0a6-a7530932f4f8"
   },
   "outputs": [
    {
     "data": {
      "text/plain": [
       "(-0.34117754726165483, (-0.24244725716476723, 0.24244725716476717))"
      ]
     },
     "execution_count": 281,
     "metadata": {},
     "output_type": "execute_result"
    },
    {
     "data": {
      "image/png": "[encoded data removed]",
      "text/plain": [
       "<Figure size 432x288 with 1 Axes>"
      ]
     },
     "metadata": {
      "needs_background": "light"
     },
     "output_type": "display_data"
    }
   ],
   "source": [
    "alpha=0.6\n",
    "\n",
    "plt.figure()\n",
    "plt.hist(X, bins=np.linspace(-3, 3, 31))\n",
    "plt.axvline(0, color = 'r', lw=2)\n",
    "plt.grid(True)\n",
    "plt.axvline(X.mean(), color='k', ls='-', lw=1)\n",
    "for x in t.interval(1-alpha, scale=sterr, loc=0, df=len(X)-1):\n",
    "  plt.axvline(x, color='k', ls='--', lw=1)\n",
    "plt.legend(['Pop mean', 'Sample mean', 'Left', 'Right'])\n",
    "plt.xlim(-4, 4)\n",
    "X.mean(), t.interval(1-alpha, scale=sterr, loc=0, df=len(X)-1)"
   ]
  },
  {
   "cell_type": "code",
   "execution_count": 284,
   "metadata": {
    "colab": {
     "base_uri": "https://localhost:8080/",
     "height": 284
    },
    "id": "4Esv0lTpk6qK",
    "outputId": "9078521e-693c-4c2b-cb9d-950193d31a8e"
   },
   "outputs": [
    {
     "data": {
      "text/plain": [
       "'Mean 1.461 interval (-0.6485495211438188, 0.6485495211438188)'"
      ]
     },
     "execution_count": 284,
     "metadata": {},
     "output_type": "execute_result"
    },
    {
     "data": {
      "image/png": "[encoded data removed]",
      "text/plain": [
       "<Figure size 432x288 with 1 Axes>"
      ]
     },
     "metadata": {
      "needs_background": "light"
     },
     "output_type": "display_data"
    }
   ],
   "source": [
    "# введем искусственно смещение\n",
    "X = norm.rvs(loc=1, scale=1, size=5) # loc = смещение\n",
    "variance = np.sum((X-X.mean())**2)/(len(X)-1)\n",
    "sterr = np.sqrt(variance)/np.sqrt(len(X))\n",
    "\n",
    "P = 1-0.05\n",
    "\n",
    "plt.figure()\n",
    "plt.hist(X, bins=np.linspace(-3, 3, 31))\n",
    "plt.axvline(0, color = 'r', lw=2)\n",
    "plt.grid(True)\n",
    "plt.axvline(X.mean(), color='k', ls='-', lw=2)\n",
    "for x in t.interval(P, scale=sterr, loc=0, df=len(X)-1):\n",
    "  plt.axvline(x, color='k', ls='--', lw=1)\n",
    "plt.legend([ 'Pop mean', 'Sample mean', 'Left', 'Right'])\n",
    "\n",
    "f'Mean {X.mean():.3f} interval {t.interval(P, scale=sterr, loc=0, df=len(X)-1)}'"
   ]
  },
  {
   "cell_type": "markdown",
   "metadata": {
    "id": "O4AFWS1M_SCt"
   },
   "source": [
    "**Что такое t-test?**"
   ]
  },
  {
   "cell_type": "code",
   "execution_count": 292,
   "metadata": {
    "colab": {
     "base_uri": "https://localhost:8080/",
     "height": 283
    },
    "id": "J2NB8l3Y-OoJ",
    "outputId": "e43f52cb-e528-40b2-ebf9-8f6fed4718bf"
   },
   "outputs": [
    {
     "name": "stdout",
     "output_type": "stream",
     "text": [
      "Mean 1.189 interval -0.735:0.735\n"
     ]
    },
    {
     "data": {
      "image/png": "[encoded data removed]",
      "text/plain": [
       "<Figure size 432x288 with 1 Axes>"
      ]
     },
     "metadata": {
      "needs_background": "light"
     },
     "output_type": "display_data"
    }
   ],
   "source": [
    "\n",
    "from scipy.stats import ttest_1samp\n",
    "\n",
    "# введем искусственно смещение\n",
    "X = norm.rvs(loc=1, scale=1, size=10)\n",
    "variance = np.sum((X-X.mean())**2)/(len(X)-1)\n",
    "sterr = np.sqrt(variance)/np.sqrt(len(X))\n",
    "\n",
    "plt.figure()\n",
    "plt.hist(X, bins=np.linspace(-3, 3, 31))\n",
    "plt.axvline(0, color = 'r', lw=2)\n",
    "plt.grid(True)\n",
    "plt.axvline(X.mean(), color='k', ls='-', lw=1)\n",
    "\n",
    "t_interval = t.interval(0.95, scale=sterr, loc=0, df=len(X)-1)\n",
    "for x in t_interval:\n",
    "  plt.axvline(x, color='k', ls='--', lw=1)\n",
    "plt.legend([ 'Pop mean', 'Sample mean', 'Left', 'Right'])\n",
    "\n",
    "print(f'Mean {X.mean():.3f} interval {t_interval[0]:.3f}:{t_interval[1]:.3f}')\n"
   ]
  },
  {
   "cell_type": "markdown",
   "metadata": {
    "id": "swRYbVBtCPEP"
   },
   "source": [
    "$t_{statistic} = \\frac{\\overline{x} - \\mu}{\\text{St.err}}$"
   ]
  },
  {
   "cell_type": "code",
   "execution_count": 293,
   "metadata": {
    "colab": {
     "base_uri": "https://localhost:8080/"
    },
    "id": "RlEBNU7fCRPY",
    "outputId": "0ce8a8cd-f069-4edc-8029-4ce699f3642b"
   },
   "outputs": [
    {
     "name": "stdout",
     "output_type": "stream",
     "text": [
      "3.6593691577064\n"
     ]
    }
   ],
   "source": [
    "tstatistic = (X.mean() - 0)/sterr\n",
    "print(tstatistic)"
   ]
  },
  {
   "cell_type": "markdown",
   "metadata": {
    "id": "IUgFn36aBYgn"
   },
   "source": [
    "Если бы гипотеза выполнялась, то интервал, расчитанный по границе, приходящейся на точечную оценку среднего по существующей выборке, покрывал бы кумулятивную вероятность..."
   ]
  },
  {
   "cell_type": "code",
   "execution_count": 294,
   "metadata": {
    "colab": {
     "base_uri": "https://localhost:8080/"
    },
    "id": "cK4114TvA3ua",
    "outputId": "d493f9bf-c6f0-47c7-ed30-02d541202f73"
   },
   "outputs": [
    {
     "data": {
      "text/plain": [
       "0.9947593461813099"
      ]
     },
     "execution_count": 294,
     "metadata": {},
     "output_type": "execute_result"
    }
   ],
   "source": [
    "cumulative_probability = t.cdf(tstatistic, df=len(X)-1) - t.cdf(-tstatistic, df=len(X)-1)\n",
    "cumulative_probability"
   ]
  },
  {
   "cell_type": "markdown",
   "metadata": {
    "id": "HmoVLg8jCaSj"
   },
   "source": [
    "А что осталось за хвостом интервала?"
   ]
  },
  {
   "cell_type": "code",
   "execution_count": 295,
   "metadata": {
    "colab": {
     "base_uri": "https://localhost:8080/"
    },
    "id": "5eiKnxPwChAl",
    "outputId": "7da4aee7-ec92-4fac-d8ea-c199463125b9"
   },
   "outputs": [
    {
     "data": {
      "text/plain": [
       "0.0052406538186901"
      ]
     },
     "execution_count": 295,
     "metadata": {},
     "output_type": "execute_result"
    }
   ],
   "source": [
    "1-cumulative_probability"
   ]
  },
  {
   "cell_type": "markdown",
   "metadata": {},
   "source": [
    "* - 0.05, ** -- 0.01, *** - 0.005"
   ]
  },
  {
   "cell_type": "code",
   "execution_count": 296,
   "metadata": {
    "colab": {
     "base_uri": "https://localhost:8080/"
    },
    "id": "7JSIQ-isAqBm",
    "outputId": "0a8c5897-b905-465b-dc14-4fb40b3153f6"
   },
   "outputs": [
    {
     "name": "stdout",
     "output_type": "stream",
     "text": [
      "Ttest_1sampResult(statistic=3.6593691577064, pvalue=0.005240653818690115)\n"
     ]
    }
   ],
   "source": [
    "print(ttest_1samp(X, popmean=0))"
   ]
  },
  {
   "cell_type": "markdown",
   "metadata": {
    "id": "sLGVZWTyDydj"
   },
   "source": [
    "Интерпретация: из-за того, что среднее не попадает в ожидаемый интервал, построенный по _удобному_ значению уровня вероятности (например, 0.95), мы отвергаем гипотезу, что среднее популяции случайной величины равно 0. Уровень значимости\n",
    "\n",
    "$\\text{p-value} = 1-\\text{удобная вероятность} = 1-0.95 = 0.05$ "
   ]
  },
  {
   "cell_type": "markdown",
   "metadata": {
    "id": "WQv5X1eNCz98"
   },
   "source": [
    "![Дабумтсс](https://www.meme-arsenal.com/memes/578c61569acfb16525ccd7b3025319d0.jpg)"
   ]
  },
  {
   "cell_type": "markdown",
   "metadata": {
    "id": "ikhj_UufE9Vf"
   },
   "source": [
    "## Что такое мощность статистического теста?\n",
    "\n",
    "Это false negative rate, или вероятность неправильного отклонения Нуль-гипотезы, хоть она, на самом деле, верна."
   ]
  },
  {
   "cell_type": "code",
   "execution_count": 298,
   "metadata": {
    "colab": {
     "base_uri": "https://localhost:8080/"
    },
    "id": "OB-IcX9VFPym",
    "outputId": "44803c43-ce19-402f-d596-e29125a29d6a"
   },
   "outputs": [
    {
     "data": {
      "text/plain": [
       "(10000, 100)"
      ]
     },
     "execution_count": 298,
     "metadata": {},
     "output_type": "execute_result"
    }
   ],
   "source": [
    "n_sets = 10000\n",
    "n_samples = 100\n",
    "XX = norm.rvs(loc=0, scale=1, size=(n_sets, n_samples)) # они ВСЕ из одной выборки\n",
    "\n",
    "XX.shape"
   ]
  },
  {
   "cell_type": "code",
   "execution_count": 299,
   "metadata": {
    "colab": {
     "base_uri": "https://localhost:8080/"
    },
    "id": "dRoRqbDvFZ_7",
    "outputId": "2db2f3a5-63fe-48cb-87ff-7565c5673f5c"
   },
   "outputs": [
    {
     "data": {
      "text/plain": [
       "503"
      ]
     },
     "execution_count": 299,
     "metadata": {},
     "output_type": "execute_result"
    }
   ],
   "source": [
    "pv_thresh = 0.05\n",
    "(ttest_1samp(XX, popmean=0, axis=-1).pvalue<pv_thresh).sum()"
   ]
  },
  {
   "cell_type": "markdown",
   "metadata": {
    "id": "_N9OaMg6G_6D"
   },
   "source": [
    "## Что такое мощность эффекта и при чем тут сигма?\n",
    "\n",
    "$d=\\frac{\\text{Измеренная величина} - \\text{Ожидаемая величина}}{\\text{Разброс величины}}$\n",
    "\n",
    "$d = \\frac{\\overline{x} - \\mu}{\\text{St.err}} = t_{statistic}$\n",
    "\n",
    "Но что если интерпретировать p-values в рамках нормального распределения (агностичного к степеням свободы)?\n",
    "\n",
    "величина эффекта будет называться $z = \\frac{\\overline{x} - \\mu}{\\sigma}$ \n"
   ]
  },
  {
   "cell_type": "code",
   "execution_count": 300,
   "metadata": {
    "colab": {
     "base_uri": "https://localhost:8080/",
     "height": 1000
    },
    "id": "iEwwPOQvIlH3",
    "outputId": "ced71acd-c6eb-4467-ec04-6e344d9e688d"
   },
   "outputs": [
    {
     "data": {
      "image/png": "[encoded data removed]",
      "text/plain": [
       "<Figure size 432x288 with 1 Axes>"
      ]
     },
     "metadata": {
      "needs_background": "light"
     },
     "output_type": "display_data"
    },
    {
     "data": {
      "image/png": "[encoded data removed]",
      "text/plain": [
       "<Figure size 432x288 with 1 Axes>"
      ]
     },
     "metadata": {
      "needs_background": "light"
     },
     "output_type": "display_data"
    },
    {
     "data": {
      "image/png": "[encoded data removed]",
      "text/plain": [
       "<Figure size 432x288 with 1 Axes>"
      ]
     },
     "metadata": {
      "needs_background": "light"
     },
     "output_type": "display_data"
    },
    {
     "data": {
      "image/png": "[encoded data removed]",
      "text/plain": [
       "<Figure size 432x288 with 1 Axes>"
      ]
     },
     "metadata": {
      "needs_background": "light"
     },
     "output_type": "display_data"
    },
    {
     "data": {
      "image/png": "[encoded data removed]",
      "text/plain": [
       "<Figure size 432x288 with 1 Axes>"
      ]
     },
     "metadata": {
      "needs_background": "light"
     },
     "output_type": "display_data"
    },
    {
     "data": {
      "image/png": "[encoded data removed]",
      "text/plain": [
       "<Figure size 432x288 with 1 Axes>"
      ]
     },
     "metadata": {
      "needs_background": "light"
     },
     "output_type": "display_data"
    },
    {
     "data": {
      "image/png": "[encoded data removed]",
      "text/plain": [
       "<Figure size 432x288 with 1 Axes>"
      ]
     },
     "metadata": {
      "needs_background": "light"
     },
     "output_type": "display_data"
    }
   ],
   "source": [
    "# положим сигму = 1, а популяционное среднее - 0\n",
    "for effect in [0,1,2,3,4,5,6]:\n",
    "  plt.figure()\n",
    "  plt.hist(norm.rvs(size=1000, loc=effect, scale=1), bins=100, histtype='step')\n",
    "  plt.axvline(0, color='k', lw=2)\n",
    "  plt.title(f'd={effect}, эффективное pvalue={1 - (norm.cdf(effect) - norm.cdf(-effect)):.9f}')\n",
    "  plt.xlim(-10, 10)"
   ]
  },
  {
   "cell_type": "markdown",
   "metadata": {
    "id": "7fnK2lRtDSiB"
   },
   "source": [
    "## А что если теперь у нас две случайные величины, представленные своими выборками?"
   ]
  },
  {
   "cell_type": "markdown",
   "metadata": {
    "id": "e42pZ_Y3DdLr"
   },
   "source": [
    "Гипотеза:\n",
    "\n",
    "Среднее популяции одной случайной величины X1 равно среднему популяции другой случайной величины X2, а их дисперсии одинаковы.\n",
    "\n",
    "$t_{statistic} = \\frac{\\overline{x_1} - \\overline{x_2}}{S_{общее}}$\n",
    "\n",
    "$S_{общее} \\approx \\sigma_1 = \\sigma_2$\n"
   ]
  },
  {
   "cell_type": "code",
   "execution_count": 301,
   "metadata": {
    "colab": {
     "base_uri": "https://localhost:8080/",
     "height": 1000
    },
    "id": "4LT9UpORR6k3",
    "outputId": "9319b8b8-11ce-4e4b-b5c4-51f3beeaf9c9"
   },
   "outputs": [
    {
     "data": {
      "image/png": "[encoded data removed]",
      "text/plain": [
       "<Figure size 432x288 with 1 Axes>"
      ]
     },
     "metadata": {
      "needs_background": "light"
     },
     "output_type": "display_data"
    },
    {
     "data": {
      "image/png": "[encoded data removed]",
      "text/plain": [
       "<Figure size 432x288 with 1 Axes>"
      ]
     },
     "metadata": {
      "needs_background": "light"
     },
     "output_type": "display_data"
    },
    {
     "data": {
      "image/png": "[encoded data removed]",
      "text/plain": [
       "<Figure size 432x288 with 1 Axes>"
      ]
     },
     "metadata": {
      "needs_background": "light"
     },
     "output_type": "display_data"
    },
    {
     "data": {
      "image/png": "[encoded data removed]",
      "text/plain": [
       "<Figure size 432x288 with 1 Axes>"
      ]
     },
     "metadata": {
      "needs_background": "light"
     },
     "output_type": "display_data"
    },
    {
     "data": {
      "image/png": "[encoded data removed]",
      "text/plain": [
       "<Figure size 432x288 with 1 Axes>"
      ]
     },
     "metadata": {
      "needs_background": "light"
     },
     "output_type": "display_data"
    },
    {
     "data": {
      "image/png": "[encoded data removed]",
      "text/plain": [
       "<Figure size 432x288 with 1 Axes>"
      ]
     },
     "metadata": {
      "needs_background": "light"
     },
     "output_type": "display_data"
    },
    {
     "data": {
      "image/png": "[encoded data removed]",
      "text/plain": [
       "<Figure size 432x288 with 1 Axes>"
      ]
     },
     "metadata": {
      "needs_background": "light"
     },
     "output_type": "display_data"
    }
   ],
   "source": [
    "\n",
    "from scipy.stats import ttest_ind\n",
    "\n",
    "for effect in [0,1,2,3,4,5,6]:\n",
    "  plt.figure()\n",
    "  X1 = norm.rvs(size=10, loc=-effect/2, scale=1)\n",
    "  X2 = norm.rvs(size=10, loc=effect/2, scale=1)\n",
    "  plt.hist(X1, bins=np.linspace(-5, 10, 31), histtype='step')\n",
    "  plt.hist(X2, bins=np.linspace(-5, 10, 31), histtype='step')\n",
    "  # plt.grid(True)\n",
    "  plt.title(f'd={effect},  ttest_ind pvalue={ttest_ind(X1, X2, equal_var=True).pvalue:.3f}')\n",
    "  plt.xlim(-10, 10)\n"
   ]
  },
  {
   "cell_type": "markdown",
   "metadata": {
    "id": "A9RhDuk-N0NV"
   },
   "source": [
    "А если дисперсии разные, то вместо\n",
    "\n",
    "$S_{общее} = S_{Welch} = \\sqrt{S_1^2+S_2^2}$\n",
    "\n",
    "Интерпретация — эффективно будет изучаться гипотетическая разница $X_1 - X_2$, порожденная генеральными выборками, но с параметрами из точечных оценок по конкретным выборкам.\n",
    "\n",
    "На практике — ставите `equal_var=False`"
   ]
  },
  {
   "cell_type": "code",
   "execution_count": 302,
   "metadata": {
    "colab": {
     "base_uri": "https://localhost:8080/",
     "height": 299
    },
    "id": "FpSINj7gOW20",
    "outputId": "9002a082-02cb-47e8-a39c-a68b63c21474"
   },
   "outputs": [
    {
     "data": {
      "text/plain": [
       "(-10.0, 10.0)"
      ]
     },
     "execution_count": 302,
     "metadata": {},
     "output_type": "execute_result"
    },
    {
     "data": {
      "image/png": "[encoded data removed]",
      "text/plain": [
       "<Figure size 432x288 with 1 Axes>"
      ]
     },
     "metadata": {
      "needs_background": "light"
     },
     "output_type": "display_data"
    }
   ],
   "source": [
    "plt.figure()\n",
    "X1 = norm.rvs(size=10, loc=0, scale=1)\n",
    "X2 = norm.rvs(size=10, loc=1, scale=2)\n",
    "plt.hist(X1, bins=np.linspace(-5, 10, 31), histtype='step')\n",
    "plt.hist(X2, bins=np.linspace(-5, 10, 31), histtype='step')\n",
    "# plt.grid(True)\n",
    "plt.title(f'd={effect},  ttest_ind pvalue={ttest_ind(X1, X2, equal_var=False).pvalue:.3f}')\n",
    "plt.xlim(-10, 10)"
   ]
  },
  {
   "cell_type": "markdown",
   "metadata": {
    "id": "Jr7-rxzUfcqe"
   },
   "source": [
    "## Что такое парные измерения? \n",
    "\n",
    "Когда одно измерение порождает два значения\n",
    "\n",
    "Например, значения ЭЭГ потенциала до и после стимула\n",
    "\n",
    "Тогда случайная величина $X = X_1 - X_2$ и дальше работать как с одной величиной"
   ]
  },
  {
   "cell_type": "markdown",
   "metadata": {
    "id": "HAu-aputh50u"
   },
   "source": [
    "# Что такое проблема множественных сравнений и зачем корректировать p-value? (False discovery rate correction)\n"
   ]
  },
  {
   "cell_type": "markdown",
   "metadata": {
    "id": "wdarWGlRiCfL"
   },
   "source": [
    "Примеры:\n",
    "- Если мы измеряем потенциал по электродам, а потом производим попарные сравнения выборок между собой. Тогда каждый из электродов будет участвовать в сравнении несколько раз.\n",
    "- Если мы производим измерения различных параметров, а потом сравниваем их друг с другом == \"абсолютное значение второй производной через 350 мс после начала максимального наклона потенциала ERP, отфильтрованного в диапазоне 1-24 Гц\"\n",
    "\n",
    "!!! Чем больше похожих сравнений, тем выше вероятность получить достоверное отклонение"
   ]
  },
  {
   "cell_type": "code",
   "execution_count": 305,
   "metadata": {
    "colab": {
     "base_uri": "https://localhost:8080/"
    },
    "id": "4aG-iPJgj9ew",
    "outputId": "18075f67-7637-46e0-c8e4-e4a91c89812a"
   },
   "outputs": [
    {
     "data": {
      "text/plain": [
       "(32, 10)"
      ]
     },
     "execution_count": 305,
     "metadata": {},
     "output_type": "execute_result"
    }
   ],
   "source": [
    "n_samples=10\n",
    "n_sets = 32\n",
    "XX = norm.rvs(size=(n_sets, n_samples), random_state=44, loc=0, scale=1)\n",
    "\n",
    "XX.shape"
   ]
  },
  {
   "cell_type": "code",
   "execution_count": 306,
   "metadata": {
    "colab": {
     "base_uri": "https://localhost:8080/",
     "height": 284
    },
    "id": "UTd-_HrxkK0o",
    "outputId": "53a2c084-be84-4bc8-e5d9-9f40bf48409e"
   },
   "outputs": [
    {
     "data": {
      "text/plain": [
       "<matplotlib.image.AxesImage at 0x7f90fac34220>"
      ]
     },
     "execution_count": 306,
     "metadata": {},
     "output_type": "execute_result"
    },
    {
     "data": {
      "image/png": "[encoded data removed]",
      "text/plain": [
       "<Figure size 432x288 with 1 Axes>"
      ]
     },
     "metadata": {
      "needs_background": "light"
     },
     "output_type": "display_data"
    }
   ],
   "source": [
    "pvals = np.array([[ttest_ind(X1, X2).pvalue for X1 in XX] for X2 in XX])\n",
    "plt.imshow(pvals<0.05, cmap='bwr')"
   ]
  },
  {
   "cell_type": "code",
   "execution_count": 111,
   "metadata": {},
   "outputs": [],
   "source": [
    "import mne"
   ]
  },
  {
   "cell_type": "code",
   "execution_count": 307,
   "metadata": {
    "colab": {
     "base_uri": "https://localhost:8080/",
     "height": 284
    },
    "id": "cSJAa95zlJ7s",
    "outputId": "2e4127b4-83f4-4bd7-a273-88e2b517434d"
   },
   "outputs": [
    {
     "data": {
      "text/plain": [
       "<matplotlib.image.AxesImage at 0x7f90fab21fd0>"
      ]
     },
     "execution_count": 307,
     "metadata": {},
     "output_type": "execute_result"
    },
    {
     "data": {
      "image/png": "[encoded data removed]",
      "text/plain": [
       "<Figure size 432x288 with 1 Axes>"
      ]
     },
     "metadata": {
      "needs_background": "light"
     },
     "output_type": "display_data"
    }
   ],
   "source": [
    "# Корректировка по Бенферрони\n",
    "\n",
    "# p_thresh = 0.05/32\n",
    "pvals = np.array([mne.stats.bonferroni_correction([ttest_ind(X1, X2).pvalue \n",
    "                                                  for X1 in XX], alpha=0.05)[1]\n",
    "                  for X2 in XX])\n",
    "plt.imshow(pvals<0.05, cmap='bwr')"
   ]
  },
  {
   "cell_type": "code",
   "execution_count": 308,
   "metadata": {
    "colab": {
     "base_uri": "https://localhost:8080/",
     "height": 284
    },
    "id": "drAfCBluoptw",
    "outputId": "30bab447-425a-448d-c775-9cd1fbca6b13"
   },
   "outputs": [
    {
     "data": {
      "text/plain": [
       "<matplotlib.image.AxesImage at 0x7f90faa07d30>"
      ]
     },
     "execution_count": 308,
     "metadata": {},
     "output_type": "execute_result"
    },
    {
     "data": {
      "image/png": "[encoded data removed]",
      "text/plain": [
       "<Figure size 432x288 with 1 Axes>"
      ]
     },
     "metadata": {
      "needs_background": "light"
     },
     "output_type": "display_data"
    }
   ],
   "source": [
    "# Корректировка False Discovery Rate Бенджамини-Хокберга\n",
    "pvals = np.array([mne.stats.fdr_correction([ttest_ind(X1, X2).pvalue \n",
    "                                                  for X1 in XX], alpha=0.05)[1]\n",
    "                  for X2 in XX])\n",
    "plt.imshow(pvals<0.05, cmap='bwr')"
   ]
  },
  {
   "cell_type": "markdown",
   "metadata": {
    "id": "x-NwaNzTq6GN"
   },
   "source": [
    "# Непараметрические тесты"
   ]
  },
  {
   "cell_type": "markdown",
   "metadata": {
    "id": "wS8dvyvNq8-H"
   },
   "source": [
    "## Wilcoxon signed rank\n",
    "\n",
    "Гипотеза: случайная величина X (или парная разница X1-X2) распределена симметрично относительно 0 \n",
    "\n",
    "Статистика: сумма знаков отсортированных по модулю величин"
   ]
  },
  {
   "cell_type": "code",
   "execution_count": 309,
   "metadata": {
    "colab": {
     "base_uri": "https://localhost:8080/",
     "height": 283
    },
    "id": "BYTNMOFurvUJ",
    "outputId": "0aa4c6ff-0095-4755-b323-2851d26f44d7"
   },
   "outputs": [
    {
     "data": {
      "image/png": "[encoded data removed]",
      "text/plain": [
       "<Figure size 432x288 with 1 Axes>"
      ]
     },
     "metadata": {
      "needs_background": "light"
     },
     "output_type": "display_data"
    }
   ],
   "source": [
    "from scipy.stats import uniform\n",
    "X = uniform.rvs(loc=-1, scale=2.5, size=100)\n",
    "plt.hist(X, bins=100);\n"
   ]
  },
  {
   "cell_type": "code",
   "execution_count": 310,
   "metadata": {
    "colab": {
     "base_uri": "https://localhost:8080/"
    },
    "id": "uYEdLn77swy4",
    "outputId": "b0e5d689-67fe-45cf-a9ab-242d2100c893"
   },
   "outputs": [
    {
     "data": {
      "text/plain": [
       "WilcoxonResult(statistic=1509.0, pvalue=0.0004770222417899159)"
      ]
     },
     "execution_count": 310,
     "metadata": {},
     "output_type": "execute_result"
    }
   ],
   "source": [
    "from scipy.stats import wilcoxon\n",
    "wilcoxon(X)"
   ]
  },
  {
   "cell_type": "markdown",
   "metadata": {
    "id": "us7mC3RftfvC"
   },
   "source": [
    "## Mann-Whitney U-test (Rank sum test)\n",
    "\n",
    "Если две случайных величины X1 и X2 независимы \n",
    "\n",
    "Гипотеза — распределения X1 и X2 таковы, что P(x1>x2)==P(x2>x1)\n",
    "\n",
    "Статистика — сравнение разниц всех комбинаций пар из X1 и X2\n",
    "\n",
    "Например, для грубых оценок психометрических эффектов\n",
    "\n"
   ]
  },
  {
   "cell_type": "code",
   "execution_count": 311,
   "metadata": {
    "colab": {
     "base_uri": "https://localhost:8080/"
    },
    "id": "yHgKCBV6ubes",
    "outputId": "12d439f4-1d6e-4a5a-f6bb-bbc31e6572f4"
   },
   "outputs": [
    {
     "data": {
      "text/plain": [
       "MannwhitneyuResult(statistic=116.5, pvalue=0.04098950803516552)"
      ]
     },
     "execution_count": 311,
     "metadata": {},
     "output_type": "execute_result"
    }
   ],
   "source": [
    "from scipy.stats import mannwhitneyu\n",
    "\n",
    "no_drug_group   = np.random.choice(np.arange(3,8), size=100)\n",
    "with_drug_group = np.random.choice(np.arange(4,9), size=5)\n",
    "\n",
    "mannwhitneyu(no_drug_group, with_drug_group)"
   ]
  },
  {
   "cell_type": "markdown",
   "metadata": {
    "id": "CNDxlbHbwTCp"
   },
   "source": [
    "# Корреляционные тесты"
   ]
  },
  {
   "cell_type": "markdown",
   "metadata": {
    "id": "F147Y2qTwWRC"
   },
   "source": [
    "## Корреляционный тест Пирсона\n",
    "\n",
    "Тест параметрический\n",
    "\n",
    "Гипотеза — коэффициент корреляции между случайными нормально-распределенными величинами X1 и X2 равен 0\n",
    "\n",
    "Статистика — коэффициент корреляции"
   ]
  },
  {
   "cell_type": "code",
   "execution_count": 315,
   "metadata": {
    "colab": {
     "base_uri": "https://localhost:8080/",
     "height": 283
    },
    "id": "W_gQCI8zxcSJ",
    "outputId": "597bd2fd-e73e-4670-957b-8a79e3e2536b"
   },
   "outputs": [
    {
     "name": "stdout",
     "output_type": "stream",
     "text": [
      "Коэф. корреляции 0.20270332202709515 pvalue= 0.04311470408888646\n"
     ]
    },
    {
     "data": {
      "image/png": "[encoded data removed]",
      "text/plain": [
       "<Figure size 432x288 with 1 Axes>"
      ]
     },
     "metadata": {
      "needs_background": "light"
     },
     "output_type": "display_data"
    }
   ],
   "source": [
    "X1 = norm.rvs(size=(100), random_state=42)\n",
    "X2 = (X1*0.15) + norm.rvs(size=X1.shape, random_state=51)\n",
    "plt.figure()\n",
    "plt.plot(X1, X2, '.')\n",
    "\n",
    "from scipy.stats import pearsonr\n",
    "c, pv = pearsonr(X1, X2)\n",
    "print('Коэф. корреляции', c, 'pvalue=', pv)\n",
    "\n",
    "plt.plot(X1, c*X1, '-', color='k');\n"
   ]
  },
  {
   "cell_type": "markdown",
   "metadata": {
    "id": "3B6joyy9yE8X"
   },
   "source": [
    "## Корреляционный тест Спирмана\n",
    "\n",
    "Непараметрический корреляционный тест \n",
    "\n",
    "Гипотеза — непараметрический ранговый коэффициент корреляции между двумя случайныйми величинами X1 и X2 = 0\n",
    "\n",
    "Статистика — взвешенная сумма разниц рангов пар X1 и X2\n",
    "\n",
    "Интерпретация: зависимость между X1 и X2 — монотонная"
   ]
  },
  {
   "cell_type": "code",
   "execution_count": 316,
   "metadata": {
    "colab": {
     "base_uri": "https://localhost:8080/",
     "height": 283
    },
    "id": "9cC9eSChyD_v",
    "outputId": "18796ed6-89f6-409a-8f36-6cf2d278979a"
   },
   "outputs": [
    {
     "name": "stdout",
     "output_type": "stream",
     "text": [
      "Коэф. корреляции 0.23081908190819078 pvalue= 0.02086249536911837\n"
     ]
    },
    {
     "data": {
      "image/png": "[encoded data removed]",
      "text/plain": [
       "<Figure size 432x288 with 1 Axes>"
      ]
     },
     "metadata": {
      "needs_background": "light"
     },
     "output_type": "display_data"
    }
   ],
   "source": [
    "X1 = norm.rvs(size=(100), random_state=42)\n",
    "X2 = (X1*0.15) + norm.rvs(size=X1.shape, random_state=51)\n",
    "plt.figure()\n",
    "plt.plot(X1, X2, '.')\n",
    "\n",
    "from scipy.stats import spearmanr\n",
    "c, pv = spearmanr(X1, X2)\n",
    "print('Коэф. корреляции', c, 'pvalue=', pv)\n",
    "\n",
    "plt.plot(X1, c*X1, '-', color='k');\n"
   ]
  },
  {
   "cell_type": "markdown",
   "metadata": {},
   "source": [
    "# !!!!!!!!!!!! ДЗ 5\n",
    "1. Провести _руками_ вычисление pvalue по t-test проверки гипотезы о различии каждой пары групп ирисов для каждой численной колонки\n",
    "\n",
    "Всего будет 3*4=12 сравнений\n",
    "Обратите внимание на проверку с корректировкой на False Discovery Rate (MNE)\n",
    "\n",
    "Сниппет загрузки  Ирисов уже был"
   ]
  },
  {
   "cell_type": "markdown",
   "metadata": {},
   "source": [
    "# Куда дальше?\n",
    "\n",
    "- Изучить python и поиграть с `scipy.stats` в этой тетрадке\n",
    "- Попробовать использовать интерфейсы Statsmodels и проникнуться их подходом https://www.statsmodels.org/\n"
   ]
  },
  {
   "cell_type": "code",
   "execution_count": null,
   "metadata": {},
   "outputs": [],
   "source": []
  }
 ],
 "metadata": {
  "colab": {
   "collapsed_sections": [],
   "name": "About p-value",
   "provenance": []
  },
  "kernelspec": {
   "display_name": "Python 3",
   "language": "python",
   "name": "python3"
  },
  "language_info": {
   "codemirror_mode": {
    "name": "ipython",
    "version": 3
   },
   "file_extension": ".py",
   "mimetype": "text/x-python",
   "name": "python",
   "nbconvert_exporter": "python",
   "pygments_lexer": "ipython3",
   "version": "3.8.13"
  }
 },
 "nbformat": 4,
 "nbformat_minor": 4
}
